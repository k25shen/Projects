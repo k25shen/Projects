{
  "nbformat": 4,
  "nbformat_minor": 0,
  "metadata": {
    "colab": {
      "name": "heart_failure_prediction.ipynb",
      "provenance": [],
      "authorship_tag": "ABX9TyNpVrM5202fTtABLZAg6tLu"
    },
    "kernelspec": {
      "name": "python3",
      "display_name": "Python 3"
    }
  },
  "cells": [
    {
      "cell_type": "code",
      "metadata": {
        "id": "nzA3sTpZkEQz",
        "colab_type": "code",
        "colab": {}
      },
      "source": [
        "import pandas as pd\n",
        "import seaborn as sns\n",
        "import matplotlib.pyplot as plt\n",
        "import numpy as np\n",
        "%matplotlib inline\n",
        "from hyperopt import hp, tpe, fmin\n",
        "from scipy.stats import chi2_contingency, pointbiserialr \n",
        "from sklearn.model_selection import train_test_split, cross_val_score\n",
        "from sklearn.linear_model import LogisticRegression\n",
        "from sklearn.metrics import f1_score, accuracy_score\n",
        "from lightgbm import LGBMClassifier\n",
        "from xgboost import XGBClassifier\n",
        "from sklearn.ensemble import RandomForestClassifier\n",
        "from sklearn.svm import SVC\n",
        "from imblearn.over_sampling import SMOTE \n",
        "from sklearn.preprocessing import StandardScaler"
      ],
      "execution_count": 99,
      "outputs": []
    },
    {
      "cell_type": "code",
      "metadata": {
        "id": "q8hw0hvcpAv_",
        "colab_type": "code",
        "colab": {}
      },
      "source": [
        "df = pd.read_csv(\"/content/heart_failure_clinical_records_dataset.csv\")"
      ],
      "execution_count": 3,
      "outputs": []
    },
    {
      "cell_type": "code",
      "metadata": {
        "id": "k3dc6SMkpH0n",
        "colab_type": "code",
        "colab": {
          "base_uri": "https://localhost:8080/",
          "height": 294
        },
        "outputId": "492c0017-66eb-4881-9e9b-103a0338bc91"
      },
      "source": [
        "df.describe()"
      ],
      "execution_count": 4,
      "outputs": [
        {
          "output_type": "execute_result",
          "data": {
            "text/html": [
              "<div>\n",
              "<style scoped>\n",
              "    .dataframe tbody tr th:only-of-type {\n",
              "        vertical-align: middle;\n",
              "    }\n",
              "\n",
              "    .dataframe tbody tr th {\n",
              "        vertical-align: top;\n",
              "    }\n",
              "\n",
              "    .dataframe thead th {\n",
              "        text-align: right;\n",
              "    }\n",
              "</style>\n",
              "<table border=\"1\" class=\"dataframe\">\n",
              "  <thead>\n",
              "    <tr style=\"text-align: right;\">\n",
              "      <th></th>\n",
              "      <th>age</th>\n",
              "      <th>anaemia</th>\n",
              "      <th>creatinine_phosphokinase</th>\n",
              "      <th>diabetes</th>\n",
              "      <th>ejection_fraction</th>\n",
              "      <th>high_blood_pressure</th>\n",
              "      <th>platelets</th>\n",
              "      <th>serum_creatinine</th>\n",
              "      <th>serum_sodium</th>\n",
              "      <th>sex</th>\n",
              "      <th>smoking</th>\n",
              "      <th>time</th>\n",
              "      <th>DEATH_EVENT</th>\n",
              "    </tr>\n",
              "  </thead>\n",
              "  <tbody>\n",
              "    <tr>\n",
              "      <th>count</th>\n",
              "      <td>299.000000</td>\n",
              "      <td>299.000000</td>\n",
              "      <td>299.000000</td>\n",
              "      <td>299.000000</td>\n",
              "      <td>299.000000</td>\n",
              "      <td>299.000000</td>\n",
              "      <td>299.000000</td>\n",
              "      <td>299.00000</td>\n",
              "      <td>299.000000</td>\n",
              "      <td>299.000000</td>\n",
              "      <td>299.00000</td>\n",
              "      <td>299.000000</td>\n",
              "      <td>299.00000</td>\n",
              "    </tr>\n",
              "    <tr>\n",
              "      <th>mean</th>\n",
              "      <td>60.833893</td>\n",
              "      <td>0.431438</td>\n",
              "      <td>581.839465</td>\n",
              "      <td>0.418060</td>\n",
              "      <td>38.083612</td>\n",
              "      <td>0.351171</td>\n",
              "      <td>263358.029264</td>\n",
              "      <td>1.39388</td>\n",
              "      <td>136.625418</td>\n",
              "      <td>0.648829</td>\n",
              "      <td>0.32107</td>\n",
              "      <td>130.260870</td>\n",
              "      <td>0.32107</td>\n",
              "    </tr>\n",
              "    <tr>\n",
              "      <th>std</th>\n",
              "      <td>11.894809</td>\n",
              "      <td>0.496107</td>\n",
              "      <td>970.287881</td>\n",
              "      <td>0.494067</td>\n",
              "      <td>11.834841</td>\n",
              "      <td>0.478136</td>\n",
              "      <td>97804.236869</td>\n",
              "      <td>1.03451</td>\n",
              "      <td>4.412477</td>\n",
              "      <td>0.478136</td>\n",
              "      <td>0.46767</td>\n",
              "      <td>77.614208</td>\n",
              "      <td>0.46767</td>\n",
              "    </tr>\n",
              "    <tr>\n",
              "      <th>min</th>\n",
              "      <td>40.000000</td>\n",
              "      <td>0.000000</td>\n",
              "      <td>23.000000</td>\n",
              "      <td>0.000000</td>\n",
              "      <td>14.000000</td>\n",
              "      <td>0.000000</td>\n",
              "      <td>25100.000000</td>\n",
              "      <td>0.50000</td>\n",
              "      <td>113.000000</td>\n",
              "      <td>0.000000</td>\n",
              "      <td>0.00000</td>\n",
              "      <td>4.000000</td>\n",
              "      <td>0.00000</td>\n",
              "    </tr>\n",
              "    <tr>\n",
              "      <th>25%</th>\n",
              "      <td>51.000000</td>\n",
              "      <td>0.000000</td>\n",
              "      <td>116.500000</td>\n",
              "      <td>0.000000</td>\n",
              "      <td>30.000000</td>\n",
              "      <td>0.000000</td>\n",
              "      <td>212500.000000</td>\n",
              "      <td>0.90000</td>\n",
              "      <td>134.000000</td>\n",
              "      <td>0.000000</td>\n",
              "      <td>0.00000</td>\n",
              "      <td>73.000000</td>\n",
              "      <td>0.00000</td>\n",
              "    </tr>\n",
              "    <tr>\n",
              "      <th>50%</th>\n",
              "      <td>60.000000</td>\n",
              "      <td>0.000000</td>\n",
              "      <td>250.000000</td>\n",
              "      <td>0.000000</td>\n",
              "      <td>38.000000</td>\n",
              "      <td>0.000000</td>\n",
              "      <td>262000.000000</td>\n",
              "      <td>1.10000</td>\n",
              "      <td>137.000000</td>\n",
              "      <td>1.000000</td>\n",
              "      <td>0.00000</td>\n",
              "      <td>115.000000</td>\n",
              "      <td>0.00000</td>\n",
              "    </tr>\n",
              "    <tr>\n",
              "      <th>75%</th>\n",
              "      <td>70.000000</td>\n",
              "      <td>1.000000</td>\n",
              "      <td>582.000000</td>\n",
              "      <td>1.000000</td>\n",
              "      <td>45.000000</td>\n",
              "      <td>1.000000</td>\n",
              "      <td>303500.000000</td>\n",
              "      <td>1.40000</td>\n",
              "      <td>140.000000</td>\n",
              "      <td>1.000000</td>\n",
              "      <td>1.00000</td>\n",
              "      <td>203.000000</td>\n",
              "      <td>1.00000</td>\n",
              "    </tr>\n",
              "    <tr>\n",
              "      <th>max</th>\n",
              "      <td>95.000000</td>\n",
              "      <td>1.000000</td>\n",
              "      <td>7861.000000</td>\n",
              "      <td>1.000000</td>\n",
              "      <td>80.000000</td>\n",
              "      <td>1.000000</td>\n",
              "      <td>850000.000000</td>\n",
              "      <td>9.40000</td>\n",
              "      <td>148.000000</td>\n",
              "      <td>1.000000</td>\n",
              "      <td>1.00000</td>\n",
              "      <td>285.000000</td>\n",
              "      <td>1.00000</td>\n",
              "    </tr>\n",
              "  </tbody>\n",
              "</table>\n",
              "</div>"
            ],
            "text/plain": [
              "              age     anaemia  ...        time  DEATH_EVENT\n",
              "count  299.000000  299.000000  ...  299.000000    299.00000\n",
              "mean    60.833893    0.431438  ...  130.260870      0.32107\n",
              "std     11.894809    0.496107  ...   77.614208      0.46767\n",
              "min     40.000000    0.000000  ...    4.000000      0.00000\n",
              "25%     51.000000    0.000000  ...   73.000000      0.00000\n",
              "50%     60.000000    0.000000  ...  115.000000      0.00000\n",
              "75%     70.000000    1.000000  ...  203.000000      1.00000\n",
              "max     95.000000    1.000000  ...  285.000000      1.00000\n",
              "\n",
              "[8 rows x 13 columns]"
            ]
          },
          "metadata": {
            "tags": []
          },
          "execution_count": 4
        }
      ]
    },
    {
      "cell_type": "code",
      "metadata": {
        "id": "s27NVPkEpKKp",
        "colab_type": "code",
        "colab": {
          "base_uri": "https://localhost:8080/",
          "height": 260
        },
        "outputId": "ef4491bb-186d-4928-d5cb-2d5f43997363"
      },
      "source": [
        "df.isnull().sum()"
      ],
      "execution_count": 5,
      "outputs": [
        {
          "output_type": "execute_result",
          "data": {
            "text/plain": [
              "age                         0\n",
              "anaemia                     0\n",
              "creatinine_phosphokinase    0\n",
              "diabetes                    0\n",
              "ejection_fraction           0\n",
              "high_blood_pressure         0\n",
              "platelets                   0\n",
              "serum_creatinine            0\n",
              "serum_sodium                0\n",
              "sex                         0\n",
              "smoking                     0\n",
              "time                        0\n",
              "DEATH_EVENT                 0\n",
              "dtype: int64"
            ]
          },
          "metadata": {
            "tags": []
          },
          "execution_count": 5
        }
      ]
    },
    {
      "cell_type": "code",
      "metadata": {
        "id": "5RImrr1Oq-3h",
        "colab_type": "code",
        "colab": {
          "base_uri": "https://localhost:8080/",
          "height": 35
        },
        "outputId": "93fbd668-fe06-43f5-9693-ebbba69c2ffb"
      },
      "source": [
        "df.duplicated().sum()"
      ],
      "execution_count": 7,
      "outputs": [
        {
          "output_type": "execute_result",
          "data": {
            "text/plain": [
              "0"
            ]
          },
          "metadata": {
            "tags": []
          },
          "execution_count": 7
        }
      ]
    },
    {
      "cell_type": "code",
      "metadata": {
        "id": "6REAcmDHrD9w",
        "colab_type": "code",
        "colab": {
          "base_uri": "https://localhost:8080/",
          "height": 202
        },
        "outputId": "2f46904b-bc2e-4aa0-cd97-5d2e85e73a7b"
      },
      "source": [
        "df.head()"
      ],
      "execution_count": 8,
      "outputs": [
        {
          "output_type": "execute_result",
          "data": {
            "text/html": [
              "<div>\n",
              "<style scoped>\n",
              "    .dataframe tbody tr th:only-of-type {\n",
              "        vertical-align: middle;\n",
              "    }\n",
              "\n",
              "    .dataframe tbody tr th {\n",
              "        vertical-align: top;\n",
              "    }\n",
              "\n",
              "    .dataframe thead th {\n",
              "        text-align: right;\n",
              "    }\n",
              "</style>\n",
              "<table border=\"1\" class=\"dataframe\">\n",
              "  <thead>\n",
              "    <tr style=\"text-align: right;\">\n",
              "      <th></th>\n",
              "      <th>age</th>\n",
              "      <th>anaemia</th>\n",
              "      <th>creatinine_phosphokinase</th>\n",
              "      <th>diabetes</th>\n",
              "      <th>ejection_fraction</th>\n",
              "      <th>high_blood_pressure</th>\n",
              "      <th>platelets</th>\n",
              "      <th>serum_creatinine</th>\n",
              "      <th>serum_sodium</th>\n",
              "      <th>sex</th>\n",
              "      <th>smoking</th>\n",
              "      <th>time</th>\n",
              "      <th>DEATH_EVENT</th>\n",
              "    </tr>\n",
              "  </thead>\n",
              "  <tbody>\n",
              "    <tr>\n",
              "      <th>0</th>\n",
              "      <td>75.0</td>\n",
              "      <td>0</td>\n",
              "      <td>582</td>\n",
              "      <td>0</td>\n",
              "      <td>20</td>\n",
              "      <td>1</td>\n",
              "      <td>265000.00</td>\n",
              "      <td>1.9</td>\n",
              "      <td>130</td>\n",
              "      <td>1</td>\n",
              "      <td>0</td>\n",
              "      <td>4</td>\n",
              "      <td>1</td>\n",
              "    </tr>\n",
              "    <tr>\n",
              "      <th>1</th>\n",
              "      <td>55.0</td>\n",
              "      <td>0</td>\n",
              "      <td>7861</td>\n",
              "      <td>0</td>\n",
              "      <td>38</td>\n",
              "      <td>0</td>\n",
              "      <td>263358.03</td>\n",
              "      <td>1.1</td>\n",
              "      <td>136</td>\n",
              "      <td>1</td>\n",
              "      <td>0</td>\n",
              "      <td>6</td>\n",
              "      <td>1</td>\n",
              "    </tr>\n",
              "    <tr>\n",
              "      <th>2</th>\n",
              "      <td>65.0</td>\n",
              "      <td>0</td>\n",
              "      <td>146</td>\n",
              "      <td>0</td>\n",
              "      <td>20</td>\n",
              "      <td>0</td>\n",
              "      <td>162000.00</td>\n",
              "      <td>1.3</td>\n",
              "      <td>129</td>\n",
              "      <td>1</td>\n",
              "      <td>1</td>\n",
              "      <td>7</td>\n",
              "      <td>1</td>\n",
              "    </tr>\n",
              "    <tr>\n",
              "      <th>3</th>\n",
              "      <td>50.0</td>\n",
              "      <td>1</td>\n",
              "      <td>111</td>\n",
              "      <td>0</td>\n",
              "      <td>20</td>\n",
              "      <td>0</td>\n",
              "      <td>210000.00</td>\n",
              "      <td>1.9</td>\n",
              "      <td>137</td>\n",
              "      <td>1</td>\n",
              "      <td>0</td>\n",
              "      <td>7</td>\n",
              "      <td>1</td>\n",
              "    </tr>\n",
              "    <tr>\n",
              "      <th>4</th>\n",
              "      <td>65.0</td>\n",
              "      <td>1</td>\n",
              "      <td>160</td>\n",
              "      <td>1</td>\n",
              "      <td>20</td>\n",
              "      <td>0</td>\n",
              "      <td>327000.00</td>\n",
              "      <td>2.7</td>\n",
              "      <td>116</td>\n",
              "      <td>0</td>\n",
              "      <td>0</td>\n",
              "      <td>8</td>\n",
              "      <td>1</td>\n",
              "    </tr>\n",
              "  </tbody>\n",
              "</table>\n",
              "</div>"
            ],
            "text/plain": [
              "    age  anaemia  creatinine_phosphokinase  ...  smoking  time  DEATH_EVENT\n",
              "0  75.0        0                       582  ...        0     4            1\n",
              "1  55.0        0                      7861  ...        0     6            1\n",
              "2  65.0        0                       146  ...        1     7            1\n",
              "3  50.0        1                       111  ...        0     7            1\n",
              "4  65.0        1                       160  ...        0     8            1\n",
              "\n",
              "[5 rows x 13 columns]"
            ]
          },
          "metadata": {
            "tags": []
          },
          "execution_count": 8
        }
      ]
    },
    {
      "cell_type": "code",
      "metadata": {
        "id": "Db1iGXubrNQL",
        "colab_type": "code",
        "colab": {
          "base_uri": "https://localhost:8080/",
          "height": 364
        },
        "outputId": "a2f3b339-c8d0-4eee-c627-e98c6db90473"
      },
      "source": [
        "df.info()"
      ],
      "execution_count": 10,
      "outputs": [
        {
          "output_type": "stream",
          "text": [
            "<class 'pandas.core.frame.DataFrame'>\n",
            "RangeIndex: 299 entries, 0 to 298\n",
            "Data columns (total 13 columns):\n",
            " #   Column                    Non-Null Count  Dtype  \n",
            "---  ------                    --------------  -----  \n",
            " 0   age                       299 non-null    float64\n",
            " 1   anaemia                   299 non-null    int64  \n",
            " 2   creatinine_phosphokinase  299 non-null    int64  \n",
            " 3   diabetes                  299 non-null    int64  \n",
            " 4   ejection_fraction         299 non-null    int64  \n",
            " 5   high_blood_pressure       299 non-null    int64  \n",
            " 6   platelets                 299 non-null    float64\n",
            " 7   serum_creatinine          299 non-null    float64\n",
            " 8   serum_sodium              299 non-null    int64  \n",
            " 9   sex                       299 non-null    int64  \n",
            " 10  smoking                   299 non-null    int64  \n",
            " 11  time                      299 non-null    int64  \n",
            " 12  DEATH_EVENT               299 non-null    int64  \n",
            "dtypes: float64(3), int64(10)\n",
            "memory usage: 30.5 KB\n"
          ],
          "name": "stdout"
        }
      ]
    },
    {
      "cell_type": "code",
      "metadata": {
        "id": "U-VXdqnPsZH3",
        "colab_type": "code",
        "colab": {
          "base_uri": "https://localhost:8080/",
          "height": 69
        },
        "outputId": "6b0307a4-f109-432b-efbb-aa636ef606be"
      },
      "source": [
        "df.DEATH_EVENT.value_counts()"
      ],
      "execution_count": 13,
      "outputs": [
        {
          "output_type": "execute_result",
          "data": {
            "text/plain": [
              "0    203\n",
              "1     96\n",
              "Name: DEATH_EVENT, dtype: int64"
            ]
          },
          "metadata": {
            "tags": []
          },
          "execution_count": 13
        }
      ]
    },
    {
      "cell_type": "markdown",
      "metadata": {
        "id": "HcZdZ6ISse9d",
        "colab_type": "text"
      },
      "source": [
        "The data is inbalanced."
      ]
    },
    {
      "cell_type": "code",
      "metadata": {
        "id": "DdU7fNSHrO9y",
        "colab_type": "code",
        "colab": {}
      },
      "source": [
        "cat_feature = [\"anaemia\", \"diabetes\", \"high_blood_pressure\", \"sex\", \"smoking\"]"
      ],
      "execution_count": 19,
      "outputs": []
    },
    {
      "cell_type": "code",
      "metadata": {
        "id": "b3w2dL4VIuZB",
        "colab_type": "code",
        "colab": {
          "base_uri": "https://localhost:8080/",
          "height": 449
        },
        "outputId": "f2b83f58-b502-4358-a0c5-2fe30a77f6fe"
      },
      "source": [
        "death_t = []\n",
        "death_f = []\n",
        "names = []\n",
        "x_tick = list(range(len(cat_feature) * 2))\n",
        "for i in cat_feature:\n",
        "    sub_group = df.groupby(i).DEATH_EVENT.value_counts().to_list()\n",
        "    for j in range(2):\n",
        "        death_f.append(sub_group[j * 2])\n",
        "        death_t.append(sub_group[j * 2 + 1])\n",
        "        names.append(i + \"_\" + str(j))\n",
        "total = [i + j for i, j in zip(death_t, death_f)]\n",
        "death_0 = [i/j * 100 for i, j in zip(death_f, total)]\n",
        "death_1 = [i/j * 100 for i, j in zip(death_t, total)]\n",
        "plt.figure(figsize=(20, 6))\n",
        "plt.bar(x_tick, death_0, label = \"No Death\", width=0.8, color = \"purple\")\n",
        "plt.bar(x_tick, death_1, bottom = death_0, label = \"Death\", width=0.8, color = \"coral\")\n",
        "plt.xticks(x_tick, names, rotation = 30)\n",
        "plt.legend(loc='upper left', bbox_to_anchor=(1,1), ncol=1)"
      ],
      "execution_count": 219,
      "outputs": [
        {
          "output_type": "execute_result",
          "data": {
            "text/plain": [
              "<matplotlib.legend.Legend at 0x7f990d73cb00>"
            ]
          },
          "metadata": {
            "tags": []
          },
          "execution_count": 219
        },
        {
          "output_type": "display_data",
          "data": {
            "image/png": "[encoded data removed]",
            "text/plain": [
              "<Figure size 1440x432 with 1 Axes>"
            ]
          },
          "metadata": {
            "tags": [],
            "needs_background": "light"
          }
        }
      ]
    },
    {
      "cell_type": "markdown",
      "metadata": {
        "id": "xMIWlr0gN9MD",
        "colab_type": "text"
      },
      "source": [
        "From the plot we could roughly tell that death rate does not vary within these groups, meaning that these features do not associate with the dependent variables. This could be further proved by doing chi-squre test."
      ]
    },
    {
      "cell_type": "code",
      "metadata": {
        "id": "qQZc_WEhrzII",
        "colab_type": "code",
        "colab": {
          "base_uri": "https://localhost:8080/",
          "height": 191
        },
        "outputId": "af3b349f-203d-4844-be85-0ab0c87d9407"
      },
      "source": [
        "for i in cat_feature:\n",
        "    crosstab = pd.crosstab(df[i], df.DEATH_EVENT)\n",
        "    p_value = chi2_contingency(crosstab)[1]\n",
        "    if p_value > 0.05:\n",
        "        print(\"p values \" + str(p_value))\n",
        "        print(\"There is no association between death_event and \" + i)\n",
        "    else:\n",
        "        print(\"p values \" + str(p_value))\n",
        "        print(\"There is association between death_event and \" + i)"
      ],
      "execution_count": 20,
      "outputs": [
        {
          "output_type": "stream",
          "text": [
            "p values 0.3073160508415107\n",
            "There is no association between death_event and anaemia\n",
            "p values 0.9267235137291102\n",
            "There is no association between death_event and diabetes\n",
            "p values 0.21410341199416902\n",
            "There is no association between death_event and high_blood_pressure\n",
            "p values 0.9560508538247334\n",
            "There is no association between death_event and sex\n",
            "p values 0.9317652998235507\n",
            "There is no association between death_event and smoking\n"
          ],
          "name": "stdout"
        }
      ]
    },
    {
      "cell_type": "code",
      "metadata": {
        "id": "1KF-IIiQ0r34",
        "colab_type": "code",
        "colab": {}
      },
      "source": [
        "num_feature = df.columns.tolist()\n",
        "for i in df.columns.tolist():\n",
        "    if i in cat_feature:\n",
        "        num_feature.remove(i)\n",
        "num_feature.remove(\"DEATH_EVENT\")"
      ],
      "execution_count": 28,
      "outputs": []
    },
    {
      "cell_type": "code",
      "metadata": {
        "id": "8fC45Gdpz5qx",
        "colab_type": "code",
        "colab": {
          "base_uri": "https://localhost:8080/",
          "height": 403
        },
        "outputId": "43f83a86-e77b-4694-ddf2-70eaac5077bb"
      },
      "source": [
        "sns.heatmap(df[num_feature].corr(),annot=True,fmt=\".2f\", cmap=sns.diverging_palette(220, 15, as_cmap=True), mask=np.triu(np.ones_like(df[num_feature].corr(), dtype=np.bool)))"
      ],
      "execution_count": 212,
      "outputs": [
        {
          "output_type": "execute_result",
          "data": {
            "text/plain": [
              "<matplotlib.axes._subplots.AxesSubplot at 0x7f990db4a828>"
            ]
          },
          "metadata": {
            "tags": []
          },
          "execution_count": 212
        },
        {
          "output_type": "display_data",
          "data": {
            "image/png": "[encoded data removed]",
            "text/plain": [
              "<Figure size 432x288 with 2 Axes>"
            ]
          },
          "metadata": {
            "tags": [],
            "needs_background": "light"
          }
        }
      ]
    },
    {
      "cell_type": "markdown",
      "metadata": {
        "id": "34UiHQmmOlZ3",
        "colab_type": "text"
      },
      "source": [
        "The numerical features don't correlate with each other. As the dependent variable is a categorical varibale, point biserial test will be used to test the associate between dependent varibale and the numerical independent varibales."
      ]
    },
    {
      "cell_type": "code",
      "metadata": {
        "id": "a9fwx1bG1kwX",
        "colab_type": "code",
        "colab": {
          "base_uri": "https://localhost:8080/",
          "height": 277
        },
        "outputId": "a5a4dac7-17a4-4f73-f277-6548d5dacf88"
      },
      "source": [
        "features = []\n",
        "for i in num_feature:\n",
        "    pb, p = pointbiserialr(df[i], df.DEATH_EVENT)\n",
        "    print(pb, p)\n",
        "    if abs(pb) > 0.2 or p < 0.05:\n",
        "        print(\"Associate between death and \" +i)\n",
        "        features.append(i)\n",
        "    else:\n",
        "        print(\"No associate between death and \" + i)\n",
        "features"
      ],
      "execution_count": 40,
      "outputs": [
        {
          "output_type": "stream",
          "text": [
            "0.2537285430880036 8.916762946531661e-06\n",
            "Associate between death and age\n",
            "0.06272816025237474 0.27961124573610285\n",
            "No associate between death and creatinine_phosphokinase\n",
            "-0.26860331239406215 2.4528974182084116e-06\n",
            "Associate between death and ejection_fraction\n",
            "-0.04913886798037426 0.39719415404131725\n",
            "No associate between death and platelets\n",
            "0.2942775609841492 2.1901978548976176e-07\n",
            "Associate between death and serum_creatinine\n",
            "-0.19520359641640114 0.0006889112363762405\n",
            "Associate between death and serum_sodium\n",
            "-0.5269637792775771 9.122223384924461e-23\n",
            "Associate between death and time\n"
          ],
          "name": "stdout"
        },
        {
          "output_type": "execute_result",
          "data": {
            "text/plain": [
              "['age', 'ejection_fraction', 'serum_creatinine', 'serum_sodium', 'time']"
            ]
          },
          "metadata": {
            "tags": []
          },
          "execution_count": 40
        }
      ]
    },
    {
      "cell_type": "markdown",
      "metadata": {
        "id": "CIua_KjcO_LR",
        "colab_type": "text"
      },
      "source": [
        "After removing the features that do not correlate with the dependent variables, smote is used to balanced this dataset. The numerical features were scaled to fit the models."
      ]
    },
    {
      "cell_type": "code",
      "metadata": {
        "id": "Y_WNFmAF9Hoy",
        "colab_type": "code",
        "colab": {
          "base_uri": "https://localhost:8080/",
          "height": 312
        },
        "outputId": "f76bb8d6-7777-4941-9b56-b54e0204d7eb"
      },
      "source": [
        "smote = SMOTE(random_state = 1)\n",
        "scaler = StandardScaler()\n",
        "new_df = scaler.fit_transform(df.loc[:, features].copy())\n",
        "target =df[\"DEATH_EVENT\"]\n",
        "X_train, X_test, y_train, y_test = train_test_split(new_df, target, random_state = 1)\n",
        "X_train, y_train = smote.fit_resample(X_train, y_train)\n",
        "models = [LogisticRegression(), LGBMClassifier(), SVC()]\n",
        "for model in models:\n",
        "    model.fit(X_train, y_train)\n",
        "    preds = model.predict(X_test)\n",
        "    f1 = f1_score(preds, y_test)\n",
        "    acc = accuracy_score(preds, y_test)\n",
        "    print(str(model) + \" : \" + str(f1) + \" , \" + str(acc))"
      ],
      "execution_count": 208,
      "outputs": [
        {
          "output_type": "stream",
          "text": [
            "LogisticRegression(C=1.0, class_weight=None, dual=False, fit_intercept=True,\n",
            "                   intercept_scaling=1, l1_ratio=None, max_iter=100,\n",
            "                   multi_class='auto', n_jobs=None, penalty='l2',\n",
            "                   random_state=None, solver='lbfgs', tol=0.0001, verbose=0,\n",
            "                   warm_start=False) : 0.7441860465116279 , 0.8533333333333334\n",
            "LGBMClassifier(boosting_type='gbdt', class_weight=None, colsample_bytree=1.0,\n",
            "               importance_type='split', learning_rate=0.1, max_depth=-1,\n",
            "               min_child_samples=20, min_child_weight=0.001, min_split_gain=0.0,\n",
            "               n_estimators=100, n_jobs=-1, num_leaves=31, objective=None,\n",
            "               random_state=None, reg_alpha=0.0, reg_lambda=0.0, silent=True,\n",
            "               subsample=1.0, subsample_for_bin=200000, subsample_freq=0) : 0.7826086956521738 , 0.8666666666666667\n",
            "SVC(C=1.0, break_ties=False, cache_size=200, class_weight=None, coef0=0.0,\n",
            "    decision_function_shape='ovr', degree=3, gamma='scale', kernel='rbf',\n",
            "    max_iter=-1, probability=False, random_state=None, shrinking=True,\n",
            "    tol=0.001, verbose=False) : 0.7272727272727272 , 0.84\n"
          ],
          "name": "stdout"
        },
        {
          "output_type": "stream",
          "text": [
            "/usr/local/lib/python3.6/dist-packages/sklearn/utils/deprecation.py:87: FutureWarning: Function safe_indexing is deprecated; safe_indexing is deprecated in version 0.22 and will be removed in version 0.24.\n",
            "  warnings.warn(msg, category=FutureWarning)\n"
          ],
          "name": "stderr"
        }
      ]
    },
    {
      "cell_type": "markdown",
      "metadata": {
        "id": "hCw2EnpSPbxQ",
        "colab_type": "text"
      },
      "source": [
        "Fine tune the hyperparameters of models"
      ]
    },
    {
      "cell_type": "code",
      "metadata": {
        "id": "84jAGlTvCjsD",
        "colab_type": "code",
        "colab": {}
      },
      "source": [
        "space = {'n_estimators':hp.quniform('n_estimators', 100, 5000, 50),\n",
        "         'learning_rate':hp.uniform('learning_rate', 0.0001, 0.1),\n",
        "         'max_depth':hp.quniform('max_depth', 3,15,1),\n",
        "         'num_leaves':hp.quniform('num_leaves', 50, 1000, 50),\n",
        "         'min_child_samples':hp.quniform('min_child_samples', 10, 100, 10),\n",
        "         \"reg_alpha\":hp.loguniform(\"reg_alpha\", 0.00001, 1),\n",
        "         \"reg_lambda\":hp.loguniform(\"reg_lambda\", 0.00001, 1)\n",
        "        }\n",
        "\n",
        "def objective(params):\n",
        "    params = {'n_estimators': int(params['n_estimators']),\n",
        "             'learning_rate': params['learning_rate'],\n",
        "             'max_depth': int(params['max_depth']),\n",
        "             'num_leaves': int(params['num_leaves']),\n",
        "             'min_child_samples': int(params['min_child_samples']),\n",
        "             \"reg_alpha\" : params[\"reg_alpha\"], \n",
        "             \"reg_lambda\": params[\"reg_lambda\"]\n",
        "}\n",
        "    \n",
        "    lgbm= LGBMClassifier(**params)\n",
        "    score = cross_val_score(lgbm, X_train, y_train, scoring='f1_weighted', cv=5, n_jobs=-1).mean()\n",
        "    return score\n"
      ],
      "execution_count": 162,
      "outputs": []
    },
    {
      "cell_type": "code",
      "metadata": {
        "id": "GxY7ogi-Odb8",
        "colab_type": "code",
        "colab": {
          "base_uri": "https://localhost:8080/",
          "height": 156
        },
        "outputId": "d81f45ac-39d4-4e6c-a397-69adb6b2c11e"
      },
      "source": [
        "best1 = fmin(fn= objective, space= space, max_evals=20, rstate=np.random.RandomState(1), algo=tpe.suggest)\n",
        "best1"
      ],
      "execution_count": 163,
      "outputs": [
        {
          "output_type": "stream",
          "text": [
            "100%|██████████| 20/20 [00:10<00:00,  1.83it/s, best loss: 0.8239194006253922]\n"
          ],
          "name": "stdout"
        },
        {
          "output_type": "execute_result",
          "data": {
            "text/plain": [
              "{'learning_rate': 0.07337014913503634,\n",
              " 'max_depth': 7.0,\n",
              " 'min_child_samples': 90.0,\n",
              " 'n_estimators': 3750.0,\n",
              " 'num_leaves': 650.0,\n",
              " 'reg_alpha': 1.9609497194337724,\n",
              " 'reg_lambda': 1.1235424520289674}"
            ]
          },
          "metadata": {
            "tags": []
          },
          "execution_count": 163
        }
      ]
    },
    {
      "cell_type": "code",
      "metadata": {
        "id": "qdk5Dr5_UNdb",
        "colab_type": "code",
        "colab": {
          "base_uri": "https://localhost:8080/",
          "height": 35
        },
        "outputId": "211e176a-11de-49f0-a144-0d05e0cf1ee3"
      },
      "source": [
        "lgbm_b = LGBMClassifier(random_state=0,\n",
        "                        n_estimators=int(best1['n_estimators']), \n",
        "                        learning_rate= best1['learning_rate'],\n",
        "                        max_depth= int(best1['max_depth']),\n",
        "                        num_leaves= int(best1['num_leaves']),\n",
        "                        min_child_samples= int(best1['min_child_samples']),\n",
        "                        reg_alpha = best1[\"reg_alpha\"],\n",
        "                        reg_lambda = best1[\"reg_lambda\"]\n",
        "                       )\n",
        "lgbm_b.fit(X_train, y_train)\n",
        "preds_lgbm = lgbm_b.predict(X_test)\n",
        "acc_lgbm = accuracy_score(preds_lgbm, y_test)\n",
        "f1_lgbm = f1_score(preds_lgbm, y_test)\n",
        "print(acc_lgbm, f1_lgbm)"
      ],
      "execution_count": 164,
      "outputs": [
        {
          "output_type": "stream",
          "text": [
            "0.8666666666666667 0.7826086956521738\n"
          ],
          "name": "stdout"
        }
      ]
    },
    {
      "cell_type": "markdown",
      "metadata": {
        "id": "-hddZgNEP1Js",
        "colab_type": "text"
      },
      "source": [
        "The accuracy and f1 score on the test set by lgboost is 87%, 0.78"
      ]
    },
    {
      "cell_type": "markdown",
      "metadata": {
        "id": "KS5jnpV99sFD",
        "colab_type": "text"
      },
      "source": [
        "Fine tune a logistic regression model"
      ]
    },
    {
      "cell_type": "code",
      "metadata": {
        "id": "Su4IJ2axOivZ",
        "colab_type": "code",
        "colab": {}
      },
      "source": [
        "space_l = {'C':hp.loguniform('C', 0.0001, 1),\n",
        "           'max_iter':hp.quniform('max_iter',50, 500, 50),\n",
        "        }\n",
        "\n",
        "def objective_l(params):\n",
        "    params = {'C': int(params['C']),\n",
        "             'max_iter': int(params['max_iter'])\n",
        "}\n",
        "    \n",
        "    lr= LogisticRegression(**params)\n",
        "    score = cross_val_score(lr, X_train, y_train, scoring='f1_weighted', cv=5, n_jobs=-1).mean()\n",
        "    return score\n"
      ],
      "execution_count": 173,
      "outputs": []
    },
    {
      "cell_type": "code",
      "metadata": {
        "id": "l-F764Y5-lwe",
        "colab_type": "code",
        "colab": {
          "base_uri": "https://localhost:8080/",
          "height": 52
        },
        "outputId": "65070ea2-1f09-4e32-9b1d-463ce0ff8b25"
      },
      "source": [
        "best_l = fmin(fn= objective_l, space= space_l, max_evals=20, rstate=np.random.RandomState(1), algo=tpe.suggest)\n",
        "best_l"
      ],
      "execution_count": 174,
      "outputs": [
        {
          "output_type": "stream",
          "text": [
            "100%|██████████| 20/20 [00:01<00:00, 13.70it/s, best loss: 0.8039500578706285]\n"
          ],
          "name": "stdout"
        },
        {
          "output_type": "execute_result",
          "data": {
            "text/plain": [
              "{'C': 1.9682538126201339, 'max_iter': 150.0}"
            ]
          },
          "metadata": {
            "tags": []
          },
          "execution_count": 174
        }
      ]
    },
    {
      "cell_type": "code",
      "metadata": {
        "id": "Pg5poQIj-tCa",
        "colab_type": "code",
        "colab": {
          "base_uri": "https://localhost:8080/",
          "height": 35
        },
        "outputId": "f9e7ace8-896f-4c92-d93d-e4be6e294610"
      },
      "source": [
        "lr_b = LogisticRegression(random_state=0, \n",
        "                          C=best_l[\"C\"],\n",
        "                          max_iter = best_l[\"max_iter\"])\n",
        "\n",
        "lr_b.fit(X_train, y_train)\n",
        "preds_lr = lr_b.predict(X_test)\n",
        "acc_lr = accuracy_score(preds_lr, y_test)\n",
        "f1_lr = f1_score(preds_lr, y_test)\n",
        "print(acc_lr, f1_lr)"
      ],
      "execution_count": 175,
      "outputs": [
        {
          "output_type": "stream",
          "text": [
            "0.8533333333333334 0.7441860465116279\n"
          ],
          "name": "stdout"
        }
      ]
    },
    {
      "cell_type": "markdown",
      "metadata": {
        "id": "1GYtiUKgP4l0",
        "colab_type": "text"
      },
      "source": [
        "The accuracy and f1 score on the test set by logistic regression is 85%, 0.74"
      ]
    },
    {
      "cell_type": "markdown",
      "metadata": {
        "id": "L2e2vNZsP9se",
        "colab_type": "text"
      },
      "source": [
        "Random Forest do not require the numerical features scaled. Use the unscaled data to train a random forest classifier and fine tuend the hyperparameters/"
      ]
    },
    {
      "cell_type": "code",
      "metadata": {
        "id": "lYkfHAVdu0Wu",
        "colab_type": "code",
        "colab": {
          "base_uri": "https://localhost:8080/",
          "height": 52
        },
        "outputId": "7e1f0441-90da-4882-cd26-fcae203205fd"
      },
      "source": [
        "df_tree = df.loc[:, features].copy()\n",
        "target =df[\"DEATH_EVENT\"]\n",
        "X_train_t, X_test_t, y_train_t, y_test_t = train_test_split(df_tree, target, random_state = 1)\n",
        "X_train_t, y_train_t = smote.fit_resample(X_train_t, y_train_t)"
      ],
      "execution_count": 165,
      "outputs": [
        {
          "output_type": "stream",
          "text": [
            "/usr/local/lib/python3.6/dist-packages/sklearn/utils/deprecation.py:87: FutureWarning: Function safe_indexing is deprecated; safe_indexing is deprecated in version 0.22 and will be removed in version 0.24.\n",
            "  warnings.warn(msg, category=FutureWarning)\n"
          ],
          "name": "stderr"
        }
      ]
    },
    {
      "cell_type": "code",
      "metadata": {
        "id": "H6d4bW9xOlpW",
        "colab_type": "code",
        "colab": {}
      },
      "source": [
        "space_t = {'n_estimators':hp.quniform('n_estimators', 100, 1000, 100),\n",
        "           'criterion':hp.choice('criterion', (\"gini\", \"entropy\")),\n",
        "           'max_depth':hp.quniform('max_depth', 3,15,1)\n",
        "        }\n",
        "\n",
        "def objective_t(params):\n",
        "    params = {'n_estimators': int(params['n_estimators']),\n",
        "              'criterion': params['criterion']\n",
        "}\n",
        "    \n",
        "    rf= RandomForestClassifier(**params)\n",
        "    score = cross_val_score(rf, X_train_t, y_train_t, scoring='f1_weighted', cv=5, n_jobs=-1).mean()\n",
        "    return score\n"
      ],
      "execution_count": 170,
      "outputs": []
    },
    {
      "cell_type": "code",
      "metadata": {
        "id": "R0ZMsYaRRSLR",
        "colab_type": "code",
        "colab": {
          "base_uri": "https://localhost:8080/",
          "height": 35
        },
        "outputId": "267eb811-e8c3-44c2-a833-5e16c6bb6eec"
      },
      "source": [
        "best = fmin(fn= objective_t, space= space_t, max_evals=20, rstate=np.random.RandomState(1), algo=tpe.suggest)"
      ],
      "execution_count": 171,
      "outputs": [
        {
          "output_type": "stream",
          "text": [
            "100%|██████████| 20/20 [01:27<00:00,  4.38s/it, best loss: 0.8545852177489621]\n"
          ],
          "name": "stdout"
        }
      ]
    },
    {
      "cell_type": "code",
      "metadata": {
        "id": "YLNBKJhKRbm3",
        "colab_type": "code",
        "colab": {
          "base_uri": "https://localhost:8080/",
          "height": 35
        },
        "outputId": "bb3d7644-49ee-4c29-8ee5-2dcafde81766"
      },
      "source": [
        "criterion = (\"gini\", \"entropy\")\n",
        "rf_b = RandomForestClassifier(random_state=0,\n",
        "                              n_estimators=int(best['n_estimators']), \n",
        "                              criterion = cretiron[best[\"criterion\"]])\n",
        "rf_b.fit(X_train_t, y_train_t)\n",
        "preds_rf = rf_b.predict(X_test_t)\n",
        "acc_rf = accuracy_score(preds_rf, y_test_t)\n",
        "f1_rf = f1_score(preds_rf, y_test_t)\n",
        "print(acc_rf, f1_rf)"
      ],
      "execution_count": 172,
      "outputs": [
        {
          "output_type": "stream",
          "text": [
            "0.8533333333333334 0.7555555555555556\n"
          ],
          "name": "stdout"
        }
      ]
    },
    {
      "cell_type": "markdown",
      "metadata": {
        "id": "tjTRJ8h0QS0I",
        "colab_type": "text"
      },
      "source": [
        "The accuracy and f1 score on the test set by random forest is 85%, 0.76"
      ]
    },
    {
      "cell_type": "markdown",
      "metadata": {
        "id": "_MCuDeOM_K9n",
        "colab_type": "text"
      },
      "source": [
        "A simple ensemble method"
      ]
    },
    {
      "cell_type": "code",
      "metadata": {
        "id": "4ZsMBkmZYUKc",
        "colab_type": "code",
        "colab": {
          "base_uri": "https://localhost:8080/",
          "height": 35
        },
        "outputId": "3f5afec8-fc29-400f-894c-35edb02a452d"
      },
      "source": [
        "final_preds = preds_lgbm * 3 + preds_lr + preds_rf * 2\n",
        "final_preds = (final_preds > 3)\n",
        "f1_final = f1_score(final_preds, y_test)\n",
        "acc_final = accuracy_score(final_preds, y_test)\n",
        "print(f1_final, acc_final)"
      ],
      "execution_count": 178,
      "outputs": [
        {
          "output_type": "stream",
          "text": [
            "0.7906976744186046 0.88\n"
          ],
          "name": "stdout"
        }
      ]
    },
    {
      "cell_type": "markdown",
      "metadata": {
        "id": "nFc4yuSGQbCg",
        "colab_type": "text"
      },
      "source": [
        "The accuracy and f1 score of the final ensemble model is 88%, 0.79"
      ]
    },
    {
      "cell_type": "code",
      "metadata": {
        "id": "EX7vaMkI_rn9",
        "colab_type": "code",
        "colab": {}
      },
      "source": [
        ""
      ],
      "execution_count": null,
      "outputs": []
    }
  ]
}