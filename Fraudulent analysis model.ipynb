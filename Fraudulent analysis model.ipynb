{
  "nbformat": 4,
  "nbformat_minor": 0,
  "metadata": {
    "colab": {
      "name": "Multi project.ipynb",
      "provenance": []
    },
    "kernelspec": {
      "name": "python3",
      "display_name": "Python 3"
    },
    "accelerator": "GPU"
  },
  "cells": [
    {
      "cell_type": "code",
      "metadata": {
        "id": "NH4zdkZQurDR",
        "colab_type": "code",
        "colab": {
          "base_uri": "https://localhost:8080/",
          "height": 105
        },
        "outputId": "0d0224d8-008a-4c0b-d872-d7bb9e8db16f"
      },
      "source": [
        "import pandas as pd\n",
        "import numpy as np\n",
        "from sklearn.model_selection import train_test_split,StratifiedShuffleSplit,StratifiedKFold\n",
        "from imblearn.over_sampling import SMOTE\n",
        "from sklearn.ensemble import RandomForestClassifier, AdaBoostClassifier\n",
        "from sklearn.preprocessing import LabelEncoder, OneHotEncoder\n",
        "from sklearn.metrics import classification_report"
      ],
      "execution_count": null,
      "outputs": [
        {
          "output_type": "stream",
          "text": [
            "/usr/local/lib/python3.6/dist-packages/sklearn/externals/six.py:31: FutureWarning: The module is deprecated in version 0.21 and will be removed in version 0.23 since we've dropped support for Python 2.7. Please rely on the official version of six (https://pypi.org/project/six/).\n",
            "  \"(https://pypi.org/project/six/).\", FutureWarning)\n",
            "/usr/local/lib/python3.6/dist-packages/sklearn/utils/deprecation.py:144: FutureWarning: The sklearn.neighbors.base module is  deprecated in version 0.22 and will be removed in version 0.24. The corresponding classes / functions should instead be imported from sklearn.neighbors. Anything that cannot be imported from sklearn.neighbors is now part of the private API.\n",
            "  warnings.warn(message, FutureWarning)\n"
          ],
          "name": "stderr"
        }
      ]
    },
    {
      "cell_type": "code",
      "metadata": {
        "id": "V8hj60kevEDJ",
        "colab_type": "code",
        "colab": {}
      },
      "source": [
        "df = pd.read_csv(\"/content/fraud_merge_country.csv\")"
      ],
      "execution_count": null,
      "outputs": []
    },
    {
      "cell_type": "code",
      "metadata": {
        "id": "iRe_u7bRvPjm",
        "colab_type": "code",
        "colab": {}
      },
      "source": [
        "for col in ['signup_time','purchase_time']:\n",
        "    df[col] = pd.to_datetime(df[col])\n",
        "\n",
        "def time_convert(col):\n",
        "    df[col[:-5]+ \"_\" + 'month'] = df[col].dt.month\n",
        "    df[col[:-5]+ \"_\" + 'weekofyear'] = df[col].dt.weekofyear\n",
        "    df[col[:-5]+ \"_\" + 'weekday'] = df[col].dt.weekday\n",
        "\n",
        "for col in ['signup_time','purchase_time']:\n",
        "    time_convert(col)\n",
        "    \n",
        "df['signTOpurchase'] = (df['purchase_time']-df['signup_time']).dt.total_seconds()\n",
        "\n",
        "# deal with shared devices and ip\n",
        "device_shared = df.device_id.value_counts()\n",
        "ip_shared = df.ip_address.value_counts()\n",
        "df ['device_shared'] = df.device_id.map(device_shared)\n",
        "df['ip_shared']= df.ip_address.map(ip_shared)\n",
        "\n",
        "# deal with country\n",
        "country_shared = df.country.value_counts()\n",
        "df['country_shared'] = df.country.map(country_shared)\n"
      ],
      "execution_count": null,
      "outputs": []
    },
    {
      "cell_type": "code",
      "metadata": {
        "id": "-GUJLJLplfJ7",
        "colab_type": "code",
        "colab": {
          "base_uri": "https://localhost:8080/",
          "height": 275
        },
        "outputId": "6b10de02-92a8-42c0-9d30-aa42bd96aa68"
      },
      "source": [
        "df.drop(columns = [\"signup_month\", \"signup_weekday\", \"purchase_month\", \"purchase_weekday\", \"signup_time\", \"purchase_time\"], inplace = True)\n",
        "df.head()"
      ],
      "execution_count": null,
      "outputs": [
        {
          "output_type": "execute_result",
          "data": {
            "text/html": [
              "<div>\n",
              "<style scoped>\n",
              "    .dataframe tbody tr th:only-of-type {\n",
              "        vertical-align: middle;\n",
              "    }\n",
              "\n",
              "    .dataframe tbody tr th {\n",
              "        vertical-align: top;\n",
              "    }\n",
              "\n",
              "    .dataframe thead th {\n",
              "        text-align: right;\n",
              "    }\n",
              "</style>\n",
              "<table border=\"1\" class=\"dataframe\">\n",
              "  <thead>\n",
              "    <tr style=\"text-align: right;\">\n",
              "      <th></th>\n",
              "      <th>user_id</th>\n",
              "      <th>purchase_value</th>\n",
              "      <th>device_id</th>\n",
              "      <th>source</th>\n",
              "      <th>browser</th>\n",
              "      <th>sex</th>\n",
              "      <th>age</th>\n",
              "      <th>ip_address</th>\n",
              "      <th>class</th>\n",
              "      <th>country</th>\n",
              "      <th>signup_weekofyear</th>\n",
              "      <th>purchase_weekofyear</th>\n",
              "      <th>signTOpurchase</th>\n",
              "      <th>device_shared</th>\n",
              "      <th>ip_shared</th>\n",
              "      <th>country_shared</th>\n",
              "    </tr>\n",
              "  </thead>\n",
              "  <tbody>\n",
              "    <tr>\n",
              "      <th>0</th>\n",
              "      <td>22058</td>\n",
              "      <td>34</td>\n",
              "      <td>QVPSPJUOCKZAR</td>\n",
              "      <td>SEO</td>\n",
              "      <td>Chrome</td>\n",
              "      <td>M</td>\n",
              "      <td>39</td>\n",
              "      <td>7.327584e+08</td>\n",
              "      <td>0</td>\n",
              "      <td>Japan</td>\n",
              "      <td>9</td>\n",
              "      <td>16</td>\n",
              "      <td>4506682.0</td>\n",
              "      <td>1</td>\n",
              "      <td>1</td>\n",
              "      <td>7306</td>\n",
              "    </tr>\n",
              "    <tr>\n",
              "      <th>1</th>\n",
              "      <td>333320</td>\n",
              "      <td>16</td>\n",
              "      <td>EOGFQPIZPYXFZ</td>\n",
              "      <td>Ads</td>\n",
              "      <td>Chrome</td>\n",
              "      <td>F</td>\n",
              "      <td>53</td>\n",
              "      <td>3.503114e+08</td>\n",
              "      <td>0</td>\n",
              "      <td>United States</td>\n",
              "      <td>23</td>\n",
              "      <td>24</td>\n",
              "      <td>17944.0</td>\n",
              "      <td>1</td>\n",
              "      <td>1</td>\n",
              "      <td>58049</td>\n",
              "    </tr>\n",
              "    <tr>\n",
              "      <th>2</th>\n",
              "      <td>1359</td>\n",
              "      <td>15</td>\n",
              "      <td>YSSKYOSJHPPLJ</td>\n",
              "      <td>SEO</td>\n",
              "      <td>Opera</td>\n",
              "      <td>M</td>\n",
              "      <td>53</td>\n",
              "      <td>2.621474e+09</td>\n",
              "      <td>1</td>\n",
              "      <td>United States</td>\n",
              "      <td>1</td>\n",
              "      <td>1</td>\n",
              "      <td>1.0</td>\n",
              "      <td>12</td>\n",
              "      <td>12</td>\n",
              "      <td>58049</td>\n",
              "    </tr>\n",
              "    <tr>\n",
              "      <th>3</th>\n",
              "      <td>150084</td>\n",
              "      <td>44</td>\n",
              "      <td>ATGTXKYKUDUQN</td>\n",
              "      <td>SEO</td>\n",
              "      <td>Safari</td>\n",
              "      <td>M</td>\n",
              "      <td>41</td>\n",
              "      <td>3.840542e+09</td>\n",
              "      <td>0</td>\n",
              "      <td>Unknown</td>\n",
              "      <td>18</td>\n",
              "      <td>19</td>\n",
              "      <td>492085.0</td>\n",
              "      <td>1</td>\n",
              "      <td>1</td>\n",
              "      <td>21966</td>\n",
              "    </tr>\n",
              "    <tr>\n",
              "      <th>4</th>\n",
              "      <td>221365</td>\n",
              "      <td>39</td>\n",
              "      <td>NAUITBZFJKHWW</td>\n",
              "      <td>Ads</td>\n",
              "      <td>Safari</td>\n",
              "      <td>M</td>\n",
              "      <td>45</td>\n",
              "      <td>4.155831e+08</td>\n",
              "      <td>0</td>\n",
              "      <td>United States</td>\n",
              "      <td>30</td>\n",
              "      <td>37</td>\n",
              "      <td>4361461.0</td>\n",
              "      <td>1</td>\n",
              "      <td>1</td>\n",
              "      <td>58049</td>\n",
              "    </tr>\n",
              "  </tbody>\n",
              "</table>\n",
              "</div>"
            ],
            "text/plain": [
              "   user_id  purchase_value  ... ip_shared country_shared\n",
              "0    22058              34  ...         1           7306\n",
              "1   333320              16  ...         1          58049\n",
              "2     1359              15  ...        12          58049\n",
              "3   150084              44  ...         1          21966\n",
              "4   221365              39  ...         1          58049\n",
              "\n",
              "[5 rows x 16 columns]"
            ]
          },
          "metadata": {
            "tags": []
          },
          "execution_count": 6
        }
      ]
    },
    {
      "cell_type": "code",
      "metadata": {
        "id": "odGCGvzCnz7Z",
        "colab_type": "code",
        "colab": {
          "base_uri": "https://localhost:8080/",
          "height": 275
        },
        "outputId": "f81f69b5-33de-4ef8-c328-f6e535e80afc"
      },
      "source": [
        "df.drop(columns = [\"user_id\", \"device_id\", \"ip_address\"], inplace = True)\n",
        "df.head()"
      ],
      "execution_count": null,
      "outputs": [
        {
          "output_type": "execute_result",
          "data": {
            "text/html": [
              "<div>\n",
              "<style scoped>\n",
              "    .dataframe tbody tr th:only-of-type {\n",
              "        vertical-align: middle;\n",
              "    }\n",
              "\n",
              "    .dataframe tbody tr th {\n",
              "        vertical-align: top;\n",
              "    }\n",
              "\n",
              "    .dataframe thead th {\n",
              "        text-align: right;\n",
              "    }\n",
              "</style>\n",
              "<table border=\"1\" class=\"dataframe\">\n",
              "  <thead>\n",
              "    <tr style=\"text-align: right;\">\n",
              "      <th></th>\n",
              "      <th>purchase_value</th>\n",
              "      <th>source</th>\n",
              "      <th>browser</th>\n",
              "      <th>sex</th>\n",
              "      <th>age</th>\n",
              "      <th>class</th>\n",
              "      <th>country</th>\n",
              "      <th>signup_weekofyear</th>\n",
              "      <th>purchase_weekofyear</th>\n",
              "      <th>signTOpurchase</th>\n",
              "      <th>device_shared</th>\n",
              "      <th>ip_shared</th>\n",
              "      <th>country_shared</th>\n",
              "    </tr>\n",
              "  </thead>\n",
              "  <tbody>\n",
              "    <tr>\n",
              "      <th>0</th>\n",
              "      <td>34</td>\n",
              "      <td>SEO</td>\n",
              "      <td>Chrome</td>\n",
              "      <td>M</td>\n",
              "      <td>39</td>\n",
              "      <td>0</td>\n",
              "      <td>Japan</td>\n",
              "      <td>9</td>\n",
              "      <td>16</td>\n",
              "      <td>4506682.0</td>\n",
              "      <td>1</td>\n",
              "      <td>1</td>\n",
              "      <td>7306</td>\n",
              "    </tr>\n",
              "    <tr>\n",
              "      <th>1</th>\n",
              "      <td>16</td>\n",
              "      <td>Ads</td>\n",
              "      <td>Chrome</td>\n",
              "      <td>F</td>\n",
              "      <td>53</td>\n",
              "      <td>0</td>\n",
              "      <td>United States</td>\n",
              "      <td>23</td>\n",
              "      <td>24</td>\n",
              "      <td>17944.0</td>\n",
              "      <td>1</td>\n",
              "      <td>1</td>\n",
              "      <td>58049</td>\n",
              "    </tr>\n",
              "    <tr>\n",
              "      <th>2</th>\n",
              "      <td>15</td>\n",
              "      <td>SEO</td>\n",
              "      <td>Opera</td>\n",
              "      <td>M</td>\n",
              "      <td>53</td>\n",
              "      <td>1</td>\n",
              "      <td>United States</td>\n",
              "      <td>1</td>\n",
              "      <td>1</td>\n",
              "      <td>1.0</td>\n",
              "      <td>12</td>\n",
              "      <td>12</td>\n",
              "      <td>58049</td>\n",
              "    </tr>\n",
              "    <tr>\n",
              "      <th>3</th>\n",
              "      <td>44</td>\n",
              "      <td>SEO</td>\n",
              "      <td>Safari</td>\n",
              "      <td>M</td>\n",
              "      <td>41</td>\n",
              "      <td>0</td>\n",
              "      <td>Unknown</td>\n",
              "      <td>18</td>\n",
              "      <td>19</td>\n",
              "      <td>492085.0</td>\n",
              "      <td>1</td>\n",
              "      <td>1</td>\n",
              "      <td>21966</td>\n",
              "    </tr>\n",
              "    <tr>\n",
              "      <th>4</th>\n",
              "      <td>39</td>\n",
              "      <td>Ads</td>\n",
              "      <td>Safari</td>\n",
              "      <td>M</td>\n",
              "      <td>45</td>\n",
              "      <td>0</td>\n",
              "      <td>United States</td>\n",
              "      <td>30</td>\n",
              "      <td>37</td>\n",
              "      <td>4361461.0</td>\n",
              "      <td>1</td>\n",
              "      <td>1</td>\n",
              "      <td>58049</td>\n",
              "    </tr>\n",
              "  </tbody>\n",
              "</table>\n",
              "</div>"
            ],
            "text/plain": [
              "   purchase_value source browser  ... device_shared  ip_shared  country_shared\n",
              "0              34    SEO  Chrome  ...             1          1            7306\n",
              "1              16    Ads  Chrome  ...             1          1           58049\n",
              "2              15    SEO   Opera  ...            12         12           58049\n",
              "3              44    SEO  Safari  ...             1          1           21966\n",
              "4              39    Ads  Safari  ...             1          1           58049\n",
              "\n",
              "[5 rows x 13 columns]"
            ]
          },
          "metadata": {
            "tags": []
          },
          "execution_count": 7
        }
      ]
    },
    {
      "cell_type": "code",
      "metadata": {
        "id": "H7nzBZhioThc",
        "colab_type": "code",
        "colab": {
          "base_uri": "https://localhost:8080/",
          "height": 275
        },
        "outputId": "1ba581a5-4ca9-4d2a-bfeb-a391778196bd"
      },
      "source": [
        "# transform and map source\n",
        "source_le = LabelEncoder()\n",
        "source_labels = source_le.fit_transform(df[\"source\"])\n",
        "df[\"source_label\"] = source_labels\n",
        "source_ohe = OneHotEncoder()\n",
        "source_feature_arr = source_ohe.fit_transform(\n",
        "                              df[[\"source_label\"]]).toarray()\n",
        "source_feature_labels = list(source_le.classes_)\n",
        "source_features = pd.DataFrame(source_feature_arr, \n",
        "                            columns=source_feature_labels)\n",
        "\n",
        "# transform and map browser\n",
        "browser_le = LabelEncoder()\n",
        "browser_labels = browser_le.fit_transform(df[\"browser\"])\n",
        "df[\"browser_label\"] = browser_labels\n",
        "brow_ohe = OneHotEncoder()\n",
        "brow_feature_arr = brow_ohe.fit_transform(\n",
        "                              df[[\"browser_label\"]]).toarray()\n",
        "brow_feature_labels = list(browser_le.classes_)\n",
        "brow_features = pd.DataFrame(brow_feature_arr, \n",
        "                            columns=brow_feature_labels)\n",
        "\n",
        "# transform and map sex\n",
        "sex_le = LabelEncoder()\n",
        "sex_labels = sex_le.fit_transform(df[\"sex\"])\n",
        "df[\"sex_label\"] = sex_labels\n",
        "sex_ohe = OneHotEncoder()\n",
        "sex_feature_arr = sex_ohe.fit_transform(\n",
        "                              df[[\"sex_label\"]]).toarray()\n",
        "sex_feature_labels = list(sex_le.classes_)\n",
        "sex_features = pd.DataFrame(sex_feature_arr, \n",
        "                            columns=sex_feature_labels)\n",
        "\n",
        "# transform and map country\n",
        "coun_le = LabelEncoder()\n",
        "coun_labels = coun_le.fit_transform(df[\"country\"])\n",
        "df[\"coun_label\"] = coun_labels\n",
        "coun_ohe = OneHotEncoder()\n",
        "coun_feature_arr = coun_ohe.fit_transform(\n",
        "                              df[[\"coun_label\"]]).toarray()\n",
        "coun_feature_labels = list(coun_le.classes_)\n",
        "coun_features = pd.DataFrame(coun_feature_arr, \n",
        "                            columns=coun_feature_labels)\n",
        "\n",
        "new_df = pd.concat([df, source_features, brow_features, sex_features], axis=1)\n",
        "new_df.head()"
      ],
      "execution_count": null,
      "outputs": [
        {
          "output_type": "execute_result",
          "data": {
            "text/html": [
              "<div>\n",
              "<style scoped>\n",
              "    .dataframe tbody tr th:only-of-type {\n",
              "        vertical-align: middle;\n",
              "    }\n",
              "\n",
              "    .dataframe tbody tr th {\n",
              "        vertical-align: top;\n",
              "    }\n",
              "\n",
              "    .dataframe thead th {\n",
              "        text-align: right;\n",
              "    }\n",
              "</style>\n",
              "<table border=\"1\" class=\"dataframe\">\n",
              "  <thead>\n",
              "    <tr style=\"text-align: right;\">\n",
              "      <th></th>\n",
              "      <th>purchase_value</th>\n",
              "      <th>source</th>\n",
              "      <th>browser</th>\n",
              "      <th>sex</th>\n",
              "      <th>age</th>\n",
              "      <th>class</th>\n",
              "      <th>country</th>\n",
              "      <th>signup_weekofyear</th>\n",
              "      <th>purchase_weekofyear</th>\n",
              "      <th>signTOpurchase</th>\n",
              "      <th>device_shared</th>\n",
              "      <th>ip_shared</th>\n",
              "      <th>country_shared</th>\n",
              "      <th>source_label</th>\n",
              "      <th>browser_label</th>\n",
              "      <th>sex_label</th>\n",
              "      <th>coun_label</th>\n",
              "      <th>Ads</th>\n",
              "      <th>Direct</th>\n",
              "      <th>SEO</th>\n",
              "      <th>Chrome</th>\n",
              "      <th>FireFox</th>\n",
              "      <th>IE</th>\n",
              "      <th>Opera</th>\n",
              "      <th>Safari</th>\n",
              "      <th>F</th>\n",
              "      <th>M</th>\n",
              "    </tr>\n",
              "  </thead>\n",
              "  <tbody>\n",
              "    <tr>\n",
              "      <th>0</th>\n",
              "      <td>34</td>\n",
              "      <td>SEO</td>\n",
              "      <td>Chrome</td>\n",
              "      <td>M</td>\n",
              "      <td>39</td>\n",
              "      <td>0</td>\n",
              "      <td>Japan</td>\n",
              "      <td>9</td>\n",
              "      <td>16</td>\n",
              "      <td>4506682.0</td>\n",
              "      <td>1</td>\n",
              "      <td>1</td>\n",
              "      <td>7306</td>\n",
              "      <td>2</td>\n",
              "      <td>0</td>\n",
              "      <td>1</td>\n",
              "      <td>84</td>\n",
              "      <td>0.0</td>\n",
              "      <td>0.0</td>\n",
              "      <td>1.0</td>\n",
              "      <td>1.0</td>\n",
              "      <td>0.0</td>\n",
              "      <td>0.0</td>\n",
              "      <td>0.0</td>\n",
              "      <td>0.0</td>\n",
              "      <td>0.0</td>\n",
              "      <td>1.0</td>\n",
              "    </tr>\n",
              "    <tr>\n",
              "      <th>1</th>\n",
              "      <td>16</td>\n",
              "      <td>Ads</td>\n",
              "      <td>Chrome</td>\n",
              "      <td>F</td>\n",
              "      <td>53</td>\n",
              "      <td>0</td>\n",
              "      <td>United States</td>\n",
              "      <td>23</td>\n",
              "      <td>24</td>\n",
              "      <td>17944.0</td>\n",
              "      <td>1</td>\n",
              "      <td>1</td>\n",
              "      <td>58049</td>\n",
              "      <td>0</td>\n",
              "      <td>0</td>\n",
              "      <td>0</td>\n",
              "      <td>171</td>\n",
              "      <td>1.0</td>\n",
              "      <td>0.0</td>\n",
              "      <td>0.0</td>\n",
              "      <td>1.0</td>\n",
              "      <td>0.0</td>\n",
              "      <td>0.0</td>\n",
              "      <td>0.0</td>\n",
              "      <td>0.0</td>\n",
              "      <td>1.0</td>\n",
              "      <td>0.0</td>\n",
              "    </tr>\n",
              "    <tr>\n",
              "      <th>2</th>\n",
              "      <td>15</td>\n",
              "      <td>SEO</td>\n",
              "      <td>Opera</td>\n",
              "      <td>M</td>\n",
              "      <td>53</td>\n",
              "      <td>1</td>\n",
              "      <td>United States</td>\n",
              "      <td>1</td>\n",
              "      <td>1</td>\n",
              "      <td>1.0</td>\n",
              "      <td>12</td>\n",
              "      <td>12</td>\n",
              "      <td>58049</td>\n",
              "      <td>2</td>\n",
              "      <td>3</td>\n",
              "      <td>1</td>\n",
              "      <td>171</td>\n",
              "      <td>0.0</td>\n",
              "      <td>0.0</td>\n",
              "      <td>1.0</td>\n",
              "      <td>0.0</td>\n",
              "      <td>0.0</td>\n",
              "      <td>0.0</td>\n",
              "      <td>1.0</td>\n",
              "      <td>0.0</td>\n",
              "      <td>0.0</td>\n",
              "      <td>1.0</td>\n",
              "    </tr>\n",
              "    <tr>\n",
              "      <th>3</th>\n",
              "      <td>44</td>\n",
              "      <td>SEO</td>\n",
              "      <td>Safari</td>\n",
              "      <td>M</td>\n",
              "      <td>41</td>\n",
              "      <td>0</td>\n",
              "      <td>Unknown</td>\n",
              "      <td>18</td>\n",
              "      <td>19</td>\n",
              "      <td>492085.0</td>\n",
              "      <td>1</td>\n",
              "      <td>1</td>\n",
              "      <td>21966</td>\n",
              "      <td>2</td>\n",
              "      <td>4</td>\n",
              "      <td>1</td>\n",
              "      <td>172</td>\n",
              "      <td>0.0</td>\n",
              "      <td>0.0</td>\n",
              "      <td>1.0</td>\n",
              "      <td>0.0</td>\n",
              "      <td>0.0</td>\n",
              "      <td>0.0</td>\n",
              "      <td>0.0</td>\n",
              "      <td>1.0</td>\n",
              "      <td>0.0</td>\n",
              "      <td>1.0</td>\n",
              "    </tr>\n",
              "    <tr>\n",
              "      <th>4</th>\n",
              "      <td>39</td>\n",
              "      <td>Ads</td>\n",
              "      <td>Safari</td>\n",
              "      <td>M</td>\n",
              "      <td>45</td>\n",
              "      <td>0</td>\n",
              "      <td>United States</td>\n",
              "      <td>30</td>\n",
              "      <td>37</td>\n",
              "      <td>4361461.0</td>\n",
              "      <td>1</td>\n",
              "      <td>1</td>\n",
              "      <td>58049</td>\n",
              "      <td>0</td>\n",
              "      <td>4</td>\n",
              "      <td>1</td>\n",
              "      <td>171</td>\n",
              "      <td>1.0</td>\n",
              "      <td>0.0</td>\n",
              "      <td>0.0</td>\n",
              "      <td>0.0</td>\n",
              "      <td>0.0</td>\n",
              "      <td>0.0</td>\n",
              "      <td>0.0</td>\n",
              "      <td>1.0</td>\n",
              "      <td>0.0</td>\n",
              "      <td>1.0</td>\n",
              "    </tr>\n",
              "  </tbody>\n",
              "</table>\n",
              "</div>"
            ],
            "text/plain": [
              "   purchase_value source browser sex  age  ...   IE Opera  Safari    F    M\n",
              "0              34    SEO  Chrome   M   39  ...  0.0   0.0     0.0  0.0  1.0\n",
              "1              16    Ads  Chrome   F   53  ...  0.0   0.0     0.0  1.0  0.0\n",
              "2              15    SEO   Opera   M   53  ...  0.0   1.0     0.0  0.0  1.0\n",
              "3              44    SEO  Safari   M   41  ...  0.0   0.0     1.0  0.0  1.0\n",
              "4              39    Ads  Safari   M   45  ...  0.0   0.0     1.0  0.0  1.0\n",
              "\n",
              "[5 rows x 27 columns]"
            ]
          },
          "metadata": {
            "tags": []
          },
          "execution_count": 8
        }
      ]
    },
    {
      "cell_type": "code",
      "metadata": {
        "id": "iPEc5Q0QtFDH",
        "colab_type": "code",
        "colab": {}
      },
      "source": [
        "new_df.drop(columns = [\"source\", \"browser\", \"sex\", \"country\"], inplace = True)\n",
        "\n",
        "x_df = new_df.drop(columns = [\"class\"]).reset_index(drop = True)\n",
        "y_df = new_df[[\"class\"]].reset_index(drop = True)"
      ],
      "execution_count": null,
      "outputs": []
    },
    {
      "cell_type": "code",
      "metadata": {
        "id": "NOhogxdFt0Tt",
        "colab_type": "code",
        "colab": {}
      },
      "source": [
        "train_x, test_x, train_y, test_y = train_test_split(x_df, y_df, test_size = 0.3, random_state = 0)\n",
        "sm = SMOTE(sampling_strategy=0.8, random_state=7)"
      ],
      "execution_count": null,
      "outputs": []
    },
    {
      "cell_type": "code",
      "metadata": {
        "id": "e4NdGK2vW9Jp",
        "colab_type": "code",
        "colab": {
          "base_uri": "https://localhost:8080/",
          "height": 54
        },
        "outputId": "8038a323-a57d-46b9-d60d-bb741ba273ac"
      },
      "source": [
        "\"\"\"skf = StratifiedKFold(n_splits=2,random_state=0, shuffle=True)\n",
        "for train_index, test_index in skf.split(x_df, y_df):\n",
        "     train_x, test_x = x_df.iloc[train_index], x_df.iloc[test_index]\n",
        "     train_y, test_y = y_df.iloc[train_index], y_df.iloc[test_index]\n",
        "sm = SMOTE(sampling_strategy=1, random_state=7)\"\"\""
      ],
      "execution_count": null,
      "outputs": [
        {
          "output_type": "execute_result",
          "data": {
            "text/plain": [
              "'skf = StratifiedKFold(n_splits=2,random_state=0, shuffle=True)\\nfor train_index, test_index in skf.split(x_df, y_df):\\n     train_x, test_x = x_df.iloc[train_index], x_df.iloc[test_index]\\n     train_y, test_y = y_df.iloc[train_index], y_df.iloc[test_index]\\nsm = SMOTE(sampling_strategy=1, random_state=7)'"
            ]
          },
          "metadata": {
            "tags": []
          },
          "execution_count": 11
        }
      ]
    },
    {
      "cell_type": "code",
      "metadata": {
        "id": "mR4MUeQiwj9i",
        "colab_type": "code",
        "colab": {
          "base_uri": "https://localhost:8080/",
          "height": 34
        },
        "outputId": "3744b6f3-c0d3-4cfe-e6cc-4cfc85b122f0"
      },
      "source": [
        "train_x.shape"
      ],
      "execution_count": null,
      "outputs": [
        {
          "output_type": "execute_result",
          "data": {
            "text/plain": [
              "(105778, 22)"
            ]
          },
          "metadata": {
            "tags": []
          },
          "execution_count": 12
        }
      ]
    },
    {
      "cell_type": "code",
      "metadata": {
        "id": "tQ8Ag1qSwpCi",
        "colab_type": "code",
        "colab": {
          "base_uri": "https://localhost:8080/",
          "height": 34
        },
        "outputId": "86620b85-0a90-43e5-df20-f6ac2a013f9d"
      },
      "source": [
        "train_y.shape"
      ],
      "execution_count": null,
      "outputs": [
        {
          "output_type": "execute_result",
          "data": {
            "text/plain": [
              "(105778, 1)"
            ]
          },
          "metadata": {
            "tags": []
          },
          "execution_count": 13
        }
      ]
    },
    {
      "cell_type": "code",
      "metadata": {
        "id": "I8pyT9vBt1-p",
        "colab_type": "code",
        "colab": {
          "base_uri": "https://localhost:8080/",
          "height": 105
        },
        "outputId": "55835713-8a34-4705-fba5-f7baf1746ddd"
      },
      "source": [
        "over_X, over_y = sm.fit_resample(train_x, train_y)"
      ],
      "execution_count": null,
      "outputs": [
        {
          "output_type": "stream",
          "text": [
            "/usr/local/lib/python3.6/dist-packages/sklearn/utils/validation.py:760: DataConversionWarning: A column-vector y was passed when a 1d array was expected. Please change the shape of y to (n_samples, ), for example using ravel().\n",
            "  y = column_or_1d(y, warn=True)\n",
            "/usr/local/lib/python3.6/dist-packages/sklearn/utils/deprecation.py:87: FutureWarning: Function safe_indexing is deprecated; safe_indexing is deprecated in version 0.22 and will be removed in version 0.24.\n",
            "  warnings.warn(msg, category=FutureWarning)\n"
          ],
          "name": "stderr"
        }
      ]
    },
    {
      "cell_type": "code",
      "metadata": {
        "id": "uREsfcj8ucMm",
        "colab_type": "code",
        "colab": {
          "base_uri": "https://localhost:8080/",
          "height": 51
        },
        "outputId": "1a4843ca-3ea8-45b4-f72d-18d260fce399"
      },
      "source": [
        "model = AdaBoostClassifier(n_estimators = 600,learning_rate = 1,algorithm = \"SAMME.R\")\n",
        "model.fit(over_X, over_y)"
      ],
      "execution_count": null,
      "outputs": [
        {
          "output_type": "execute_result",
          "data": {
            "text/plain": [
              "AdaBoostClassifier(algorithm='SAMME.R', base_estimator=None, learning_rate=1,\n",
              "                   n_estimators=600, random_state=None)"
            ]
          },
          "metadata": {
            "tags": []
          },
          "execution_count": 15
        }
      ]
    },
    {
      "cell_type": "code",
      "metadata": {
        "id": "81_PAloJxWb3",
        "colab_type": "code",
        "colab": {
          "base_uri": "https://localhost:8080/",
          "height": 34
        },
        "outputId": "319056e8-2d8c-4804-8c16-7ba6f55fc6ec"
      },
      "source": [
        "model.score(over_X, over_y)"
      ],
      "execution_count": null,
      "outputs": [
        {
          "output_type": "execute_result",
          "data": {
            "text/plain": [
              "0.9680008816142821"
            ]
          },
          "metadata": {
            "tags": []
          },
          "execution_count": 16
        }
      ]
    },
    {
      "cell_type": "code",
      "metadata": {
        "id": "xWV3j8QRyjsQ",
        "colab_type": "code",
        "colab": {
          "base_uri": "https://localhost:8080/",
          "height": 34
        },
        "outputId": "b3e583a6-c0ba-4418-8862-b40b618efc64"
      },
      "source": [
        "model.score(test_x, test_y)"
      ],
      "execution_count": null,
      "outputs": [
        {
          "output_type": "execute_result",
          "data": {
            "text/plain": [
              "0.9585741386156086"
            ]
          },
          "metadata": {
            "tags": []
          },
          "execution_count": 17
        }
      ]
    },
    {
      "cell_type": "code",
      "metadata": {
        "id": "a2dTmYUCyoZi",
        "colab_type": "code",
        "colab": {
          "base_uri": "https://localhost:8080/",
          "height": 51
        },
        "outputId": "273469de-e195-4358-9215-1fb327518860"
      },
      "source": [
        "from sklearn.metrics import confusion_matrix\n",
        "t = test_y\n",
        "p = model.predict(test_x)\n",
        "confusion_matrix(t, p)"
      ],
      "execution_count": null,
      "outputs": [
        {
          "output_type": "execute_result",
          "data": {
            "text/plain": [
              "array([[41175,     2],\n",
              "       [ 1876,  2281]])"
            ]
          },
          "metadata": {
            "tags": []
          },
          "execution_count": 18
        }
      ]
    },
    {
      "cell_type": "code",
      "metadata": {
        "id": "nJemvI5uzrAi",
        "colab_type": "code",
        "colab": {
          "base_uri": "https://localhost:8080/",
          "height": 170
        },
        "outputId": "2b05fc8a-1647-4f4b-e781-574dcac83570"
      },
      "source": [
        "from sklearn.metrics import classification_report\n",
        "print(classification_report(test_y,p))\n"
      ],
      "execution_count": null,
      "outputs": [
        {
          "output_type": "stream",
          "text": [
            "              precision    recall  f1-score   support\n",
            "\n",
            "           0       0.96      1.00      0.98     41177\n",
            "           1       1.00      0.55      0.71      4157\n",
            "\n",
            "    accuracy                           0.96     45334\n",
            "   macro avg       0.98      0.77      0.84     45334\n",
            "weighted avg       0.96      0.96      0.95     45334\n",
            "\n"
          ],
          "name": "stdout"
        }
      ]
    },
    {
      "cell_type": "code",
      "metadata": {
        "id": "rGNxhNzjCcEA",
        "colab_type": "code",
        "colab": {}
      },
      "source": [
        "tn, fp, fn, tp = confusion_matrix(t, p).ravel()"
      ],
      "execution_count": null,
      "outputs": []
    },
    {
      "cell_type": "code",
      "metadata": {
        "id": "eoyuJxAYbUsP",
        "colab_type": "code",
        "colab": {}
      },
      "source": [
        ""
      ],
      "execution_count": null,
      "outputs": []
    }
  ]
}