{
  "nbformat": 4,
  "nbformat_minor": 0,
  "metadata": {
    "colab": {
      "name": "House price.ipynb",
      "provenance": []
    },
    "kernelspec": {
      "name": "python3",
      "display_name": "Python 3"
    },
    "accelerator": "GPU"
  },
  "cells": [
    {
      "cell_type": "code",
      "metadata": {
        "id": "Wp8UeeAE6Isn",
        "colab_type": "code",
        "colab": {
          "base_uri": "https://localhost:8080/",
          "height": 193
        },
        "outputId": "5e82a885-c10d-4d43-abd1-ef4162878076"
      },
      "source": [
        "pip install hyperopt"
      ],
      "execution_count": null,
      "outputs": [
        {
          "output_type": "stream",
          "text": [
            "Requirement already satisfied: hyperopt in /usr/local/lib/python3.6/dist-packages (0.1.2)\n",
            "Requirement already satisfied: networkx in /usr/local/lib/python3.6/dist-packages (from hyperopt) (2.4)\n",
            "Requirement already satisfied: tqdm in /usr/local/lib/python3.6/dist-packages (from hyperopt) (4.41.1)\n",
            "Requirement already satisfied: future in /usr/local/lib/python3.6/dist-packages (from hyperopt) (0.16.0)\n",
            "Requirement already satisfied: pymongo in /usr/local/lib/python3.6/dist-packages (from hyperopt) (3.10.1)\n",
            "Requirement already satisfied: scipy in /usr/local/lib/python3.6/dist-packages (from hyperopt) (1.4.1)\n",
            "Requirement already satisfied: numpy in /usr/local/lib/python3.6/dist-packages (from hyperopt) (1.18.5)\n",
            "Requirement already satisfied: six in /usr/local/lib/python3.6/dist-packages (from hyperopt) (1.12.0)\n",
            "Requirement already satisfied: decorator>=4.3.0 in /usr/local/lib/python3.6/dist-packages (from networkx->hyperopt) (4.4.2)\n"
          ],
          "name": "stdout"
        }
      ]
    },
    {
      "cell_type": "code",
      "metadata": {
        "id": "XKSO-Zaq3jkD",
        "colab_type": "code",
        "colab": {}
      },
      "source": [
        "import numpy as np\n",
        "import pandas as pd\n",
        "%matplotlib inline\n",
        "import matplotlib.pyplot as plt\n",
        "import seaborn as sns\n",
        "from hyperopt import hp, tpe, fmin\n",
        "from sklearn.model_selection import cross_val_score, train_test_split\n",
        "from sklearn.preprocessing import StandardScaler\n",
        "from sklearn.ensemble import AdaBoostRegressor\n",
        "from sklearn.linear_model import Lasso\n",
        "from sklearn.metrics import mean_squared_error\n",
        "from scipy.stats import skew\n",
        "from xgboost import XGBRegressor"
      ],
      "execution_count": 37,
      "outputs": []
    },
    {
      "cell_type": "code",
      "metadata": {
        "id": "HmO3WGeo6k6v",
        "colab_type": "code",
        "colab": {}
      },
      "source": [
        "train_df = pd.read_csv(\"/content/train.csv\")\n",
        "test_df = pd.read_csv(\"/content/test.csv\")"
      ],
      "execution_count": 2,
      "outputs": []
    },
    {
      "cell_type": "code",
      "metadata": {
        "id": "MIrWeckA63c8",
        "colab_type": "code",
        "colab": {
          "base_uri": "https://localhost:8080/",
          "height": 1000
        },
        "outputId": "0a594744-d69f-48f6-ab12-b7d5631d8912"
      },
      "source": [
        "train_df.info()"
      ],
      "execution_count": 3,
      "outputs": [
        {
          "output_type": "stream",
          "text": [
            "<class 'pandas.core.frame.DataFrame'>\n",
            "RangeIndex: 1460 entries, 0 to 1459\n",
            "Data columns (total 81 columns):\n",
            " #   Column         Non-Null Count  Dtype  \n",
            "---  ------         --------------  -----  \n",
            " 0   Id             1460 non-null   int64  \n",
            " 1   MSSubClass     1460 non-null   int64  \n",
            " 2   MSZoning       1460 non-null   object \n",
            " 3   LotFrontage    1201 non-null   float64\n",
            " 4   LotArea        1460 non-null   int64  \n",
            " 5   Street         1460 non-null   object \n",
            " 6   Alley          91 non-null     object \n",
            " 7   LotShape       1460 non-null   object \n",
            " 8   LandContour    1460 non-null   object \n",
            " 9   Utilities      1460 non-null   object \n",
            " 10  LotConfig      1460 non-null   object \n",
            " 11  LandSlope      1460 non-null   object \n",
            " 12  Neighborhood   1460 non-null   object \n",
            " 13  Condition1     1460 non-null   object \n",
            " 14  Condition2     1460 non-null   object \n",
            " 15  BldgType       1460 non-null   object \n",
            " 16  HouseStyle     1460 non-null   object \n",
            " 17  OverallQual    1460 non-null   int64  \n",
            " 18  OverallCond    1460 non-null   int64  \n",
            " 19  YearBuilt      1460 non-null   int64  \n",
            " 20  YearRemodAdd   1460 non-null   int64  \n",
            " 21  RoofStyle      1460 non-null   object \n",
            " 22  RoofMatl       1460 non-null   object \n",
            " 23  Exterior1st    1460 non-null   object \n",
            " 24  Exterior2nd    1460 non-null   object \n",
            " 25  MasVnrType     1452 non-null   object \n",
            " 26  MasVnrArea     1452 non-null   float64\n",
            " 27  ExterQual      1460 non-null   object \n",
            " 28  ExterCond      1460 non-null   object \n",
            " 29  Foundation     1460 non-null   object \n",
            " 30  BsmtQual       1423 non-null   object \n",
            " 31  BsmtCond       1423 non-null   object \n",
            " 32  BsmtExposure   1422 non-null   object \n",
            " 33  BsmtFinType1   1423 non-null   object \n",
            " 34  BsmtFinSF1     1460 non-null   int64  \n",
            " 35  BsmtFinType2   1422 non-null   object \n",
            " 36  BsmtFinSF2     1460 non-null   int64  \n",
            " 37  BsmtUnfSF      1460 non-null   int64  \n",
            " 38  TotalBsmtSF    1460 non-null   int64  \n",
            " 39  Heating        1460 non-null   object \n",
            " 40  HeatingQC      1460 non-null   object \n",
            " 41  CentralAir     1460 non-null   object \n",
            " 42  Electrical     1459 non-null   object \n",
            " 43  1stFlrSF       1460 non-null   int64  \n",
            " 44  2ndFlrSF       1460 non-null   int64  \n",
            " 45  LowQualFinSF   1460 non-null   int64  \n",
            " 46  GrLivArea      1460 non-null   int64  \n",
            " 47  BsmtFullBath   1460 non-null   int64  \n",
            " 48  BsmtHalfBath   1460 non-null   int64  \n",
            " 49  FullBath       1460 non-null   int64  \n",
            " 50  HalfBath       1460 non-null   int64  \n",
            " 51  BedroomAbvGr   1460 non-null   int64  \n",
            " 52  KitchenAbvGr   1460 non-null   int64  \n",
            " 53  KitchenQual    1460 non-null   object \n",
            " 54  TotRmsAbvGrd   1460 non-null   int64  \n",
            " 55  Functional     1460 non-null   object \n",
            " 56  Fireplaces     1460 non-null   int64  \n",
            " 57  FireplaceQu    770 non-null    object \n",
            " 58  GarageType     1379 non-null   object \n",
            " 59  GarageYrBlt    1379 non-null   float64\n",
            " 60  GarageFinish   1379 non-null   object \n",
            " 61  GarageCars     1460 non-null   int64  \n",
            " 62  GarageArea     1460 non-null   int64  \n",
            " 63  GarageQual     1379 non-null   object \n",
            " 64  GarageCond     1379 non-null   object \n",
            " 65  PavedDrive     1460 non-null   object \n",
            " 66  WoodDeckSF     1460 non-null   int64  \n",
            " 67  OpenPorchSF    1460 non-null   int64  \n",
            " 68  EnclosedPorch  1460 non-null   int64  \n",
            " 69  3SsnPorch      1460 non-null   int64  \n",
            " 70  ScreenPorch    1460 non-null   int64  \n",
            " 71  PoolArea       1460 non-null   int64  \n",
            " 72  PoolQC         7 non-null      object \n",
            " 73  Fence          281 non-null    object \n",
            " 74  MiscFeature    54 non-null     object \n",
            " 75  MiscVal        1460 non-null   int64  \n",
            " 76  MoSold         1460 non-null   int64  \n",
            " 77  YrSold         1460 non-null   int64  \n",
            " 78  SaleType       1460 non-null   object \n",
            " 79  SaleCondition  1460 non-null   object \n",
            " 80  SalePrice      1460 non-null   int64  \n",
            "dtypes: float64(3), int64(35), object(43)\n",
            "memory usage: 924.0+ KB\n"
          ],
          "name": "stdout"
        }
      ]
    },
    {
      "cell_type": "code",
      "metadata": {
        "id": "M5z2eYRQ67CV",
        "colab_type": "code",
        "colab": {
          "base_uri": "https://localhost:8080/",
          "height": 52
        },
        "outputId": "b5a9f013-930f-4cbd-eba1-3efc1a62694e"
      },
      "source": [
        "print(train_df.duplicated().sum())\n",
        "print(test_df.duplicated().sum())"
      ],
      "execution_count": 4,
      "outputs": [
        {
          "output_type": "stream",
          "text": [
            "0\n",
            "0\n"
          ],
          "name": "stdout"
        }
      ]
    },
    {
      "cell_type": "code",
      "metadata": {
        "id": "j0SQYrCSFlyi",
        "colab_type": "code",
        "colab": {}
      },
      "source": [
        "pd.set_option(\"display.max_rows\", None, \"display.max_columns\", None)"
      ],
      "execution_count": 5,
      "outputs": []
    },
    {
      "cell_type": "code",
      "metadata": {
        "id": "Gan0eKUw-DGQ",
        "colab_type": "code",
        "colab": {
          "base_uri": "https://localhost:8080/",
          "height": 243
        },
        "outputId": "cb8a917e-b75b-4bfd-e868-635606e88a98"
      },
      "source": [
        "train_df.drop(\"Id\", axis = 1, inplace = True)\n",
        "numerical_fea = train_df.select_dtypes(include = [\"float\", \"int\"]).columns\n",
        "types = train_df.dtypes\n",
        "missing = round((train_df.isnull().sum() / train_df.shape[0]), 5) * 100\n",
        "info = train_df.apply(lambda x: [round(x.min()), round(x.max()), round(x.min()), round(x.median())] if x.name in numerical_fea else None)\n",
        "outliers = train_df.apply(lambda x: sum( (x < (x.quantile(0.25) - 1.5 * (x.quantile(0.75) - x.quantile(0.25)))) | \\\n",
        "                                          (x > (x.quantile(0.25) + 1.5 * (x.quantile(0.75) - x.quantile(0.25)))) \\\n",
        "                                        if x.name in numerical_fea else \"\"))\n",
        "explore = pd.DataFrame({\"Types\" : types, \"Missing\" :missing, \"Info\" : info, \"Outliers\" : outliers}).sort_values(by = [\"Types\", \"Missing\"])\n",
        "explore.transpose()"
      ],
      "execution_count": 6,
      "outputs": [
        {
          "output_type": "execute_result",
          "data": {
            "text/html": [
              "<div>\n",
              "<style scoped>\n",
              "    .dataframe tbody tr th:only-of-type {\n",
              "        vertical-align: middle;\n",
              "    }\n",
              "\n",
              "    .dataframe tbody tr th {\n",
              "        vertical-align: top;\n",
              "    }\n",
              "\n",
              "    .dataframe thead th {\n",
              "        text-align: right;\n",
              "    }\n",
              "</style>\n",
              "<table border=\"1\" class=\"dataframe\">\n",
              "  <thead>\n",
              "    <tr style=\"text-align: right;\">\n",
              "      <th></th>\n",
              "      <th>MSSubClass</th>\n",
              "      <th>LotArea</th>\n",
              "      <th>OverallQual</th>\n",
              "      <th>OverallCond</th>\n",
              "      <th>YearBuilt</th>\n",
              "      <th>YearRemodAdd</th>\n",
              "      <th>BsmtFinSF1</th>\n",
              "      <th>BsmtFinSF2</th>\n",
              "      <th>BsmtUnfSF</th>\n",
              "      <th>TotalBsmtSF</th>\n",
              "      <th>1stFlrSF</th>\n",
              "      <th>2ndFlrSF</th>\n",
              "      <th>LowQualFinSF</th>\n",
              "      <th>GrLivArea</th>\n",
              "      <th>BsmtFullBath</th>\n",
              "      <th>BsmtHalfBath</th>\n",
              "      <th>FullBath</th>\n",
              "      <th>HalfBath</th>\n",
              "      <th>BedroomAbvGr</th>\n",
              "      <th>KitchenAbvGr</th>\n",
              "      <th>TotRmsAbvGrd</th>\n",
              "      <th>Fireplaces</th>\n",
              "      <th>GarageCars</th>\n",
              "      <th>GarageArea</th>\n",
              "      <th>WoodDeckSF</th>\n",
              "      <th>OpenPorchSF</th>\n",
              "      <th>EnclosedPorch</th>\n",
              "      <th>3SsnPorch</th>\n",
              "      <th>ScreenPorch</th>\n",
              "      <th>PoolArea</th>\n",
              "      <th>MiscVal</th>\n",
              "      <th>MoSold</th>\n",
              "      <th>YrSold</th>\n",
              "      <th>SalePrice</th>\n",
              "      <th>MasVnrArea</th>\n",
              "      <th>GarageYrBlt</th>\n",
              "      <th>LotFrontage</th>\n",
              "      <th>MSZoning</th>\n",
              "      <th>Street</th>\n",
              "      <th>LotShape</th>\n",
              "      <th>LandContour</th>\n",
              "      <th>Utilities</th>\n",
              "      <th>LotConfig</th>\n",
              "      <th>LandSlope</th>\n",
              "      <th>Neighborhood</th>\n",
              "      <th>Condition1</th>\n",
              "      <th>Condition2</th>\n",
              "      <th>BldgType</th>\n",
              "      <th>HouseStyle</th>\n",
              "      <th>RoofStyle</th>\n",
              "      <th>RoofMatl</th>\n",
              "      <th>Exterior1st</th>\n",
              "      <th>Exterior2nd</th>\n",
              "      <th>ExterQual</th>\n",
              "      <th>ExterCond</th>\n",
              "      <th>Foundation</th>\n",
              "      <th>Heating</th>\n",
              "      <th>HeatingQC</th>\n",
              "      <th>CentralAir</th>\n",
              "      <th>KitchenQual</th>\n",
              "      <th>Functional</th>\n",
              "      <th>PavedDrive</th>\n",
              "      <th>SaleType</th>\n",
              "      <th>SaleCondition</th>\n",
              "      <th>Electrical</th>\n",
              "      <th>MasVnrType</th>\n",
              "      <th>BsmtQual</th>\n",
              "      <th>BsmtCond</th>\n",
              "      <th>BsmtFinType1</th>\n",
              "      <th>BsmtExposure</th>\n",
              "      <th>BsmtFinType2</th>\n",
              "      <th>GarageType</th>\n",
              "      <th>GarageFinish</th>\n",
              "      <th>GarageQual</th>\n",
              "      <th>GarageCond</th>\n",
              "      <th>FireplaceQu</th>\n",
              "      <th>Fence</th>\n",
              "      <th>Alley</th>\n",
              "      <th>MiscFeature</th>\n",
              "      <th>PoolQC</th>\n",
              "    </tr>\n",
              "  </thead>\n",
              "  <tbody>\n",
              "    <tr>\n",
              "      <th>Types</th>\n",
              "      <td>int64</td>\n",
              "      <td>int64</td>\n",
              "      <td>int64</td>\n",
              "      <td>int64</td>\n",
              "      <td>int64</td>\n",
              "      <td>int64</td>\n",
              "      <td>int64</td>\n",
              "      <td>int64</td>\n",
              "      <td>int64</td>\n",
              "      <td>int64</td>\n",
              "      <td>int64</td>\n",
              "      <td>int64</td>\n",
              "      <td>int64</td>\n",
              "      <td>int64</td>\n",
              "      <td>int64</td>\n",
              "      <td>int64</td>\n",
              "      <td>int64</td>\n",
              "      <td>int64</td>\n",
              "      <td>int64</td>\n",
              "      <td>int64</td>\n",
              "      <td>int64</td>\n",
              "      <td>int64</td>\n",
              "      <td>int64</td>\n",
              "      <td>int64</td>\n",
              "      <td>int64</td>\n",
              "      <td>int64</td>\n",
              "      <td>int64</td>\n",
              "      <td>int64</td>\n",
              "      <td>int64</td>\n",
              "      <td>int64</td>\n",
              "      <td>int64</td>\n",
              "      <td>int64</td>\n",
              "      <td>int64</td>\n",
              "      <td>int64</td>\n",
              "      <td>float64</td>\n",
              "      <td>float64</td>\n",
              "      <td>float64</td>\n",
              "      <td>object</td>\n",
              "      <td>object</td>\n",
              "      <td>object</td>\n",
              "      <td>object</td>\n",
              "      <td>object</td>\n",
              "      <td>object</td>\n",
              "      <td>object</td>\n",
              "      <td>object</td>\n",
              "      <td>object</td>\n",
              "      <td>object</td>\n",
              "      <td>object</td>\n",
              "      <td>object</td>\n",
              "      <td>object</td>\n",
              "      <td>object</td>\n",
              "      <td>object</td>\n",
              "      <td>object</td>\n",
              "      <td>object</td>\n",
              "      <td>object</td>\n",
              "      <td>object</td>\n",
              "      <td>object</td>\n",
              "      <td>object</td>\n",
              "      <td>object</td>\n",
              "      <td>object</td>\n",
              "      <td>object</td>\n",
              "      <td>object</td>\n",
              "      <td>object</td>\n",
              "      <td>object</td>\n",
              "      <td>object</td>\n",
              "      <td>object</td>\n",
              "      <td>object</td>\n",
              "      <td>object</td>\n",
              "      <td>object</td>\n",
              "      <td>object</td>\n",
              "      <td>object</td>\n",
              "      <td>object</td>\n",
              "      <td>object</td>\n",
              "      <td>object</td>\n",
              "      <td>object</td>\n",
              "      <td>object</td>\n",
              "      <td>object</td>\n",
              "      <td>object</td>\n",
              "      <td>object</td>\n",
              "      <td>object</td>\n",
              "    </tr>\n",
              "    <tr>\n",
              "      <th>Missing</th>\n",
              "      <td>0</td>\n",
              "      <td>0</td>\n",
              "      <td>0</td>\n",
              "      <td>0</td>\n",
              "      <td>0</td>\n",
              "      <td>0</td>\n",
              "      <td>0</td>\n",
              "      <td>0</td>\n",
              "      <td>0</td>\n",
              "      <td>0</td>\n",
              "      <td>0</td>\n",
              "      <td>0</td>\n",
              "      <td>0</td>\n",
              "      <td>0</td>\n",
              "      <td>0</td>\n",
              "      <td>0</td>\n",
              "      <td>0</td>\n",
              "      <td>0</td>\n",
              "      <td>0</td>\n",
              "      <td>0</td>\n",
              "      <td>0</td>\n",
              "      <td>0</td>\n",
              "      <td>0</td>\n",
              "      <td>0</td>\n",
              "      <td>0</td>\n",
              "      <td>0</td>\n",
              "      <td>0</td>\n",
              "      <td>0</td>\n",
              "      <td>0</td>\n",
              "      <td>0</td>\n",
              "      <td>0</td>\n",
              "      <td>0</td>\n",
              "      <td>0</td>\n",
              "      <td>0</td>\n",
              "      <td>0.548</td>\n",
              "      <td>5.548</td>\n",
              "      <td>17.74</td>\n",
              "      <td>0</td>\n",
              "      <td>0</td>\n",
              "      <td>0</td>\n",
              "      <td>0</td>\n",
              "      <td>0</td>\n",
              "      <td>0</td>\n",
              "      <td>0</td>\n",
              "      <td>0</td>\n",
              "      <td>0</td>\n",
              "      <td>0</td>\n",
              "      <td>0</td>\n",
              "      <td>0</td>\n",
              "      <td>0</td>\n",
              "      <td>0</td>\n",
              "      <td>0</td>\n",
              "      <td>0</td>\n",
              "      <td>0</td>\n",
              "      <td>0</td>\n",
              "      <td>0</td>\n",
              "      <td>0</td>\n",
              "      <td>0</td>\n",
              "      <td>0</td>\n",
              "      <td>0</td>\n",
              "      <td>0</td>\n",
              "      <td>0</td>\n",
              "      <td>0</td>\n",
              "      <td>0</td>\n",
              "      <td>0.068</td>\n",
              "      <td>0.548</td>\n",
              "      <td>2.534</td>\n",
              "      <td>2.534</td>\n",
              "      <td>2.534</td>\n",
              "      <td>2.603</td>\n",
              "      <td>2.603</td>\n",
              "      <td>5.548</td>\n",
              "      <td>5.548</td>\n",
              "      <td>5.548</td>\n",
              "      <td>5.548</td>\n",
              "      <td>47.26</td>\n",
              "      <td>80.753</td>\n",
              "      <td>93.767</td>\n",
              "      <td>96.301</td>\n",
              "      <td>99.521</td>\n",
              "    </tr>\n",
              "    <tr>\n",
              "      <th>Info</th>\n",
              "      <td>[20, 190, 20, 50.0]</td>\n",
              "      <td>[1300, 215245, 1300, 9478.0]</td>\n",
              "      <td>[1, 10, 1, 6.0]</td>\n",
              "      <td>[1, 9, 1, 5.0]</td>\n",
              "      <td>[1872, 2010, 1872, 1973.0]</td>\n",
              "      <td>[1950, 2010, 1950, 1994.0]</td>\n",
              "      <td>[0, 5644, 0, 384.0]</td>\n",
              "      <td>[0, 1474, 0, 0.0]</td>\n",
              "      <td>[0, 2336, 0, 478.0]</td>\n",
              "      <td>[0, 6110, 0, 992.0]</td>\n",
              "      <td>[334, 4692, 334, 1087.0]</td>\n",
              "      <td>[0, 2065, 0, 0.0]</td>\n",
              "      <td>[0, 572, 0, 0.0]</td>\n",
              "      <td>[334, 5642, 334, 1464.0]</td>\n",
              "      <td>[0, 3, 0, 0.0]</td>\n",
              "      <td>[0, 2, 0, 0.0]</td>\n",
              "      <td>[0, 3, 0, 2.0]</td>\n",
              "      <td>[0, 2, 0, 0.0]</td>\n",
              "      <td>[0, 8, 0, 3.0]</td>\n",
              "      <td>[0, 3, 0, 1.0]</td>\n",
              "      <td>[2, 14, 2, 6.0]</td>\n",
              "      <td>[0, 3, 0, 1.0]</td>\n",
              "      <td>[0, 4, 0, 2.0]</td>\n",
              "      <td>[0, 1418, 0, 480.0]</td>\n",
              "      <td>[0, 857, 0, 0.0]</td>\n",
              "      <td>[0, 547, 0, 25.0]</td>\n",
              "      <td>[0, 552, 0, 0.0]</td>\n",
              "      <td>[0, 508, 0, 0.0]</td>\n",
              "      <td>[0, 480, 0, 0.0]</td>\n",
              "      <td>[0, 738, 0, 0.0]</td>\n",
              "      <td>[0, 15500, 0, 0.0]</td>\n",
              "      <td>[1, 12, 1, 6.0]</td>\n",
              "      <td>[2006, 2010, 2006, 2008.0]</td>\n",
              "      <td>[34900, 755000, 34900, 163000.0]</td>\n",
              "      <td>[0, 1600, 0, 0.0]</td>\n",
              "      <td>[1900, 2010, 1900, 1980.0]</td>\n",
              "      <td>[21, 313, 21, 69.0]</td>\n",
              "      <td>None</td>\n",
              "      <td>None</td>\n",
              "      <td>None</td>\n",
              "      <td>None</td>\n",
              "      <td>None</td>\n",
              "      <td>None</td>\n",
              "      <td>None</td>\n",
              "      <td>None</td>\n",
              "      <td>None</td>\n",
              "      <td>None</td>\n",
              "      <td>None</td>\n",
              "      <td>None</td>\n",
              "      <td>None</td>\n",
              "      <td>None</td>\n",
              "      <td>None</td>\n",
              "      <td>None</td>\n",
              "      <td>None</td>\n",
              "      <td>None</td>\n",
              "      <td>None</td>\n",
              "      <td>None</td>\n",
              "      <td>None</td>\n",
              "      <td>None</td>\n",
              "      <td>None</td>\n",
              "      <td>None</td>\n",
              "      <td>None</td>\n",
              "      <td>None</td>\n",
              "      <td>None</td>\n",
              "      <td>None</td>\n",
              "      <td>None</td>\n",
              "      <td>None</td>\n",
              "      <td>None</td>\n",
              "      <td>None</td>\n",
              "      <td>None</td>\n",
              "      <td>None</td>\n",
              "      <td>None</td>\n",
              "      <td>None</td>\n",
              "      <td>None</td>\n",
              "      <td>None</td>\n",
              "      <td>None</td>\n",
              "      <td>None</td>\n",
              "      <td>None</td>\n",
              "      <td>None</td>\n",
              "      <td>None</td>\n",
              "    </tr>\n",
              "    <tr>\n",
              "      <th>Outliers</th>\n",
              "      <td>190</td>\n",
              "      <td>194</td>\n",
              "      <td>63</td>\n",
              "      <td>330</td>\n",
              "      <td>7</td>\n",
              "      <td>0</td>\n",
              "      <td>146</td>\n",
              "      <td>167</td>\n",
              "      <td>183</td>\n",
              "      <td>219</td>\n",
              "      <td>173</td>\n",
              "      <td>95</td>\n",
              "      <td>26</td>\n",
              "      <td>168</td>\n",
              "      <td>16</td>\n",
              "      <td>82</td>\n",
              "      <td>33</td>\n",
              "      <td>12</td>\n",
              "      <td>248</td>\n",
              "      <td>68</td>\n",
              "      <td>152</td>\n",
              "      <td>120</td>\n",
              "      <td>186</td>\n",
              "      <td>185</td>\n",
              "      <td>156</td>\n",
              "      <td>227</td>\n",
              "      <td>208</td>\n",
              "      <td>24</td>\n",
              "      <td>116</td>\n",
              "      <td>7</td>\n",
              "      <td>52</td>\n",
              "      <td>227</td>\n",
              "      <td>0</td>\n",
              "      <td>203</td>\n",
              "      <td>235</td>\n",
              "      <td>0</td>\n",
              "      <td>200</td>\n",
              "      <td>0</td>\n",
              "      <td>0</td>\n",
              "      <td>0</td>\n",
              "      <td>0</td>\n",
              "      <td>0</td>\n",
              "      <td>0</td>\n",
              "      <td>0</td>\n",
              "      <td>0</td>\n",
              "      <td>0</td>\n",
              "      <td>0</td>\n",
              "      <td>0</td>\n",
              "      <td>0</td>\n",
              "      <td>0</td>\n",
              "      <td>0</td>\n",
              "      <td>0</td>\n",
              "      <td>0</td>\n",
              "      <td>0</td>\n",
              "      <td>0</td>\n",
              "      <td>0</td>\n",
              "      <td>0</td>\n",
              "      <td>0</td>\n",
              "      <td>0</td>\n",
              "      <td>0</td>\n",
              "      <td>0</td>\n",
              "      <td>0</td>\n",
              "      <td>0</td>\n",
              "      <td>0</td>\n",
              "      <td>0</td>\n",
              "      <td>0</td>\n",
              "      <td>0</td>\n",
              "      <td>0</td>\n",
              "      <td>0</td>\n",
              "      <td>0</td>\n",
              "      <td>0</td>\n",
              "      <td>0</td>\n",
              "      <td>0</td>\n",
              "      <td>0</td>\n",
              "      <td>0</td>\n",
              "      <td>0</td>\n",
              "      <td>0</td>\n",
              "      <td>0</td>\n",
              "      <td>0</td>\n",
              "      <td>0</td>\n",
              "    </tr>\n",
              "  </tbody>\n",
              "</table>\n",
              "</div>"
            ],
            "text/plain": [
              "                   MSSubClass                       LotArea      OverallQual  \\\n",
              "Types                   int64                         int64            int64   \n",
              "Missing                     0                             0                0   \n",
              "Info      [20, 190, 20, 50.0]  [1300, 215245, 1300, 9478.0]  [1, 10, 1, 6.0]   \n",
              "Outliers                  190                           194               63   \n",
              "\n",
              "             OverallCond                   YearBuilt  \\\n",
              "Types              int64                       int64   \n",
              "Missing                0                           0   \n",
              "Info      [1, 9, 1, 5.0]  [1872, 2010, 1872, 1973.0]   \n",
              "Outliers             330                           7   \n",
              "\n",
              "                        YearRemodAdd           BsmtFinSF1         BsmtFinSF2  \\\n",
              "Types                          int64                int64              int64   \n",
              "Missing                            0                    0                  0   \n",
              "Info      [1950, 2010, 1950, 1994.0]  [0, 5644, 0, 384.0]  [0, 1474, 0, 0.0]   \n",
              "Outliers                           0                  146                167   \n",
              "\n",
              "                    BsmtUnfSF          TotalBsmtSF                  1stFlrSF  \\\n",
              "Types                   int64                int64                     int64   \n",
              "Missing                     0                    0                         0   \n",
              "Info      [0, 2336, 0, 478.0]  [0, 6110, 0, 992.0]  [334, 4692, 334, 1087.0]   \n",
              "Outliers                  183                  219                       173   \n",
              "\n",
              "                   2ndFlrSF      LowQualFinSF                 GrLivArea  \\\n",
              "Types                 int64             int64                     int64   \n",
              "Missing                   0                 0                         0   \n",
              "Info      [0, 2065, 0, 0.0]  [0, 572, 0, 0.0]  [334, 5642, 334, 1464.0]   \n",
              "Outliers                 95                26                       168   \n",
              "\n",
              "            BsmtFullBath    BsmtHalfBath        FullBath        HalfBath  \\\n",
              "Types              int64           int64           int64           int64   \n",
              "Missing                0               0               0               0   \n",
              "Info      [0, 3, 0, 0.0]  [0, 2, 0, 0.0]  [0, 3, 0, 2.0]  [0, 2, 0, 0.0]   \n",
              "Outliers              16              82              33              12   \n",
              "\n",
              "            BedroomAbvGr    KitchenAbvGr     TotRmsAbvGrd      Fireplaces  \\\n",
              "Types              int64           int64            int64           int64   \n",
              "Missing                0               0                0               0   \n",
              "Info      [0, 8, 0, 3.0]  [0, 3, 0, 1.0]  [2, 14, 2, 6.0]  [0, 3, 0, 1.0]   \n",
              "Outliers             248              68              152             120   \n",
              "\n",
              "              GarageCars           GarageArea        WoodDeckSF  \\\n",
              "Types              int64                int64             int64   \n",
              "Missing                0                    0                 0   \n",
              "Info      [0, 4, 0, 2.0]  [0, 1418, 0, 480.0]  [0, 857, 0, 0.0]   \n",
              "Outliers             186                  185               156   \n",
              "\n",
              "                OpenPorchSF     EnclosedPorch         3SsnPorch  \\\n",
              "Types                 int64             int64             int64   \n",
              "Missing                   0                 0                 0   \n",
              "Info      [0, 547, 0, 25.0]  [0, 552, 0, 0.0]  [0, 508, 0, 0.0]   \n",
              "Outliers                227               208                24   \n",
              "\n",
              "               ScreenPorch          PoolArea             MiscVal  \\\n",
              "Types                int64             int64               int64   \n",
              "Missing                  0                 0                   0   \n",
              "Info      [0, 480, 0, 0.0]  [0, 738, 0, 0.0]  [0, 15500, 0, 0.0]   \n",
              "Outliers               116                 7                  52   \n",
              "\n",
              "                   MoSold                      YrSold  \\\n",
              "Types               int64                       int64   \n",
              "Missing                 0                           0   \n",
              "Info      [1, 12, 1, 6.0]  [2006, 2010, 2006, 2008.0]   \n",
              "Outliers              227                           0   \n",
              "\n",
              "                                 SalePrice         MasVnrArea  \\\n",
              "Types                                int64            float64   \n",
              "Missing                                  0              0.548   \n",
              "Info      [34900, 755000, 34900, 163000.0]  [0, 1600, 0, 0.0]   \n",
              "Outliers                               203                235   \n",
              "\n",
              "                         GarageYrBlt          LotFrontage MSZoning  Street  \\\n",
              "Types                        float64              float64   object  object   \n",
              "Missing                        5.548                17.74        0       0   \n",
              "Info      [1900, 2010, 1900, 1980.0]  [21, 313, 21, 69.0]     None    None   \n",
              "Outliers                           0                  200        0       0   \n",
              "\n",
              "         LotShape LandContour Utilities LotConfig LandSlope Neighborhood  \\\n",
              "Types      object      object    object    object    object       object   \n",
              "Missing         0           0         0         0         0            0   \n",
              "Info         None        None      None      None      None         None   \n",
              "Outliers        0           0         0         0         0            0   \n",
              "\n",
              "         Condition1 Condition2 BldgType HouseStyle RoofStyle RoofMatl  \\\n",
              "Types        object     object   object     object    object   object   \n",
              "Missing           0          0        0          0         0        0   \n",
              "Info           None       None     None       None      None     None   \n",
              "Outliers          0          0        0          0         0        0   \n",
              "\n",
              "         Exterior1st Exterior2nd ExterQual ExterCond Foundation Heating  \\\n",
              "Types         object      object    object    object     object  object   \n",
              "Missing            0           0         0         0          0       0   \n",
              "Info            None        None      None      None       None    None   \n",
              "Outliers           0           0         0         0          0       0   \n",
              "\n",
              "         HeatingQC CentralAir KitchenQual Functional PavedDrive SaleType  \\\n",
              "Types       object     object      object     object     object   object   \n",
              "Missing          0          0           0          0          0        0   \n",
              "Info          None       None        None       None       None     None   \n",
              "Outliers         0          0           0          0          0        0   \n",
              "\n",
              "         SaleCondition Electrical MasVnrType BsmtQual BsmtCond BsmtFinType1  \\\n",
              "Types           object     object     object   object   object       object   \n",
              "Missing              0      0.068      0.548    2.534    2.534        2.534   \n",
              "Info              None       None       None     None     None         None   \n",
              "Outliers             0          0          0        0        0            0   \n",
              "\n",
              "         BsmtExposure BsmtFinType2 GarageType GarageFinish GarageQual  \\\n",
              "Types          object       object     object       object     object   \n",
              "Missing         2.603        2.603      5.548        5.548      5.548   \n",
              "Info             None         None       None         None       None   \n",
              "Outliers            0            0          0            0          0   \n",
              "\n",
              "         GarageCond FireplaceQu   Fence   Alley MiscFeature  PoolQC  \n",
              "Types        object      object  object  object      object  object  \n",
              "Missing       5.548       47.26  80.753  93.767      96.301  99.521  \n",
              "Info           None        None    None    None        None    None  \n",
              "Outliers          0           0       0       0           0       0  "
            ]
          },
          "metadata": {
            "tags": []
          },
          "execution_count": 6
        }
      ]
    },
    {
      "cell_type": "code",
      "metadata": {
        "id": "nPJSsEXbB5Vo",
        "colab_type": "code",
        "colab": {
          "base_uri": "https://localhost:8080/",
          "height": 104
        },
        "outputId": "a7865f57-9d7f-4876-c5be-b0826e47e3e0"
      },
      "source": [
        "print(train_df.Utilities.value_counts())\n",
        "print(test_df.Utilities.value_counts())"
      ],
      "execution_count": 7,
      "outputs": [
        {
          "output_type": "stream",
          "text": [
            "AllPub    1459\n",
            "NoSeWa       1\n",
            "Name: Utilities, dtype: int64\n",
            "AllPub    1457\n",
            "Name: Utilities, dtype: int64\n"
          ],
          "name": "stdout"
        }
      ]
    },
    {
      "cell_type": "code",
      "metadata": {
        "id": "Y3jK1IduCJmQ",
        "colab_type": "code",
        "colab": {}
      },
      "source": [
        "#train_df.drop([\"Utilities\"], axis = 1, inplace = True)\n",
        "#test_df.drop([\"Utilities\"], axis = 1, inplace = True)\n"
      ],
      "execution_count": 8,
      "outputs": []
    },
    {
      "cell_type": "code",
      "metadata": {
        "id": "XcL5UYInFg3I",
        "colab_type": "code",
        "colab": {}
      },
      "source": [
        "train_df.drop([\"Utilities\", \"PoolQC\", \"MiscFeature\", \"Alley\", \"Fence\", \"FireplaceQu\"], axis = 1, inplace = True)\n",
        "test_df.drop([\"Utilities\", \"PoolQC\", \"MiscFeature\", \"Alley\", \"Fence\", \"FireplaceQu\"], axis = 1, inplace = True)\n",
        "\n",
        "numerical_fea = train_df.select_dtypes(include = [\"float\", \"int\"]).columns"
      ],
      "execution_count": 9,
      "outputs": []
    },
    {
      "cell_type": "code",
      "metadata": {
        "id": "wnkyxirnBcCn",
        "colab_type": "code",
        "colab": {}
      },
      "source": [
        "for col in (#'Alley',\n",
        "            'MasVnrType','BsmtQual','BsmtCond','BsmtExposure','BsmtFinType1',\n",
        "            'BsmtFinType2',#'FireplaceQu',\n",
        "            'GarageType','GarageFinish','GarageQual','GarageCond',\n",
        "           #'PoolQC','Fence','MiscFeature'\n",
        "            ):\n",
        "    train_df[col]=train_df[col].fillna('None')\n",
        "    test_df[col]=test_df[col].fillna('None')"
      ],
      "execution_count": 10,
      "outputs": []
    },
    {
      "cell_type": "code",
      "metadata": {
        "id": "jUXsa8HYHjcm",
        "colab_type": "code",
        "colab": {}
      },
      "source": [
        "for col in ('Electrical','Exterior1st','Exterior2nd','KitchenQual','SaleType','Functional'):\n",
        "    train_df[col]=train_df[col].fillna(train_df[col].mode()[0])\n",
        "    test_df[col]=test_df[col].fillna(train_df[col].mode()[0])"
      ],
      "execution_count": 11,
      "outputs": []
    },
    {
      "cell_type": "code",
      "metadata": {
        "id": "6ovpojbsHpnP",
        "colab_type": "code",
        "colab": {}
      },
      "source": [
        "for col in ('MasVnrArea','BsmtFinSF1','BsmtFinSF2','BsmtUnfSF','TotalBsmtSF','BsmtFullBath','BsmtHalfBath',\n",
        "            'GarageYrBlt','GarageCars','GarageArea'):\n",
        "    train_df[col]=train_df[col].fillna(0)\n",
        "    test_df[col]=test_df[col].fillna(0)"
      ],
      "execution_count": 12,
      "outputs": []
    },
    {
      "cell_type": "code",
      "metadata": {
        "id": "9TUuLqF2Hv0P",
        "colab_type": "code",
        "colab": {}
      },
      "source": [
        "train_df[\"LotFrontage\"] = train_df.groupby(\"Neighborhood\")[\"LotFrontage\"].transform(lambda x: x.fillna(x.mean()))\n",
        "test_df[\"LotFrontage\"] = test_df.groupby(\"Neighborhood\")[\"LotFrontage\"].transform(lambda x: x.fillna(x.mean()))\n",
        "test_df['MSZoning'] = test_df.groupby('MSSubClass')['MSZoning'].transform(lambda x: x.fillna(x.mode()[0]))"
      ],
      "execution_count": 13,
      "outputs": []
    },
    {
      "cell_type": "code",
      "metadata": {
        "id": "F1nIvan_IAuP",
        "colab_type": "code",
        "colab": {
          "base_uri": "https://localhost:8080/",
          "height": 52
        },
        "outputId": "129a29b1-2db7-4cdc-f30a-6a5565592615"
      },
      "source": [
        "print(train_df.isnull().sum().sum())\n",
        "print(test_df.isnull().sum().sum())"
      ],
      "execution_count": 14,
      "outputs": [
        {
          "output_type": "stream",
          "text": [
            "0\n",
            "0\n"
          ],
          "name": "stdout"
        }
      ]
    },
    {
      "cell_type": "code",
      "metadata": {
        "id": "MB7Ef3ttILl_",
        "colab_type": "code",
        "colab": {
          "base_uri": "https://localhost:8080/",
          "height": 297
        },
        "outputId": "58b10849-49ad-4c1c-8cc9-a745ee5db25c"
      },
      "source": [
        "sns.scatterplot(x='GrLivArea', y='SalePrice', data= train_df)"
      ],
      "execution_count": 15,
      "outputs": [
        {
          "output_type": "execute_result",
          "data": {
            "text/plain": [
              "<matplotlib.axes._subplots.AxesSubplot at 0x7fd87039a518>"
            ]
          },
          "metadata": {
            "tags": []
          },
          "execution_count": 15
        },
        {
          "output_type": "display_data",
          "data": {
            "image/png": "[encoded data removed]",
            "text/plain": [
              "<Figure size 432x288 with 1 Axes>"
            ]
          },
          "metadata": {
            "tags": [],
            "needs_background": "light"
          }
        }
      ]
    },
    {
      "cell_type": "code",
      "metadata": {
        "id": "jJG34lFP4TG4",
        "colab_type": "code",
        "colab": {}
      },
      "source": [
        "train_df = train_df[train_df[\"GrLivArea\"] < 4000]"
      ],
      "execution_count": 16,
      "outputs": []
    },
    {
      "cell_type": "code",
      "metadata": {
        "id": "8vQMJlyb4eax",
        "colab_type": "code",
        "colab": {
          "base_uri": "https://localhost:8080/",
          "height": 307
        },
        "outputId": "1bb1d300-24ca-42dd-a3c2-eec14efd1f4f"
      },
      "source": [
        "sns.distplot(train_df['SalePrice'])"
      ],
      "execution_count": 17,
      "outputs": [
        {
          "output_type": "execute_result",
          "data": {
            "text/plain": [
              "<matplotlib.axes._subplots.AxesSubplot at 0x7fd86ebbde48>"
            ]
          },
          "metadata": {
            "tags": []
          },
          "execution_count": 17
        },
        {
          "output_type": "display_data",
          "data": {
            "image/png": "[encoded data removed]",
            "text/plain": [
              "<Figure size 432x288 with 1 Axes>"
            ]
          },
          "metadata": {
            "tags": [],
            "needs_background": "light"
          }
        }
      ]
    },
    {
      "cell_type": "code",
      "metadata": {
        "id": "rw3E2f0Y6qcJ",
        "colab_type": "code",
        "colab": {}
      },
      "source": [
        "train_df.SalePrice = np.log(train_df.SalePrice)"
      ],
      "execution_count": 18,
      "outputs": []
    },
    {
      "cell_type": "code",
      "metadata": {
        "id": "udG88P3x8ZMl",
        "colab_type": "code",
        "colab": {
          "base_uri": "https://localhost:8080/",
          "height": 297
        },
        "outputId": "bf1df30a-f9ea-4e65-b5c6-7c99f6aaf60d"
      },
      "source": [
        "sns.distplot(train_df['SalePrice'])"
      ],
      "execution_count": 19,
      "outputs": [
        {
          "output_type": "execute_result",
          "data": {
            "text/plain": [
              "<matplotlib.axes._subplots.AxesSubplot at 0x7fd86ebf03c8>"
            ]
          },
          "metadata": {
            "tags": []
          },
          "execution_count": 19
        },
        {
          "output_type": "display_data",
          "data": {
            "image/png": "[encoded data removed]",
            "text/plain": [
              "<Figure size 432x288 with 1 Axes>"
            ]
          },
          "metadata": {
            "tags": [],
            "needs_background": "light"
          }
        }
      ]
    },
    {
      "cell_type": "code",
      "metadata": {
        "id": "CPf3F1jJGb5Z",
        "colab_type": "code",
        "colab": {}
      },
      "source": [
        "train_df['TotalPorchArea'] = train_df['OpenPorchSF'] + train_df['EnclosedPorch'] + train_df['3SsnPorch'] + train_df['ScreenPorch']\n",
        "test_df['TotalPorchArea'] = test_df['OpenPorchSF'] + test_df['EnclosedPorch'] + test_df['3SsnPorch'] + test_df['ScreenPorch']"
      ],
      "execution_count": 20,
      "outputs": []
    },
    {
      "cell_type": "code",
      "metadata": {
        "id": "5vaEl_eOI-f7",
        "colab_type": "code",
        "colab": {}
      },
      "source": [
        "train_df['TotalBath'] = train_df['BsmtFullBath'] + train_df['BsmtHalfBath'] + train_df['FullBath'] + train_df['HalfBath']\n",
        "test_df['TotalBath'] = test_df['BsmtFullBath'] + test_df['BsmtHalfBath'] + test_df['FullBath'] + test_df['HalfBath']"
      ],
      "execution_count": 21,
      "outputs": []
    },
    {
      "cell_type": "code",
      "metadata": {
        "id": "-pe1GZHlJ-dL",
        "colab_type": "code",
        "colab": {}
      },
      "source": [
        "train_df['haspool'] = train_df['PoolArea'].apply(lambda x: 1 if x > 0 else 0)\n",
        "test_df['haspool'] = test_df['PoolArea'].apply(lambda x: 1 if x > 0 else 0)\n",
        "train_df['hasgarage'] = train_df['GarageArea'].apply(lambda x: 1 if x > 0 else 0)\n",
        "test_df['hasgarage'] = test_df['GarageArea'].apply(lambda x: 1 if x > 0 else 0)\n",
        "train_df['hasbsmt'] = train_df['TotalBsmtSF'].apply(lambda x: 1 if x > 0 else 0)\n",
        "test_df['hasbsmt'] = test_df['TotalBsmtSF'].apply(lambda x: 1 if x > 0 else 0)\n",
        "train_df['hasfireplace'] = train_df['Fireplaces'].apply(lambda x: 1 if x > 0 else 0)\n",
        "test_df['hasfireplace'] = test_df['Fireplaces'].apply(lambda x: 1 if x > 0 else 0)"
      ],
      "execution_count": 22,
      "outputs": []
    },
    {
      "cell_type": "code",
      "metadata": {
        "id": "C2YiwjEAKaCv",
        "colab_type": "code",
        "colab": {}
      },
      "source": [
        "train_df['HouseAge'] = train_df['YrSold'] - train_df['YearBuilt']\n",
        "test_df['HouseAge'] = test_df['YrSold'] - test_df['YearBuilt']"
      ],
      "execution_count": 23,
      "outputs": []
    },
    {
      "cell_type": "code",
      "metadata": {
        "id": "OlH8612eNZR7",
        "colab_type": "code",
        "colab": {}
      },
      "source": [
        "train_df[\"HouseAge\"] = train_df[\"HouseAge\"].apply(lambda x: x if x > 0 else 0)\n",
        "test_df[\"HouseAge\"] = test_df[\"HouseAge\"].apply(lambda x: x if x > 0 else 0)"
      ],
      "execution_count": 24,
      "outputs": []
    },
    {
      "cell_type": "code",
      "metadata": {
        "id": "N-H3aa3X8pIB",
        "colab_type": "code",
        "colab": {}
      },
      "source": [
        "\n",
        "\n",
        "# turning some ordered categorical variables into ordered numerical\n",
        "# maybe this information about order can help on performance\n",
        "for col in [\"ExterQual\", \"ExterCond\", \"BsmtQual\", \"BsmtCond\", \"HeatingQC\", \"KitchenQual\",\n",
        "            \"GarageQual\",\"GarageCond\",#\"FireplaceQu\",\"PoolQC\"\n",
        "            ]:\n",
        "    train_df[col]= train_df[col].map({\"Ex\": 5, \"Gd\": 4 , \"TA\": 3, \"Fa\":2, \"Po\":1, \"None\" : 0})\n",
        "    test_df[col]= test_df[col].map({\"Ex\": 5, \"Gd\": 4 , \"TA\": 3, \"Fa\":2, \"Po\":1, \"None\" : 0})"
      ],
      "execution_count": 25,
      "outputs": []
    },
    {
      "cell_type": "code",
      "metadata": {
        "id": "yKaVosYpKosx",
        "colab_type": "code",
        "colab": {}
      },
      "source": [
        "train_df['MSSubClass'] = train_df['MSSubClass'].astype(str)\n",
        "test_df['MSSubClass'] = test_df['MSSubClass'].astype(str)\n",
        "train_df['YrSold'] = train_df['YrSold'].astype(str)\n",
        "test_df['YrSold'] = test_df['YrSold'].astype(str)\n",
        "train_df['MoSold'] = train_df['MoSold'].astype(str)\n",
        "test_df['MoSold'] = test_df['MoSold'].astype(str)"
      ],
      "execution_count": 26,
      "outputs": []
    },
    {
      "cell_type": "code",
      "metadata": {
        "id": "ad75XMtnLICo",
        "colab_type": "code",
        "colab": {
          "base_uri": "https://localhost:8080/",
          "height": 1000
        },
        "outputId": "e85d2b8e-1bb8-4b8d-d7d1-c7d858556fd3"
      },
      "source": [
        "train_df.info()"
      ],
      "execution_count": 27,
      "outputs": [
        {
          "output_type": "stream",
          "text": [
            "<class 'pandas.core.frame.DataFrame'>\n",
            "Int64Index: 1456 entries, 0 to 1459\n",
            "Data columns (total 81 columns):\n",
            " #   Column          Non-Null Count  Dtype  \n",
            "---  ------          --------------  -----  \n",
            " 0   MSSubClass      1456 non-null   object \n",
            " 1   MSZoning        1456 non-null   object \n",
            " 2   LotFrontage     1456 non-null   float64\n",
            " 3   LotArea         1456 non-null   int64  \n",
            " 4   Street          1456 non-null   object \n",
            " 5   LotShape        1456 non-null   object \n",
            " 6   LandContour     1456 non-null   object \n",
            " 7   LotConfig       1456 non-null   object \n",
            " 8   LandSlope       1456 non-null   object \n",
            " 9   Neighborhood    1456 non-null   object \n",
            " 10  Condition1      1456 non-null   object \n",
            " 11  Condition2      1456 non-null   object \n",
            " 12  BldgType        1456 non-null   object \n",
            " 13  HouseStyle      1456 non-null   object \n",
            " 14  OverallQual     1456 non-null   int64  \n",
            " 15  OverallCond     1456 non-null   int64  \n",
            " 16  YearBuilt       1456 non-null   int64  \n",
            " 17  YearRemodAdd    1456 non-null   int64  \n",
            " 18  RoofStyle       1456 non-null   object \n",
            " 19  RoofMatl        1456 non-null   object \n",
            " 20  Exterior1st     1456 non-null   object \n",
            " 21  Exterior2nd     1456 non-null   object \n",
            " 22  MasVnrType      1456 non-null   object \n",
            " 23  MasVnrArea      1456 non-null   float64\n",
            " 24  ExterQual       1456 non-null   int64  \n",
            " 25  ExterCond       1456 non-null   int64  \n",
            " 26  Foundation      1456 non-null   object \n",
            " 27  BsmtQual        1456 non-null   int64  \n",
            " 28  BsmtCond        1456 non-null   int64  \n",
            " 29  BsmtExposure    1456 non-null   object \n",
            " 30  BsmtFinType1    1456 non-null   object \n",
            " 31  BsmtFinSF1      1456 non-null   int64  \n",
            " 32  BsmtFinType2    1456 non-null   object \n",
            " 33  BsmtFinSF2      1456 non-null   int64  \n",
            " 34  BsmtUnfSF       1456 non-null   int64  \n",
            " 35  TotalBsmtSF     1456 non-null   int64  \n",
            " 36  Heating         1456 non-null   object \n",
            " 37  HeatingQC       1456 non-null   int64  \n",
            " 38  CentralAir      1456 non-null   object \n",
            " 39  Electrical      1456 non-null   object \n",
            " 40  1stFlrSF        1456 non-null   int64  \n",
            " 41  2ndFlrSF        1456 non-null   int64  \n",
            " 42  LowQualFinSF    1456 non-null   int64  \n",
            " 43  GrLivArea       1456 non-null   int64  \n",
            " 44  BsmtFullBath    1456 non-null   int64  \n",
            " 45  BsmtHalfBath    1456 non-null   int64  \n",
            " 46  FullBath        1456 non-null   int64  \n",
            " 47  HalfBath        1456 non-null   int64  \n",
            " 48  BedroomAbvGr    1456 non-null   int64  \n",
            " 49  KitchenAbvGr    1456 non-null   int64  \n",
            " 50  KitchenQual     1456 non-null   int64  \n",
            " 51  TotRmsAbvGrd    1456 non-null   int64  \n",
            " 52  Functional      1456 non-null   object \n",
            " 53  Fireplaces      1456 non-null   int64  \n",
            " 54  GarageType      1456 non-null   object \n",
            " 55  GarageYrBlt     1456 non-null   float64\n",
            " 56  GarageFinish    1456 non-null   object \n",
            " 57  GarageCars      1456 non-null   int64  \n",
            " 58  GarageArea      1456 non-null   int64  \n",
            " 59  GarageQual      1456 non-null   int64  \n",
            " 60  GarageCond      1456 non-null   int64  \n",
            " 61  PavedDrive      1456 non-null   object \n",
            " 62  WoodDeckSF      1456 non-null   int64  \n",
            " 63  OpenPorchSF     1456 non-null   int64  \n",
            " 64  EnclosedPorch   1456 non-null   int64  \n",
            " 65  3SsnPorch       1456 non-null   int64  \n",
            " 66  ScreenPorch     1456 non-null   int64  \n",
            " 67  PoolArea        1456 non-null   int64  \n",
            " 68  MiscVal         1456 non-null   int64  \n",
            " 69  MoSold          1456 non-null   object \n",
            " 70  YrSold          1456 non-null   object \n",
            " 71  SaleType        1456 non-null   object \n",
            " 72  SaleCondition   1456 non-null   object \n",
            " 73  SalePrice       1456 non-null   float64\n",
            " 74  TotalPorchArea  1456 non-null   int64  \n",
            " 75  TotalBath       1456 non-null   int64  \n",
            " 76  haspool         1456 non-null   int64  \n",
            " 77  hasgarage       1456 non-null   int64  \n",
            " 78  hasbsmt         1456 non-null   int64  \n",
            " 79  hasfireplace    1456 non-null   int64  \n",
            " 80  HouseAge        1456 non-null   int64  \n",
            "dtypes: float64(4), int64(45), object(32)\n",
            "memory usage: 932.8+ KB\n"
          ],
          "name": "stdout"
        }
      ]
    },
    {
      "cell_type": "code",
      "metadata": {
        "id": "VCX-w7VnEmLl",
        "colab_type": "code",
        "colab": {}
      },
      "source": [
        "numerical_fea_n = train_df.select_dtypes(include = [\"float\", \"int\"]).columns\n",
        "skewness = train_df[numerical_fea_n].apply(lambda x: skew(x))\n",
        "skewness = skewness[abs(skewness) > 0.5]\n",
        "skewed_features = skewness.index\n",
        "train_df[skewed_features] = np.log1p(train_df[skewed_features])\n",
        "test_df[skewed_features] = np.log1p(test_df[skewed_features])"
      ],
      "execution_count": 28,
      "outputs": []
    },
    {
      "cell_type": "code",
      "metadata": {
        "id": "IqUzVdtyHRM9",
        "colab_type": "code",
        "colab": {}
      },
      "source": [
        "df_train = pd.get_dummies(train_df)\n",
        "df_test = pd.get_dummies(test_df)"
      ],
      "execution_count": 29,
      "outputs": []
    },
    {
      "cell_type": "code",
      "metadata": {
        "id": "urBjLJNHJ8p9",
        "colab_type": "code",
        "colab": {
          "base_uri": "https://localhost:8080/",
          "height": 55
        },
        "outputId": "c6971dd1-c390-4fe8-9572-994451b418ae"
      },
      "source": [
        "train_col = list(df_train.columns)\n",
        "test_col = list(df_test.columns)\n",
        "dif_col = [x for x in train_col if x not in test_col]\n",
        "print(dif_col)"
      ],
      "execution_count": 30,
      "outputs": [
        {
          "output_type": "stream",
          "text": [
            "['SalePrice', 'Condition2_RRAe', 'Condition2_RRAn', 'Condition2_RRNn', 'HouseStyle_2.5Fin', 'RoofMatl_Membran', 'RoofMatl_Metal', 'RoofMatl_Roll', 'Exterior1st_ImStucc', 'Exterior1st_Stone', 'Exterior2nd_Other', 'Heating_Floor', 'Heating_OthW', 'Electrical_Mix']\n"
          ],
          "name": "stdout"
        }
      ]
    },
    {
      "cell_type": "code",
      "metadata": {
        "id": "W4iIbkbbKDBI",
        "colab_type": "code",
        "colab": {}
      },
      "source": [
        "dif_col.remove(\"SalePrice\")\n",
        "df_train.drop(dif_col, axis = 1, inplace = True)"
      ],
      "execution_count": 31,
      "outputs": []
    },
    {
      "cell_type": "code",
      "metadata": {
        "id": "uRSelN4eNdMt",
        "colab_type": "code",
        "colab": {}
      },
      "source": [
        "xtrain = df_train.drop(\"SalePrice\", axis = 1)\n",
        "ytrain = df_train.SalePrice"
      ],
      "execution_count": 32,
      "outputs": []
    },
    {
      "cell_type": "code",
      "metadata": {
        "id": "53hk097AKqfa",
        "colab_type": "code",
        "colab": {}
      },
      "source": [
        ""
      ],
      "execution_count": 32,
      "outputs": []
    },
    {
      "cell_type": "code",
      "metadata": {
        "id": "swp4GZKVKw-Y",
        "colab_type": "code",
        "colab": {}
      },
      "source": [
        "scaler = StandardScaler()\n",
        "numerical = numerical_fea_n.drop(\"SalePrice\")\n",
        "xtrain.loc[:, numerical] = scaler.fit_transform(xtrain.loc[:, numerical])\n",
        "df_test.loc[:, numerical] = scaler.transform(df_test.loc[:, numerical])\n",
        "\n"
      ],
      "execution_count": 33,
      "outputs": []
    },
    {
      "cell_type": "code",
      "metadata": {
        "id": "Db-kwrf7On2r",
        "colab_type": "code",
        "colab": {}
      },
      "source": [
        "space = {'n_estimators':hp.quniform('n_estimators', 1000, 4000, 100),\n",
        "         'gamma':hp.uniform('gamma', 0.01, 0.05),\n",
        "         'learning_rate':hp.uniform('learning_rate', 0.00001, 0.025),\n",
        "         'max_depth':hp.quniform('max_depth', 3,7,1),\n",
        "         'subsample':hp.uniform('subsample', 0.60, 0.95),\n",
        "         'colsample_bytree':hp.uniform('colsample_bytree', 0.60, 0.98),\n",
        "         'colsample_bylevel':hp.uniform('colsample_bylevel', 0.60, 0.98),\n",
        "         'reg_lambda': hp.uniform('reg_lambda', 1, 20)\n",
        "        }\n",
        "\n",
        "def objective(params):\n",
        "    params = {'n_estimators': int(params['n_estimators']),\n",
        "             'gamma': params['gamma'],\n",
        "             'learning_rate': params['learning_rate'],\n",
        "             'max_depth': int(params['max_depth']),\n",
        "             'subsample': params['subsample'],\n",
        "             'colsample_bytree': params['colsample_bytree'],\n",
        "             'colsample_bylevel': params['colsample_bylevel'],\n",
        "             'reg_lambda': params['reg_lambda']}\n",
        "    \n",
        "    xb_a= XGBRegressor(**params)\n",
        "    score = cross_val_score(xb_a, xtrain, ytrain, scoring='neg_mean_squared_error', cv=5, n_jobs=-1).mean()\n",
        "    return -score"
      ],
      "execution_count": 34,
      "outputs": []
    },
    {
      "cell_type": "code",
      "metadata": {
        "id": "H0CHxOPRkaN_",
        "colab_type": "code",
        "colab": {
          "base_uri": "https://localhost:8080/",
          "height": 35
        },
        "outputId": "94c7c78b-774b-4a99-de0d-6c9a8a07b0bf"
      },
      "source": [
        "best = fmin(fn= objective, space= space, max_evals=20, rstate=np.random.RandomState(1), algo=tpe.suggest)"
      ],
      "execution_count": 35,
      "outputs": [
        {
          "output_type": "stream",
          "text": [
            "100%|██████████| 20/20 [25:29<00:00, 76.47s/it, best loss: 0.01338406748441941]\n"
          ],
          "name": "stdout"
        }
      ]
    },
    {
      "cell_type": "code",
      "metadata": {
        "id": "lywlC06vx_Pc",
        "colab_type": "code",
        "colab": {
          "base_uri": "https://localhost:8080/",
          "height": 55
        },
        "outputId": "22986316-8dd1-48a6-e060-32fe2b0de68f"
      },
      "source": [
        "print(best)"
      ],
      "execution_count": 36,
      "outputs": [
        {
          "output_type": "stream",
          "text": [
            "{'colsample_bylevel': 0.6971640307744038, 'colsample_bytree': 0.6222251306452113, 'gamma': 0.045557016198868025, 'learning_rate': 0.012334455088591312, 'max_depth': 4.0, 'n_estimators': 2100.0, 'reg_lambda': 2.1713829044702413, 'subsample': 0.8459257473555255}\n"
          ],
          "name": "stdout"
        }
      ]
    },
    {
      "cell_type": "code",
      "metadata": {
        "id": "Vtwsk9nN5T3p",
        "colab_type": "code",
        "colab": {
          "base_uri": "https://localhost:8080/",
          "height": 211
        },
        "outputId": "a4a42aac-bdeb-414f-be09-ec1b95eee716"
      },
      "source": [
        "xb_b =XGBRegressor(random_state=0,\n",
        "                   n_estimators=int(best['n_estimators']), \n",
        "                   colsample_bytree= best['colsample_bytree'],\n",
        "                   gamma= best['gamma'],\n",
        "                   learning_rate= best['learning_rate'],\n",
        "                   max_depth= int(best['max_depth']),\n",
        "                   subsample= best['subsample'],\n",
        "                   colsample_bylevel= best['colsample_bylevel'],\n",
        "                   reg_lambda= best['reg_lambda']\n",
        "                       )\n",
        "\n",
        "xb_b.fit(xtrain, ytrain)\n"
      ],
      "execution_count": 59,
      "outputs": [
        {
          "output_type": "stream",
          "text": [
            "[21:48:26] WARNING: /workspace/src/objective/regression_obj.cu:152: reg:linear is now deprecated in favor of reg:squarederror.\n"
          ],
          "name": "stdout"
        },
        {
          "output_type": "execute_result",
          "data": {
            "text/plain": [
              "XGBRegressor(base_score=0.5, booster='gbtree',\n",
              "             colsample_bylevel=0.6971640307744038, colsample_bynode=1,\n",
              "             colsample_bytree=0.6222251306452113, gamma=0.045557016198868025,\n",
              "             importance_type='gain', learning_rate=0.012334455088591312,\n",
              "             max_delta_step=0, max_depth=4, min_child_weight=1, missing=None,\n",
              "             n_estimators=2100, n_jobs=1, nthread=None, objective='reg:linear',\n",
              "             random_state=0, reg_alpha=0, reg_lambda=2.1713829044702413,\n",
              "             scale_pos_weight=1, seed=None, silent=None,\n",
              "             subsample=0.8459257473555255, verbosity=1)"
            ]
          },
          "metadata": {
            "tags": []
          },
          "execution_count": 59
        }
      ]
    },
    {
      "cell_type": "code",
      "metadata": {
        "id": "YVu4uhqWXNoY",
        "colab_type": "code",
        "colab": {
          "base_uri": "https://localhost:8080/",
          "height": 87
        },
        "outputId": "d2aeced7-8171-4e7d-fa09-05a8951bdb1d"
      },
      "source": [
        "importance = dict(zip(list(xb_b.feature_importances_), list(X_train.columns)))\n",
        "for i, j in importance.items():\n",
        "    if i < 0.0005:\n",
        "        print(i,j)"
      ],
      "execution_count": null,
      "outputs": [
        {
          "output_type": "stream",
          "text": [
            "0.0 SaleCondition_AdjLand\n",
            "0.0004718957 PoolArea\n",
            "0.0003806345 Neighborhood_NoRidge\n",
            "0.00042345774 HouseStyle_2.5Unf\n"
          ],
          "name": "stdout"
        }
      ]
    },
    {
      "cell_type": "code",
      "metadata": {
        "id": "jN1B-1b-6X7x",
        "colab_type": "code",
        "colab": {}
      },
      "source": [
        "space_lasso = {\"alpha\" : hp.uniform(\"alpha\", 0.0001, 0.1), \"max_iter\" : hp.uniform(\"max_iter\", 100, 7000)}\n",
        "def objective(params):\n",
        "    lasso_model = Lasso(alpha = (params[\"alpha\"]), max_iter = int(params[\"max_iter\"]), random_state = 1)\n",
        "    score = cross_val_score(lasso_model, xtrain, ytrain, scoring='neg_mean_squared_error', cv=5, n_jobs=-1).mean()\n",
        "    return -score"
      ],
      "execution_count": 52,
      "outputs": []
    },
    {
      "cell_type": "code",
      "metadata": {
        "id": "aljzmWXOLeqh",
        "colab_type": "code",
        "colab": {
          "base_uri": "https://localhost:8080/",
          "height": 35
        },
        "outputId": "b6e2c0b2-fc7f-4fe3-8879-0c66fd747420"
      },
      "source": [
        "best_lasso = fmin(fn= objective, space= space_lasso, max_evals=20, rstate=np.random.RandomState(1), algo=tpe.suggest)"
      ],
      "execution_count": 53,
      "outputs": [
        {
          "output_type": "stream",
          "text": [
            "100%|██████████| 20/20 [00:01<00:00, 11.20it/s, best loss: 0.013065116905813379]\n"
          ],
          "name": "stdout"
        }
      ]
    },
    {
      "cell_type": "code",
      "metadata": {
        "id": "9em75buUPOIq",
        "colab_type": "code",
        "colab": {
          "base_uri": "https://localhost:8080/",
          "height": 35
        },
        "outputId": "457be357-0e3d-4190-a34e-e2837f505312"
      },
      "source": [
        "print(best_lasso)"
      ],
      "execution_count": 54,
      "outputs": [
        {
          "output_type": "stream",
          "text": [
            "{'alpha': 0.0014435601458621015, 'max_iter': 5829.753184230284}\n"
          ],
          "name": "stdout"
        }
      ]
    },
    {
      "cell_type": "code",
      "metadata": {
        "id": "DNJGTtPRLpJ2",
        "colab_type": "code",
        "colab": {
          "base_uri": "https://localhost:8080/",
          "height": 69
        },
        "outputId": "e5a227b0-c45c-4b27-d482-68d038803a73"
      },
      "source": [
        "lasso_m = Lasso(alpha = best_lasso[\"alpha\"], max_iter = int(best_lasso[\"max_iter\"]), random_state = 1)\n",
        "lasso_m.fit(xtrain,ytrain)"
      ],
      "execution_count": 55,
      "outputs": [
        {
          "output_type": "execute_result",
          "data": {
            "text/plain": [
              "Lasso(alpha=0.0014435601458621015, copy_X=True, fit_intercept=True,\n",
              "      max_iter=5829, normalize=False, positive=False, precompute=False,\n",
              "      random_state=1, selection='cyclic', tol=0.0001, warm_start=False)"
            ]
          },
          "metadata": {
            "tags": []
          },
          "execution_count": 55
        }
      ]
    },
    {
      "cell_type": "code",
      "metadata": {
        "id": "5x-hnBnf8TkS",
        "colab_type": "code",
        "colab": {}
      },
      "source": [
        "test = df_test.drop([\"Id\", \"MSSubClass_150\"], axis = 1)"
      ],
      "execution_count": 56,
      "outputs": []
    },
    {
      "cell_type": "code",
      "metadata": {
        "id": "WTMi-SXX6o9G",
        "colab_type": "code",
        "colab": {}
      },
      "source": [
        "preds = xb_b.predict(test)"
      ],
      "execution_count": 60,
      "outputs": []
    },
    {
      "cell_type": "code",
      "metadata": {
        "id": "y1zwgpzFUiHW",
        "colab_type": "code",
        "colab": {}
      },
      "source": [
        "f_preds = np.exp(preds)"
      ],
      "execution_count": 61,
      "outputs": []
    },
    {
      "cell_type": "code",
      "metadata": {
        "id": "ILu-mUEvMerP",
        "colab_type": "code",
        "colab": {}
      },
      "source": [
        "preds_l = lasso_m.predict(test)\n",
        "f_preds_l = np.exp(preds_l)"
      ],
      "execution_count": 62,
      "outputs": []
    },
    {
      "cell_type": "code",
      "metadata": {
        "id": "QH62tragMoMh",
        "colab_type": "code",
        "colab": {}
      },
      "source": [
        "final = f_preds * 0.5 + f_preds_l * 0.5"
      ],
      "execution_count": 69,
      "outputs": []
    },
    {
      "cell_type": "code",
      "metadata": {
        "id": "Ie3P16bY70IB",
        "colab_type": "code",
        "colab": {}
      },
      "source": [
        "output = pd.DataFrame({\"Id\" : df_test.Id, \"SalePrice\" : final})\n",
        "output.to_csv(\"submission.csv\", index = False)"
      ],
      "execution_count": 70,
      "outputs": []
    },
    {
      "cell_type": "code",
      "metadata": {
        "id": "qapxDR988vl0",
        "colab_type": "code",
        "colab": {}
      },
      "source": [
        ""
      ],
      "execution_count": null,
      "outputs": []
    }
  ]
}