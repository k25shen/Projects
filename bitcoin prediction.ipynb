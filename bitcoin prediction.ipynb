{
 "cells": [
  {
   "cell_type": "code",
   "execution_count": 0,
   "metadata": {
    "colab": {},
    "colab_type": "code",
    "id": "HdTckI1-yDWE"
   },
   "outputs": [],
   "source": [
    "import pandas as pd\n",
    "import matplotlib.pyplot as plt\n",
    "from sklearn.preprocessing import MinMaxScaler\n",
    "from sklearn.model_selection import train_test_split\n",
    "import numpy as np\n",
    "from keras import models\n",
    "from keras import layers\n",
    "from keras import optimizers\n",
    "from sklearn.externals.joblib import dump, load"
   ]
  },
  {
   "cell_type": "markdown",
   "metadata": {},
   "source": [
    "### Data is bitcoin price in a 6 hours' scale"
   ]
  },
  {
   "cell_type": "code",
   "execution_count": 0,
   "metadata": {
    "colab": {},
    "colab_type": "code",
    "id": "CFnbUJXQyTx-"
   },
   "outputs": [],
   "source": [
    "df = pd.read_csv(\"BTCUSD_6h_2011-09-13_to_2019-10-23_bitstamp.csv\")"
   ]
  },
  {
   "cell_type": "code",
   "execution_count": 0,
   "metadata": {
    "colab": {
     "base_uri": "https://localhost:8080/",
     "height": 204
    },
    "colab_type": "code",
    "id": "ZX5Yi1PnyYTK",
    "outputId": "0289026a-9d28-4e51-ef96-cddd688cb921"
   },
   "outputs": [
    {
     "data": {
      "text/html": [
       "<div>\n",
       "<style scoped>\n",
       "    .dataframe tbody tr th:only-of-type {\n",
       "        vertical-align: middle;\n",
       "    }\n",
       "\n",
       "    .dataframe tbody tr th {\n",
       "        vertical-align: top;\n",
       "    }\n",
       "\n",
       "    .dataframe thead th {\n",
       "        text-align: right;\n",
       "    }\n",
       "</style>\n",
       "<table border=\"1\" class=\"dataframe\">\n",
       "  <thead>\n",
       "    <tr style=\"text-align: right;\">\n",
       "      <th></th>\n",
       "      <th>date</th>\n",
       "      <th>open</th>\n",
       "      <th>high</th>\n",
       "      <th>low</th>\n",
       "      <th>close</th>\n",
       "      <th>volume</th>\n",
       "    </tr>\n",
       "  </thead>\n",
       "  <tbody>\n",
       "    <tr>\n",
       "      <th>0</th>\n",
       "      <td>2011-09-13 12:00:00</td>\n",
       "      <td>5.80</td>\n",
       "      <td>6.00</td>\n",
       "      <td>5.65</td>\n",
       "      <td>5.65</td>\n",
       "      <td>49.895982</td>\n",
       "    </tr>\n",
       "    <tr>\n",
       "      <th>1</th>\n",
       "      <td>2011-09-13 18:00:00</td>\n",
       "      <td>5.92</td>\n",
       "      <td>5.97</td>\n",
       "      <td>5.92</td>\n",
       "      <td>5.97</td>\n",
       "      <td>8.475400</td>\n",
       "    </tr>\n",
       "    <tr>\n",
       "      <th>2</th>\n",
       "      <td>2011-09-14 00:00:00</td>\n",
       "      <td>NaN</td>\n",
       "      <td>NaN</td>\n",
       "      <td>NaN</td>\n",
       "      <td>NaN</td>\n",
       "      <td>0.000000</td>\n",
       "    </tr>\n",
       "    <tr>\n",
       "      <th>3</th>\n",
       "      <td>2011-09-14 06:00:00</td>\n",
       "      <td>5.58</td>\n",
       "      <td>5.72</td>\n",
       "      <td>5.52</td>\n",
       "      <td>5.52</td>\n",
       "      <td>59.108684</td>\n",
       "    </tr>\n",
       "    <tr>\n",
       "      <th>4</th>\n",
       "      <td>2011-09-14 12:00:00</td>\n",
       "      <td>5.52</td>\n",
       "      <td>5.53</td>\n",
       "      <td>5.52</td>\n",
       "      <td>5.53</td>\n",
       "      <td>2.037300</td>\n",
       "    </tr>\n",
       "  </tbody>\n",
       "</table>\n",
       "</div>"
      ],
      "text/plain": [
       "                  date  open  high   low  close     volume\n",
       "0  2011-09-13 12:00:00  5.80  6.00  5.65   5.65  49.895982\n",
       "1  2011-09-13 18:00:00  5.92  5.97  5.92   5.97   8.475400\n",
       "2  2011-09-14 00:00:00   NaN   NaN   NaN    NaN   0.000000\n",
       "3  2011-09-14 06:00:00  5.58  5.72  5.52   5.52  59.108684\n",
       "4  2011-09-14 12:00:00  5.52  5.53  5.52   5.53   2.037300"
      ]
     },
     "execution_count": 4,
     "metadata": {
      "tags": []
     },
     "output_type": "execute_result"
    }
   ],
   "source": [
    "df.head()"
   ]
  },
  {
   "cell_type": "markdown",
   "metadata": {
    "colab": {},
    "colab_type": "code",
    "id": "wXRx7CjAy4bS"
   },
   "source": [
    "#### The start of the couple years, the price was fairly low and from current market condition, we may not see these low prices happen again. To increase the accuracy, these data points were dropped from this analysis"
   ]
  },
  {
   "cell_type": "code",
   "execution_count": null,
   "metadata": {},
   "outputs": [],
   "source": [
    "df_n = df[6000:]"
   ]
  },
  {
   "cell_type": "code",
   "execution_count": 0,
   "metadata": {
    "colab": {
     "base_uri": "https://localhost:8080/",
     "height": 265
    },
    "colab_type": "code",
    "id": "56CQ5dZA6hgZ",
    "outputId": "956917e7-4889-4a38-a940-44ba8bc7ce47"
   },
   "outputs": [
    {
     "data": {
      "image/png": "[encoded data removed]",
      "text/plain": [
       "<Figure size 432x288 with 1 Axes>"
      ]
     },
     "metadata": {
      "tags": []
     },
     "output_type": "display_data"
    }
   ],
   "source": [
    "plt.plot(ddd.date, ddd.close, c = \"violet\")\n",
    "plt.show()"
   ]
  },
  {
   "cell_type": "code",
   "execution_count": 0,
   "metadata": {
    "colab": {
     "base_uri": "https://localhost:8080/",
     "height": 153
    },
    "colab_type": "code",
    "id": "MW13EcX46vGi",
    "outputId": "b143dc7d-d027-4ecb-d2b0-e889c557fe15",
    "scrolled": true
   },
   "outputs": [
    {
     "name": "stdout",
     "output_type": "stream",
     "text": [
      "date      5848\n",
      "open      5848\n",
      "high      5848\n",
      "low       5848\n",
      "close     5848\n",
      "volume    5848\n",
      "dtype: int64\n",
      "5848\n"
     ]
    }
   ],
   "source": [
    "print(df_n.count())\n",
    "print(len(df_n))"
   ]
  },
  {
   "cell_type": "markdown",
   "metadata": {},
   "source": [
    "#### Normalize the data as sigmoid is proven to be worked better with normalized data"
   ]
  },
  {
   "cell_type": "code",
   "execution_count": 0,
   "metadata": {
    "colab": {
     "base_uri": "https://localhost:8080/",
     "height": 34
    },
    "colab_type": "code",
    "id": "m7xfnu089mVT",
    "outputId": "87eaba93-84d7-4acc-b9b7-b5aa72d93ed1"
   },
   "outputs": [
    {
     "name": "stdout",
     "output_type": "stream",
     "text": [
      "Train and Test size 4678 1170\n"
     ]
    }
   ],
   "source": [
    "train_cols = [\"open\", \"close\",\"volume\"]\n",
    "df_train, df_test = train_test_split(df_n, train_size=0.8, shuffle=False)\n",
    "print(\"Train and Test size\", len(df_train), len(df_test))\n",
    "# scale the feature MinMax, build array\n",
    "x = df_train.loc[:,train_cols].values\n",
    "min_max_scaler = MinMaxScaler()\n",
    "x_train = min_max_scaler.fit_transform(x)\n",
    "x_test = min_max_scaler.transform(df_test.loc[:,train_cols])"
   ]
  },
  {
   "cell_type": "markdown",
   "metadata": {},
   "source": [
    "#### A function to trim the data by the batch size"
   ]
  },
  {
   "cell_type": "code",
   "execution_count": 0,
   "metadata": {
    "colab": {},
    "colab_type": "code",
    "id": "BNG0yC27G0q8"
   },
   "outputs": [],
   "source": [
    "def trim_d(df, batch_size):\n",
    "    n = df.shape[0]%batch_size\n",
    "    if(n > 0):\n",
    "        return df[:-n]\n",
    "    else:\n",
    "        return df"
   ]
  },
  {
   "cell_type": "markdown",
   "metadata": {},
   "source": [
    "#### Select time step or windows to be 12, i.e. a week"
   ]
  },
  {
   "cell_type": "code",
   "execution_count": 0,
   "metadata": {
    "colab": {},
    "colab_type": "code",
    "id": "Su_USL-9HIkj"
   },
   "outputs": [],
   "source": [
    "time_step = 12\n",
    "dim_0 = x_train.shape[0] - time_step\n",
    "dim_1 = x_train.shape[1]\n",
    "train_X = np.empty((dim_0, time_step, dim_1))\n",
    "train_y = np.empty((dim_0,))\n",
    "\n",
    "for i in range(dim_0):\n",
    "    train_X[i] = x_train[i:time_step + i]\n",
    "    train_y[i] = x_train[time_step + i, 1]\n",
    "\n",
    "train_X = trim_d(train_X, 300)\n",
    "train_y = trim_d(train_y, 300)"
   ]
  },
  {
   "cell_type": "code",
   "execution_count": 0,
   "metadata": {
    "colab": {},
    "colab_type": "code",
    "id": "uHsss1wPNRuz"
   },
   "outputs": [],
   "source": [
    "dim_0 = x_test.shape[0] - time_step\n",
    "dim_1 = x_test.shape[1]\n",
    "test_X = np.empty((dim_0, time_step, dim_1))\n",
    "test_y = np.empty((dim_0,))\n",
    "\n",
    "for i in range(dim_0):\n",
    "    test_X[i] = x_test[i:time_step + i]\n",
    "    test_y[i] = x_test[time_step + i, 1]\n",
    "\n",
    "test_X = trim_d(test_X, 300)\n",
    "test_y = trim_d(test_y, 300)"
   ]
  },
  {
   "cell_type": "markdown",
   "metadata": {},
   "source": [
    "#### Established a 4 layers LSTM networks, and using sigmoid function in the output layer. After tuning the hyperparameters, I found RMSprop with a 0.001 learning rate provides the best results, using 20-moving average as the benchmark "
   ]
  },
  {
   "cell_type": "code",
   "execution_count": 0,
   "metadata": {
    "colab": {},
    "colab_type": "code",
    "id": "QBnovwb4JLuz"
   },
   "outputs": [],
   "source": [
    "lstm_model = models.Sequential()\n",
    "lstm_model.add(layers.LSTM(100, batch_input_shape=(300, time_step, train_X.shape[2]),return_sequences = True, dropout=0.0, recurrent_dropout=0.0, stateful=True, kernel_initializer='random_uniform'))\n",
    "lstm_model.add(layers.Dropout(0.2))\n",
    "lstm_model.add(layers.LSTM(30,  return_sequences = True))\n",
    "lstm_model.add(layers.Dropout(0.2))\n",
    "lstm_model.add(layers.LSTM(30, return_sequences = False))\n",
    "lstm_model.add(layers.Dropout(0.2))\n",
    "lstm_model.add(layers.Dense(1,activation='sigmoid'))\n",
    "\n",
    "optimizer = optimizers.RMSprop(lr=0.001)\n",
    "#optimizer = optimizers.Adam()\n",
    "lstm_model.compile(loss='mean_squared_error', optimizer=optimizer)"
   ]
  },
  {
   "cell_type": "code",
   "execution_count": 0,
   "metadata": {
    "colab": {
     "base_uri": "https://localhost:8080/",
     "height": 1000
    },
    "colab_type": "code",
    "id": "ExiU0t-OMo-b",
    "outputId": "b9ae8999-90b0-4537-c7de-1bcf45028276"
   },
   "outputs": [
    {
     "name": "stdout",
     "output_type": "stream",
     "text": [
      "Train on 4500 samples, validate on 900 samples\n",
      "Epoch 1/200\n",
      "4500/4500 [==============================] - 2s 453us/step - loss: 4.1422e-04 - val_loss: 2.0581e-04\n",
      "Epoch 2/200\n",
      "4500/4500 [==============================] - 2s 413us/step - loss: 3.9416e-04 - val_loss: 3.7168e-04\n",
      "Epoch 3/200\n",
      "4500/4500 [==============================] - 2s 405us/step - loss: 6.0814e-04 - val_loss: 2.4383e-04\n",
      "Epoch 4/200\n",
      "4500/4500 [==============================] - 2s 402us/step - loss: 3.4830e-04 - val_loss: 2.2333e-04\n",
      "Epoch 5/200\n",
      "4500/4500 [==============================] - 2s 399us/step - loss: 5.1289e-04 - val_loss: 2.1779e-04\n",
      "Epoch 6/200\n",
      "4500/4500 [==============================] - 2s 401us/step - loss: 3.7621e-04 - val_loss: 2.5293e-04\n",
      "Epoch 7/200\n",
      "4500/4500 [==============================] - 2s 401us/step - loss: 4.9871e-04 - val_loss: 1.7935e-04\n",
      "Epoch 8/200\n",
      "4500/4500 [==============================] - 2s 406us/step - loss: 3.5773e-04 - val_loss: 1.8872e-04\n",
      "Epoch 9/200\n",
      "4500/4500 [==============================] - 2s 397us/step - loss: 3.9208e-04 - val_loss: 1.8463e-04\n",
      "Epoch 10/200\n",
      "4500/4500 [==============================] - 2s 389us/step - loss: 4.9384e-04 - val_loss: 1.7367e-04\n",
      "Epoch 11/200\n",
      "4500/4500 [==============================] - 2s 400us/step - loss: 3.3627e-04 - val_loss: 1.8660e-04\n",
      "Epoch 12/200\n",
      "4500/4500 [==============================] - 2s 401us/step - loss: 3.6476e-04 - val_loss: 1.8160e-04\n",
      "Epoch 13/200\n",
      "4500/4500 [==============================] - 2s 413us/step - loss: 3.6819e-04 - val_loss: 4.5125e-04\n",
      "Epoch 14/200\n",
      "4500/4500 [==============================] - 2s 395us/step - loss: 5.9210e-04 - val_loss: 1.8318e-04\n",
      "Epoch 15/200\n",
      "4500/4500 [==============================] - 2s 400us/step - loss: 6.1749e-04 - val_loss: 2.0665e-04\n",
      "Epoch 16/200\n",
      "4500/4500 [==============================] - 2s 397us/step - loss: 4.8512e-04 - val_loss: 1.6210e-04\n",
      "Epoch 17/200\n",
      "4500/4500 [==============================] - 2s 394us/step - loss: 3.4523e-04 - val_loss: 2.5319e-04\n",
      "Epoch 18/200\n",
      "4500/4500 [==============================] - 2s 399us/step - loss: 5.3145e-04 - val_loss: 2.3220e-04\n",
      "Epoch 19/200\n",
      "4500/4500 [==============================] - 2s 409us/step - loss: 3.8876e-04 - val_loss: 2.2031e-04\n",
      "Epoch 20/200\n",
      "4500/4500 [==============================] - 2s 401us/step - loss: 5.1870e-04 - val_loss: 1.8147e-04\n",
      "Epoch 21/200\n",
      "4500/4500 [==============================] - 2s 394us/step - loss: 3.2017e-04 - val_loss: 1.9197e-04\n",
      "Epoch 22/200\n",
      "4500/4500 [==============================] - 2s 392us/step - loss: 4.8517e-04 - val_loss: 1.6239e-04\n",
      "Epoch 23/200\n",
      "4500/4500 [==============================] - 2s 397us/step - loss: 3.4511e-04 - val_loss: 1.7980e-04\n",
      "Epoch 24/200\n",
      "4500/4500 [==============================] - 2s 411us/step - loss: 3.9642e-04 - val_loss: 1.8074e-04\n",
      "Epoch 25/200\n",
      "4500/4500 [==============================] - 2s 400us/step - loss: 5.0740e-04 - val_loss: 1.9153e-04\n",
      "Epoch 26/200\n",
      "4500/4500 [==============================] - 2s 404us/step - loss: 3.4476e-04 - val_loss: 2.0858e-04\n",
      "Epoch 27/200\n",
      "4500/4500 [==============================] - 2s 398us/step - loss: 5.0801e-04 - val_loss: 1.9929e-04\n",
      "Epoch 28/200\n",
      "4500/4500 [==============================] - 2s 401us/step - loss: 3.3801e-04 - val_loss: 2.4123e-04\n",
      "Epoch 29/200\n",
      "4500/4500 [==============================] - 2s 399us/step - loss: 5.1360e-04 - val_loss: 1.7931e-04\n",
      "Epoch 30/200\n",
      "4500/4500 [==============================] - 2s 410us/step - loss: 3.3897e-04 - val_loss: 2.2282e-04\n",
      "Epoch 31/200\n",
      "4500/4500 [==============================] - 2s 399us/step - loss: 4.5479e-04 - val_loss: 1.6546e-04\n",
      "Epoch 32/200\n",
      "4500/4500 [==============================] - 2s 402us/step - loss: 2.8537e-04 - val_loss: 2.7041e-04\n",
      "Epoch 33/200\n",
      "4500/4500 [==============================] - 2s 394us/step - loss: 4.2173e-04 - val_loss: 1.8421e-04\n",
      "Epoch 34/200\n",
      "4500/4500 [==============================] - 2s 393us/step - loss: 4.0186e-04 - val_loss: 2.5470e-04\n",
      "Epoch 35/200\n",
      "4500/4500 [==============================] - 2s 392us/step - loss: 4.6613e-04 - val_loss: 1.5522e-04\n",
      "Epoch 36/200\n",
      "4500/4500 [==============================] - 2s 407us/step - loss: 3.3581e-04 - val_loss: 2.0283e-04\n",
      "Epoch 37/200\n",
      "4500/4500 [==============================] - 2s 400us/step - loss: 3.8874e-04 - val_loss: 1.9711e-04\n",
      "Epoch 38/200\n",
      "4500/4500 [==============================] - 2s 392us/step - loss: 3.9237e-04 - val_loss: 1.6580e-04\n",
      "Epoch 39/200\n",
      "4500/4500 [==============================] - 2s 395us/step - loss: 3.6845e-04 - val_loss: 1.9340e-04\n",
      "Epoch 40/200\n",
      "4500/4500 [==============================] - 2s 398us/step - loss: 3.7882e-04 - val_loss: 2.8744e-04\n",
      "Epoch 41/200\n",
      "4500/4500 [==============================] - 2s 407us/step - loss: 5.0271e-04 - val_loss: 1.5452e-04\n",
      "Epoch 42/200\n",
      "4500/4500 [==============================] - 2s 405us/step - loss: 3.2163e-04 - val_loss: 1.7118e-04\n",
      "Epoch 43/200\n",
      "4500/4500 [==============================] - 2s 394us/step - loss: 3.4788e-04 - val_loss: 2.5277e-04\n",
      "Epoch 44/200\n",
      "4500/4500 [==============================] - 2s 399us/step - loss: 5.2847e-04 - val_loss: 1.8705e-04\n",
      "Epoch 45/200\n",
      "4500/4500 [==============================] - 2s 404us/step - loss: 3.0859e-04 - val_loss: 2.2101e-04\n",
      "Epoch 46/200\n",
      "4500/4500 [==============================] - 2s 403us/step - loss: 4.7319e-04 - val_loss: 2.2536e-04\n",
      "Epoch 47/200\n",
      "4500/4500 [==============================] - 2s 401us/step - loss: 3.8386e-04 - val_loss: 2.7742e-04\n",
      "Epoch 48/200\n",
      "4500/4500 [==============================] - 2s 401us/step - loss: 4.9243e-04 - val_loss: 1.9736e-04\n",
      "Epoch 49/200\n",
      "4500/4500 [==============================] - 2s 403us/step - loss: 3.1492e-04 - val_loss: 2.5724e-04\n",
      "Epoch 50/200\n",
      "4500/4500 [==============================] - 2s 397us/step - loss: 4.1165e-04 - val_loss: 1.9786e-04\n",
      "Epoch 51/200\n",
      "4500/4500 [==============================] - 2s 400us/step - loss: 3.2690e-04 - val_loss: 2.2541e-04\n",
      "Epoch 52/200\n",
      "4500/4500 [==============================] - 2s 404us/step - loss: 4.4654e-04 - val_loss: 1.5721e-04\n",
      "Epoch 53/200\n",
      "4500/4500 [==============================] - 2s 405us/step - loss: 3.4456e-04 - val_loss: 1.9649e-04\n",
      "Epoch 54/200\n",
      "4500/4500 [==============================] - 2s 407us/step - loss: 4.3974e-04 - val_loss: 3.5207e-04\n",
      "Epoch 55/200\n",
      "4500/4500 [==============================] - 2s 393us/step - loss: 4.8140e-04 - val_loss: 1.5490e-04\n",
      "Epoch 56/200\n",
      "4500/4500 [==============================] - 2s 390us/step - loss: 3.1112e-04 - val_loss: 1.9862e-04\n",
      "Epoch 57/200\n",
      "4500/4500 [==============================] - 2s 398us/step - loss: 3.7200e-04 - val_loss: 1.4761e-04\n",
      "Epoch 58/200\n",
      "4500/4500 [==============================] - 2s 402us/step - loss: 3.4079e-04 - val_loss: 1.9781e-04\n",
      "Epoch 59/200\n",
      "4500/4500 [==============================] - 2s 401us/step - loss: 3.9511e-04 - val_loss: 1.4861e-04\n",
      "Epoch 60/200\n",
      "4500/4500 [==============================] - 2s 395us/step - loss: 3.6920e-04 - val_loss: 2.4483e-04\n",
      "Epoch 61/200\n",
      "4500/4500 [==============================] - 2s 397us/step - loss: 4.7360e-04 - val_loss: 2.4764e-04\n",
      "Epoch 62/200\n",
      "4500/4500 [==============================] - 2s 402us/step - loss: 3.5165e-04 - val_loss: 2.0759e-04\n",
      "Epoch 63/200\n",
      "4500/4500 [==============================] - 2s 395us/step - loss: 4.5340e-04 - val_loss: 1.6625e-04\n",
      "Epoch 64/200\n",
      "4500/4500 [==============================] - 2s 399us/step - loss: 3.3947e-04 - val_loss: 1.7446e-04\n",
      "Epoch 65/200\n",
      "4500/4500 [==============================] - 2s 401us/step - loss: 4.4845e-04 - val_loss: 1.9520e-04\n",
      "Epoch 66/200\n",
      "4500/4500 [==============================] - 2s 398us/step - loss: 3.5531e-04 - val_loss: 2.6568e-04\n",
      "Epoch 67/200\n",
      "4500/4500 [==============================] - 2s 406us/step - loss: 4.7960e-04 - val_loss: 1.7927e-04\n",
      "Epoch 68/200\n",
      "4500/4500 [==============================] - 2s 393us/step - loss: 3.1529e-04 - val_loss: 2.4676e-04\n",
      "Epoch 69/200\n",
      "4500/4500 [==============================] - 2s 398us/step - loss: 4.4099e-04 - val_loss: 1.4854e-04\n",
      "Epoch 70/200\n",
      "4500/4500 [==============================] - 2s 421us/step - loss: 3.1421e-04 - val_loss: 1.7129e-04\n",
      "Epoch 71/200\n",
      "4500/4500 [==============================] - 2s 419us/step - loss: 3.4850e-04 - val_loss: 3.5768e-04\n",
      "Epoch 72/200\n",
      "4500/4500 [==============================] - 2s 414us/step - loss: 5.4861e-04 - val_loss: 1.9674e-04\n",
      "Epoch 73/200\n",
      "4500/4500 [==============================] - 2s 399us/step - loss: 3.2503e-04 - val_loss: 1.9249e-04\n",
      "Epoch 74/200\n",
      "4500/4500 [==============================] - 2s 395us/step - loss: 4.5932e-04 - val_loss: 2.0644e-04\n",
      "Epoch 75/200\n",
      "4500/4500 [==============================] - 2s 399us/step - loss: 3.2359e-04 - val_loss: 1.8612e-04\n",
      "Epoch 76/200\n",
      "4500/4500 [==============================] - 2s 389us/step - loss: 4.6230e-04 - val_loss: 1.4268e-04\n",
      "Epoch 77/200\n",
      "4500/4500 [==============================] - 2s 393us/step - loss: 2.9135e-04 - val_loss: 1.9798e-04\n",
      "Epoch 78/200\n",
      "4500/4500 [==============================] - 2s 401us/step - loss: 3.4229e-04 - val_loss: 1.5766e-04\n",
      "Epoch 79/200\n",
      "4500/4500 [==============================] - 2s 402us/step - loss: 3.8931e-04 - val_loss: 1.4874e-04\n",
      "Epoch 80/200\n",
      "4500/4500 [==============================] - 2s 399us/step - loss: 3.3617e-04 - val_loss: 2.2614e-04\n",
      "Epoch 81/200\n",
      "4500/4500 [==============================] - 2s 403us/step - loss: 4.4848e-04 - val_loss: 1.9411e-04\n",
      "Epoch 82/200\n",
      "4500/4500 [==============================] - 2s 396us/step - loss: 3.4563e-04 - val_loss: 2.4511e-04\n",
      "Epoch 83/200\n",
      "4500/4500 [==============================] - 2s 403us/step - loss: 4.5405e-04 - val_loss: 2.1905e-04\n",
      "Epoch 84/200\n",
      "4500/4500 [==============================] - 2s 403us/step - loss: 3.4586e-04 - val_loss: 1.7356e-04\n",
      "Epoch 85/200\n",
      "4500/4500 [==============================] - 2s 399us/step - loss: 4.0838e-04 - val_loss: 1.5283e-04\n",
      "Epoch 86/200\n",
      "4500/4500 [==============================] - 2s 409us/step - loss: 3.1416e-04 - val_loss: 1.5688e-04\n",
      "Epoch 87/200\n",
      "4500/4500 [==============================] - 2s 405us/step - loss: 3.3711e-04 - val_loss: 2.1694e-04\n",
      "Epoch 88/200\n",
      "4500/4500 [==============================] - 2s 403us/step - loss: 3.7035e-04 - val_loss: 1.6128e-04\n",
      "Epoch 89/200\n",
      "4500/4500 [==============================] - 2s 390us/step - loss: 3.7717e-04 - val_loss: 1.4474e-04\n",
      "Epoch 90/200\n",
      "4500/4500 [==============================] - 2s 403us/step - loss: 3.3876e-04 - val_loss: 2.5294e-04\n",
      "Epoch 91/200\n",
      "4500/4500 [==============================] - 2s 403us/step - loss: 4.3983e-04 - val_loss: 1.5019e-04\n",
      "Epoch 92/200\n",
      "4500/4500 [==============================] - 2s 410us/step - loss: 3.0505e-04 - val_loss: 2.6020e-04\n",
      "Epoch 93/200\n",
      "4500/4500 [==============================] - 2s 403us/step - loss: 4.0174e-04 - val_loss: 1.5300e-04\n",
      "Epoch 94/200\n",
      "4500/4500 [==============================] - 2s 398us/step - loss: 3.2116e-04 - val_loss: 1.8975e-04\n",
      "Epoch 95/200\n",
      "4500/4500 [==============================] - 2s 398us/step - loss: 3.3218e-04 - val_loss: 2.2137e-04\n",
      "Epoch 96/200\n",
      "4500/4500 [==============================] - 2s 398us/step - loss: 4.2470e-04 - val_loss: 1.3902e-04\n",
      "Epoch 97/200\n",
      "4500/4500 [==============================] - 2s 395us/step - loss: 3.1157e-04 - val_loss: 1.9782e-04\n",
      "Epoch 98/200\n",
      "4500/4500 [==============================] - 2s 403us/step - loss: 3.7448e-04 - val_loss: 1.4894e-04\n",
      "Epoch 99/200\n",
      "4500/4500 [==============================] - 2s 395us/step - loss: 3.4243e-04 - val_loss: 2.6089e-04\n",
      "Epoch 100/200\n",
      "4500/4500 [==============================] - 2s 401us/step - loss: 4.3714e-04 - val_loss: 2.5401e-04\n",
      "Epoch 101/200\n",
      "4500/4500 [==============================] - 2s 399us/step - loss: 3.7497e-04 - val_loss: 2.1213e-04\n",
      "Epoch 102/200\n",
      "4500/4500 [==============================] - 2s 391us/step - loss: 4.5968e-04 - val_loss: 2.0789e-04\n",
      "Epoch 103/200\n",
      "4500/4500 [==============================] - 2s 401us/step - loss: 3.1685e-04 - val_loss: 2.0105e-04\n",
      "Epoch 104/200\n",
      "4500/4500 [==============================] - 2s 399us/step - loss: 4.2977e-04 - val_loss: 1.4083e-04\n",
      "Epoch 105/200\n",
      "4500/4500 [==============================] - 2s 394us/step - loss: 3.1597e-04 - val_loss: 1.7109e-04\n",
      "Epoch 106/200\n",
      "4500/4500 [==============================] - 2s 392us/step - loss: 3.1057e-04 - val_loss: 2.5535e-04\n",
      "Epoch 107/200\n",
      "4500/4500 [==============================] - 2s 396us/step - loss: 4.4098e-04 - val_loss: 2.5936e-04\n",
      "Epoch 108/200\n",
      "4500/4500 [==============================] - 2s 397us/step - loss: 3.2861e-04 - val_loss: 1.5873e-04\n",
      "Epoch 109/200\n",
      "4500/4500 [==============================] - 2s 400us/step - loss: 4.4045e-04 - val_loss: 1.7357e-04\n",
      "Epoch 110/200\n",
      "4500/4500 [==============================] - 2s 387us/step - loss: 3.1680e-04 - val_loss: 1.9975e-04\n",
      "Epoch 111/200\n",
      "4500/4500 [==============================] - 2s 403us/step - loss: 4.5752e-04 - val_loss: 1.9508e-04\n",
      "Epoch 112/200\n",
      "4500/4500 [==============================] - 2s 395us/step - loss: 3.3133e-04 - val_loss: 1.6653e-04\n",
      "Epoch 113/200\n",
      "4500/4500 [==============================] - 2s 400us/step - loss: 4.0251e-04 - val_loss: 1.4561e-04\n",
      "Epoch 114/200\n",
      "4500/4500 [==============================] - 2s 393us/step - loss: 3.2999e-04 - val_loss: 1.9892e-04\n",
      "Epoch 115/200\n",
      "4500/4500 [==============================] - 2s 400us/step - loss: 3.9983e-04 - val_loss: 1.3954e-04\n",
      "Epoch 116/200\n",
      "4500/4500 [==============================] - 2s 391us/step - loss: 3.0933e-04 - val_loss: 2.0455e-04\n",
      "Epoch 117/200\n",
      "4500/4500 [==============================] - 2s 396us/step - loss: 3.8042e-04 - val_loss: 1.7969e-04\n",
      "Epoch 118/200\n",
      "4500/4500 [==============================] - 2s 393us/step - loss: 3.9786e-04 - val_loss: 1.8441e-04\n",
      "Epoch 119/200\n",
      "4500/4500 [==============================] - 2s 395us/step - loss: 0.0031 - val_loss: 4.3840e-04\n",
      "Epoch 120/200\n",
      "4500/4500 [==============================] - 2s 402us/step - loss: 0.0011 - val_loss: 3.4421e-04\n",
      "Epoch 121/200\n",
      "4500/4500 [==============================] - 2s 396us/step - loss: 0.0010 - val_loss: 3.7071e-04\n",
      "Epoch 122/200\n",
      "4500/4500 [==============================] - 2s 389us/step - loss: 9.2315e-04 - val_loss: 2.0773e-04\n",
      "Epoch 123/200\n",
      "4500/4500 [==============================] - 2s 390us/step - loss: 5.8797e-04 - val_loss: 1.7285e-04\n",
      "Epoch 124/200\n",
      "4500/4500 [==============================] - 2s 414us/step - loss: 4.9964e-04 - val_loss: 1.4923e-04\n",
      "Epoch 125/200\n",
      "4500/4500 [==============================] - 2s 408us/step - loss: 2.7859e-04 - val_loss: 1.5923e-04\n",
      "Epoch 126/200\n",
      "4500/4500 [==============================] - 2s 415us/step - loss: 4.0924e-04 - val_loss: 2.0640e-04\n",
      "Epoch 127/200\n",
      "4500/4500 [==============================] - 2s 405us/step - loss: 3.4529e-04 - val_loss: 1.6762e-04\n",
      "Epoch 128/200\n",
      "4500/4500 [==============================] - 2s 406us/step - loss: 4.8518e-04 - val_loss: 2.0020e-04\n",
      "Epoch 129/200\n",
      "4500/4500 [==============================] - 2s 407us/step - loss: 5.3593e-04 - val_loss: 1.4319e-04\n",
      "Epoch 130/200\n",
      "4500/4500 [==============================] - 2s 393us/step - loss: 5.1953e-04 - val_loss: 1.6957e-04\n",
      "Epoch 131/200\n",
      "4500/4500 [==============================] - 2s 394us/step - loss: 4.1089e-04 - val_loss: 1.4794e-04\n",
      "Epoch 132/200\n",
      "4500/4500 [==============================] - 2s 406us/step - loss: 3.6573e-04 - val_loss: 2.1525e-04\n",
      "Epoch 133/200\n",
      "4500/4500 [==============================] - 2s 394us/step - loss: 4.3890e-04 - val_loss: 2.0533e-04\n",
      "Epoch 134/200\n",
      "4500/4500 [==============================] - 2s 426us/step - loss: 4.5234e-04 - val_loss: 2.3402e-04\n",
      "Epoch 135/200\n",
      "4500/4500 [==============================] - 2s 401us/step - loss: 4.6517e-04 - val_loss: 1.4790e-04\n",
      "Epoch 136/200\n",
      "4500/4500 [==============================] - 2s 397us/step - loss: 3.1245e-04 - val_loss: 2.1068e-04\n",
      "Epoch 137/200\n",
      "4500/4500 [==============================] - 2s 403us/step - loss: 4.2581e-04 - val_loss: 1.8989e-04\n",
      "Epoch 138/200\n",
      "4500/4500 [==============================] - 2s 392us/step - loss: 3.4143e-04 - val_loss: 1.9225e-04\n",
      "Epoch 139/200\n",
      "4500/4500 [==============================] - 2s 398us/step - loss: 4.3181e-04 - val_loss: 1.9445e-04\n",
      "Epoch 140/200\n",
      "4500/4500 [==============================] - 2s 393us/step - loss: 3.1278e-04 - val_loss: 2.0984e-04\n",
      "Epoch 141/200\n",
      "4500/4500 [==============================] - 2s 394us/step - loss: 4.8213e-04 - val_loss: 1.8565e-04\n",
      "Epoch 142/200\n",
      "4500/4500 [==============================] - 2s 389us/step - loss: 3.0259e-04 - val_loss: 1.7596e-04\n",
      "Epoch 143/200\n",
      "4500/4500 [==============================] - 2s 399us/step - loss: 3.8555e-04 - val_loss: 1.7704e-04\n",
      "Epoch 144/200\n",
      "4500/4500 [==============================] - 2s 391us/step - loss: 3.0772e-04 - val_loss: 1.7775e-04\n",
      "Epoch 145/200\n",
      "4500/4500 [==============================] - 2s 400us/step - loss: 4.7503e-04 - val_loss: 2.1645e-04\n",
      "Epoch 146/200\n",
      "4500/4500 [==============================] - 2s 394us/step - loss: 3.2274e-04 - val_loss: 1.8396e-04\n",
      "Epoch 147/200\n",
      "4500/4500 [==============================] - 2s 395us/step - loss: 4.7115e-04 - val_loss: 1.8619e-04\n",
      "Epoch 148/200\n",
      "4500/4500 [==============================] - 2s 395us/step - loss: 3.1834e-04 - val_loss: 1.4243e-04\n",
      "Epoch 149/200\n",
      "4500/4500 [==============================] - 2s 406us/step - loss: 3.9533e-04 - val_loss: 1.7149e-04\n",
      "Epoch 150/200\n",
      "4500/4500 [==============================] - 2s 396us/step - loss: 3.0929e-04 - val_loss: 2.3489e-04\n",
      "Epoch 151/200\n",
      "4500/4500 [==============================] - 2s 394us/step - loss: 4.3634e-04 - val_loss: 1.3948e-04\n",
      "Epoch 152/200\n",
      "4500/4500 [==============================] - 2s 390us/step - loss: 2.7787e-04 - val_loss: 2.1891e-04\n",
      "Epoch 153/200\n",
      "4500/4500 [==============================] - 2s 389us/step - loss: 3.3959e-04 - val_loss: 1.7659e-04\n",
      "Epoch 154/200\n",
      "4500/4500 [==============================] - 2s 401us/step - loss: 3.8933e-04 - val_loss: 1.8464e-04\n",
      "Epoch 155/200\n",
      "4500/4500 [==============================] - 2s 393us/step - loss: 3.8997e-04 - val_loss: 1.5600e-04\n",
      "Epoch 156/200\n",
      "4500/4500 [==============================] - 2s 388us/step - loss: 3.9936e-04 - val_loss: 1.6540e-04\n",
      "Epoch 157/200\n",
      "4500/4500 [==============================] - 2s 391us/step - loss: 7.4112e-04 - val_loss: 3.4565e-04\n",
      "Epoch 158/200\n",
      "4500/4500 [==============================] - 2s 397us/step - loss: 6.1693e-04 - val_loss: 1.8159e-04\n",
      "Epoch 159/200\n",
      "4500/4500 [==============================] - 2s 394us/step - loss: 4.1040e-04 - val_loss: 2.4199e-04\n",
      "Epoch 160/200\n",
      "4500/4500 [==============================] - 2s 402us/step - loss: 4.7314e-04 - val_loss: 1.7700e-04\n",
      "Epoch 161/200\n",
      "4500/4500 [==============================] - 2s 390us/step - loss: 3.2091e-04 - val_loss: 2.0666e-04\n",
      "Epoch 162/200\n",
      "4500/4500 [==============================] - 2s 398us/step - loss: 4.1534e-04 - val_loss: 1.7348e-04\n",
      "Epoch 163/200\n",
      "4500/4500 [==============================] - 2s 399us/step - loss: 3.5839e-04 - val_loss: 1.9282e-04\n",
      "Epoch 164/200\n",
      "4500/4500 [==============================] - 2s 395us/step - loss: 4.1507e-04 - val_loss: 1.7796e-04\n",
      "Epoch 165/200\n",
      "4500/4500 [==============================] - 2s 400us/step - loss: 3.2439e-04 - val_loss: 1.4603e-04\n",
      "Epoch 166/200\n",
      "4500/4500 [==============================] - 2s 409us/step - loss: 4.0323e-04 - val_loss: 2.1798e-04\n",
      "Epoch 167/200\n",
      "4500/4500 [==============================] - 2s 400us/step - loss: 3.5613e-04 - val_loss: 2.4806e-04\n",
      "Epoch 168/200\n",
      "4500/4500 [==============================] - 2s 392us/step - loss: 4.3756e-04 - val_loss: 1.8926e-04\n",
      "Epoch 169/200\n",
      "4500/4500 [==============================] - 2s 396us/step - loss: 3.3301e-04 - val_loss: 2.1877e-04\n",
      "Epoch 170/200\n",
      "4500/4500 [==============================] - 2s 394us/step - loss: 4.5221e-04 - val_loss: 1.6268e-04\n",
      "Epoch 171/200\n",
      "4500/4500 [==============================] - 2s 405us/step - loss: 9.7067e-04 - val_loss: 1.9334e-04\n",
      "Epoch 172/200\n",
      "4500/4500 [==============================] - 2s 391us/step - loss: 7.1488e-04 - val_loss: 2.2558e-04\n",
      "Epoch 173/200\n",
      "4500/4500 [==============================] - 2s 398us/step - loss: 0.0015 - val_loss: 2.0150e-04\n",
      "Epoch 174/200\n",
      "4500/4500 [==============================] - 2s 395us/step - loss: 4.5059e-04 - val_loss: 2.3741e-04\n",
      "Epoch 175/200\n",
      "4500/4500 [==============================] - 2s 392us/step - loss: 5.0218e-04 - val_loss: 1.8644e-04\n",
      "Epoch 176/200\n",
      "4500/4500 [==============================] - 2s 396us/step - loss: 3.2905e-04 - val_loss: 2.2092e-04\n",
      "Epoch 177/200\n",
      "4500/4500 [==============================] - 2s 400us/step - loss: 3.9866e-04 - val_loss: 2.1815e-04\n",
      "Epoch 178/200\n",
      "4500/4500 [==============================] - 2s 401us/step - loss: 3.7016e-04 - val_loss: 2.2926e-04\n",
      "Epoch 179/200\n",
      "4500/4500 [==============================] - 2s 398us/step - loss: 4.0808e-04 - val_loss: 1.7034e-04\n",
      "Epoch 180/200\n",
      "4500/4500 [==============================] - 2s 394us/step - loss: 3.6554e-04 - val_loss: 2.4118e-04\n",
      "Epoch 181/200\n",
      "4500/4500 [==============================] - 2s 395us/step - loss: 4.2907e-04 - val_loss: 2.0910e-04\n",
      "Epoch 182/200\n",
      "4500/4500 [==============================] - 2s 396us/step - loss: 3.2464e-04 - val_loss: 1.4669e-04\n",
      "Epoch 183/200\n",
      "4500/4500 [==============================] - 2s 397us/step - loss: 3.9894e-04 - val_loss: 2.0765e-04\n",
      "Epoch 184/200\n",
      "4500/4500 [==============================] - 2s 393us/step - loss: 3.4372e-04 - val_loss: 2.1093e-04\n",
      "Epoch 185/200\n",
      "4500/4500 [==============================] - 2s 393us/step - loss: 4.4190e-04 - val_loss: 2.0105e-04\n",
      "Epoch 186/200\n",
      "4500/4500 [==============================] - 2s 400us/step - loss: 2.9544e-04 - val_loss: 1.6301e-04\n",
      "Epoch 187/200\n",
      "4500/4500 [==============================] - 2s 390us/step - loss: 3.9530e-04 - val_loss: 2.1292e-04\n",
      "Epoch 188/200\n",
      "4500/4500 [==============================] - 2s 408us/step - loss: 3.1245e-04 - val_loss: 1.6096e-04\n",
      "Epoch 189/200\n",
      "4500/4500 [==============================] - 2s 393us/step - loss: 3.9366e-04 - val_loss: 1.2878e-04\n",
      "Epoch 190/200\n",
      "4500/4500 [==============================] - 2s 392us/step - loss: 2.9780e-04 - val_loss: 1.5844e-04\n",
      "Epoch 191/200\n",
      "4500/4500 [==============================] - 2s 396us/step - loss: 3.4722e-04 - val_loss: 1.9879e-04\n",
      "Epoch 192/200\n",
      "4500/4500 [==============================] - 2s 394us/step - loss: 3.7362e-04 - val_loss: 2.6569e-04\n",
      "Epoch 193/200\n",
      "4500/4500 [==============================] - 2s 396us/step - loss: 4.0988e-04 - val_loss: 1.3062e-04\n",
      "Epoch 194/200\n",
      "4500/4500 [==============================] - 2s 406us/step - loss: 2.7734e-04 - val_loss: 1.4636e-04\n",
      "Epoch 195/200\n",
      "4500/4500 [==============================] - 2s 395us/step - loss: 3.2678e-04 - val_loss: 1.3505e-04\n",
      "Epoch 196/200\n",
      "4500/4500 [==============================] - 2s 392us/step - loss: 3.2231e-04 - val_loss: 2.2325e-04\n",
      "Epoch 197/200\n",
      "4500/4500 [==============================] - 2s 395us/step - loss: 4.2015e-04 - val_loss: 1.3042e-04\n",
      "Epoch 198/200\n",
      "4500/4500 [==============================] - 2s 393us/step - loss: 2.8330e-04 - val_loss: 1.6517e-04\n",
      "Epoch 199/200\n",
      "4500/4500 [==============================] - 2s 392us/step - loss: 3.6274e-04 - val_loss: 1.5318e-04\n",
      "Epoch 200/200\n",
      "4500/4500 [==============================] - 2s 408us/step - loss: 3.5692e-04 - val_loss: 2.3046e-04\n"
     ]
    }
   ],
   "source": [
    "history = lstm_model.fit(train_X, train_y, epochs=200, verbose=1, batch_size=300,shuffle=False, validation_data=(test_X,test_y))"
   ]
  },
  {
   "cell_type": "code",
   "execution_count": 0,
   "metadata": {
    "colab": {},
    "colab_type": "code",
    "id": "JaY4oAxMBpF1"
   },
   "outputs": [],
   "source": [
    "lstm_model.save_weights('lstm_model.h5')"
   ]
  },
  {
   "cell_type": "code",
   "execution_count": 0,
   "metadata": {
    "colab": {},
    "colab_type": "code",
    "id": "2gUbeH0rZDZh"
   },
   "outputs": [],
   "source": [
    "lstm_model.save('my_model.h5')"
   ]
  },
  {
   "cell_type": "code",
   "execution_count": 0,
   "metadata": {
    "colab": {
     "base_uri": "https://localhost:8080/",
     "height": 139
    },
    "colab_type": "code",
    "id": "1z_Y2e3PU8jV",
    "outputId": "fb20ed24-7a90-4a7e-a3f0-b93754409e05"
   },
   "outputs": [
    {
     "name": "stderr",
     "output_type": "stream",
     "text": [
      "/usr/local/lib/python3.6/dist-packages/ipykernel_launcher.py:1: SettingWithCopyWarning: \n",
      "A value is trying to be set on a copy of a slice from a DataFrame.\n",
      "Try using .loc[row_indexer,col_indexer] = value instead\n",
      "\n",
      "See the caveats in the documentation: http://pandas.pydata.org/pandas-docs/stable/user_guide/indexing.html#returning-a-view-versus-a-copy\n",
      "  \"\"\"Entry point for launching an IPython kernel.\n"
     ]
    }
   ],
   "source": [
    "df_n['SMA'] = df.iloc[:,4].rolling(window=20).mean()"
   ]
  },
  {
   "cell_type": "code",
   "execution_count": 0,
   "metadata": {
    "colab": {
     "base_uri": "https://localhost:8080/",
     "height": 153
    },
    "colab_type": "code",
    "id": "kg9qTBvFVeOW",
    "outputId": "a5808e68-6a2a-4612-e370-1a9ed772106d"
   },
   "outputs": [
    {
     "data": {
      "text/plain": [
       "date      2015-11-23 06:00:00\n",
       "open                   321.83\n",
       "high                   324.79\n",
       "low                    320.39\n",
       "close                   324.7\n",
       "volume                1194.39\n",
       "SMA                   326.119\n",
       "Name: 6127, dtype: object"
      ]
     },
     "execution_count": 54,
     "metadata": {
      "tags": []
     },
     "output_type": "execute_result"
    }
   ],
   "source": [
    "df_n.iloc[127,]"
   ]
  },
  {
   "cell_type": "code",
   "execution_count": 0,
   "metadata": {
    "colab": {
     "base_uri": "https://localhost:8080/",
     "height": 139
    },
    "colab_type": "code",
    "id": "daVQsqs3VoT9",
    "outputId": "3c096110-e7c4-418a-e805-2e3335081bc7"
   },
   "outputs": [
    {
     "name": "stderr",
     "output_type": "stream",
     "text": [
      "/usr/local/lib/python3.6/dist-packages/ipykernel_launcher.py:2: SettingWithCopyWarning: \n",
      "A value is trying to be set on a copy of a slice from a DataFrame.\n",
      "Try using .loc[row_indexer,col_indexer] = value instead\n",
      "\n",
      "See the caveats in the documentation: http://pandas.pydata.org/pandas-docs/stable/user_guide/indexing.html#returning-a-view-versus-a-copy\n",
      "  \n"
     ]
    }
   ],
   "source": [
    "df_t = df_n.iloc[-1116:,]\n",
    "df_t['SMA'] = df.iloc[:,4].rolling(window=20).mean()"
   ]
  },
  {
   "cell_type": "code",
   "execution_count": 0,
   "metadata": {
    "colab": {},
    "colab_type": "code",
    "id": "89Yz2RN4WnZ0"
   },
   "outputs": [],
   "source": [
    "from sklearn.metrics import mean_squared_error"
   ]
  },
  {
   "cell_type": "code",
   "execution_count": 0,
   "metadata": {
    "colab": {
     "base_uri": "https://localhost:8080/",
     "height": 296
    },
    "colab_type": "code",
    "id": "nr5wTmkoW_fP",
    "outputId": "437463ac-7250-40fe-9025-b0320eb808f9"
   },
   "outputs": [
    {
     "data": {
      "text/plain": [
       "<matplotlib.legend.Legend at 0x7f480fbffcc0>"
      ]
     },
     "execution_count": 293,
     "metadata": {
      "tags": []
     },
     "output_type": "execute_result"
    },
    {
     "data": {
      "image/png": "[encoded data removed]",
      "text/plain": [
       "<Figure size 864x288 with 1 Axes>"
      ]
     },
     "metadata": {
      "tags": []
     },
     "output_type": "display_data"
    }
   ],
   "source": [
    "fig = plt.figure(figsize=(12,4))\n",
    "ax0 = fig.add_subplot(121)\n",
    "ax0.plot(history.history['val_loss'], label='validation loss')\n",
    "ax0.plot(history.history['loss'], label='training loss')\n",
    "ax0.set_ylabel('Loss')\n",
    "ax0.set_xlabel('Epoch')\n",
    "ax0.legend()"
   ]
  },
  {
   "cell_type": "code",
   "execution_count": 0,
   "metadata": {
    "colab": {
     "base_uri": "https://localhost:8080/",
     "height": 34
    },
    "colab_type": "code",
    "id": "6HuKMwn7Os-5",
    "outputId": "fe711112-3378-41db-9065-ba7ffa435d19"
   },
   "outputs": [
    {
     "name": "stdout",
     "output_type": "stream",
     "text": [
      "1104\n"
     ]
    }
   ],
   "source": [
    "df_test = df_t.drop(columns = [\"date\", \"high\", \"low\", \"SMA\"])\n",
    "df_test = min_max_scaler.transform(df_test)\n",
    "d0 = df_test.shape[0] - time_step\n",
    "d1 = df_test.shape[1]\n",
    "test_s = np.empty((d0, time_step, d1))\n",
    "for i in range(d0):\n",
    "    test_s[i] = df_test[i:time_step + i]\n",
    "print(len(test_s))"
   ]
  },
  {
   "cell_type": "code",
   "execution_count": 0,
   "metadata": {
    "colab": {},
    "colab_type": "code",
    "id": "xt9vUGs_oqos"
   },
   "outputs": [],
   "source": [
    "test = trim_d(test_s, 300)"
   ]
  },
  {
   "cell_type": "code",
   "execution_count": 0,
   "metadata": {
    "colab": {},
    "colab_type": "code",
    "id": "fHUOt-d_elxQ"
   },
   "outputs": [],
   "source": [
    "\n",
    "lst = lstm_model.predict(test, batch_size=300)\n"
   ]
  },
  {
   "cell_type": "code",
   "execution_count": 0,
   "metadata": {
    "colab": {},
    "colab_type": "code",
    "id": "Et2WN_EkSdnE"
   },
   "outputs": [],
   "source": [
    "\n",
    "#pred = min_max_scaler.inverse_transform(lst)\n",
    "pred = (lst * min_max_scaler.data_range_[1]) + min_max_scaler.data_min_[1]"
   ]
  },
  {
   "cell_type": "code",
   "execution_count": 0,
   "metadata": {
    "colab": {
     "base_uri": "https://localhost:8080/",
     "height": 265
    },
    "colab_type": "code",
    "id": "npUgCeMDoOrh",
    "outputId": "7f760731-5f4a-4f3a-bd33-92ad354901ca"
   },
   "outputs": [
    {
     "data": {
      "image/png": "[encoded data removed]",
      "text/plain": [
       "<Figure size 432x288 with 1 Axes>"
      ]
     },
     "metadata": {
      "tags": []
     },
     "output_type": "display_data"
    }
   ],
   "source": [
    "#plt.plot(range(len(df_t.SMA)), df_t.SMA, c = \"green\")\n",
    "plt.plot(range(len(df_t.SMA)), df_t.close, c = \"red\")\n",
    "plt.plot(range(len(lst)), pred, c = \"blue\")\n",
    "plt.show()"
   ]
  },
  {
   "cell_type": "code",
   "execution_count": 0,
   "metadata": {
    "colab": {
     "base_uri": "https://localhost:8080/",
     "height": 34
    },
    "colab_type": "code",
    "id": "q8R3hzzdrfh2",
    "outputId": "55bbe02c-d0dd-4b9a-dbd3-89730bfd869d"
   },
   "outputs": [
    {
     "data": {
      "text/plain": [
       "900"
      ]
     },
     "execution_count": 303,
     "metadata": {
      "tags": []
     },
     "output_type": "execute_result"
    }
   ],
   "source": [
    "t = df_t[-len(test_s):-(len(test_s) - len(lst))]\n",
    "len(t)"
   ]
  },
  {
   "cell_type": "markdown",
   "metadata": {},
   "source": [
    "#### This nerural network has a 92103 MSE on the test set, outperforming the MA with 168252 SME."
   ]
  },
  {
   "cell_type": "code",
   "execution_count": 0,
   "metadata": {
    "colab": {
     "base_uri": "https://localhost:8080/",
     "height": 156
    },
    "colab_type": "code",
    "id": "sbzl1VRdriFQ",
    "outputId": "6bb0c849-5183-443c-bdd8-85e095e435a6"
   },
   "outputs": [
    {
     "name": "stderr",
     "output_type": "stream",
     "text": [
      "/usr/local/lib/python3.6/dist-packages/ipykernel_launcher.py:1: SettingWithCopyWarning: \n",
      "A value is trying to be set on a copy of a slice from a DataFrame.\n",
      "Try using .loc[row_indexer,col_indexer] = value instead\n",
      "\n",
      "See the caveats in the documentation: http://pandas.pydata.org/pandas-docs/stable/user_guide/indexing.html#returning-a-view-versus-a-copy\n",
      "  \"\"\"Entry point for launching an IPython kernel.\n"
     ]
    },
    {
     "data": {
      "text/plain": [
       "92103.97470556728"
      ]
     },
     "execution_count": 389,
     "metadata": {
      "tags": []
     },
     "output_type": "execute_result"
    }
   ],
   "source": [
    "t[\"pred\"] = pred\n",
    "mean_squared_error(t.close, t.pred)"
   ]
  },
  {
   "cell_type": "code",
   "execution_count": 0,
   "metadata": {
    "colab": {
     "base_uri": "https://localhost:8080/",
     "height": 34
    },
    "colab_type": "code",
    "id": "MXudOKBVruQX",
    "outputId": "23d701fd-91c8-4208-c71f-a33f6bf8b6e6"
   },
   "outputs": [
    {
     "data": {
      "text/plain": [
       "168252.1796985026"
      ]
     },
     "execution_count": 292,
     "metadata": {
      "tags": []
     },
     "output_type": "execute_result"
    }
   ],
   "source": [
    "mean_squared_error(t.close, t.SMA)"
   ]
  },
  {
   "cell_type": "code",
   "execution_count": 0,
   "metadata": {
    "colab": {},
    "colab_type": "code",
    "id": "6NJPH6uEUcPq"
   },
   "outputs": [],
   "source": []
  }
 ],
 "metadata": {
  "accelerator": "TPU",
  "colab": {
   "name": "Untitled1.ipynb",
   "provenance": []
  },
  "kernelspec": {
   "display_name": "Python 3",
   "language": "python",
   "name": "python3"
  },
  "language_info": {
   "codemirror_mode": {
    "name": "ipython",
    "version": 3
   },
   "file_extension": ".py",
   "mimetype": "text/x-python",
   "name": "python",
   "nbconvert_exporter": "python",
   "pygments_lexer": "ipython3",
   "version": "3.7.3"
  }
 },
 "nbformat": 4,
 "nbformat_minor": 1
}
